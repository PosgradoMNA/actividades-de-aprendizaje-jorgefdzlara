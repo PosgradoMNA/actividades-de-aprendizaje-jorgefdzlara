{
  "cells": [
    {
      "cell_type": "markdown",
      "metadata": {
        "id": "view-in-github",
        "colab_type": "text"
      },
      "source": [
        "<a href=\"https://colab.research.google.com/github/PosgradoMNA/actividades-de-aprendizaje-jorgefdzlara/blob/main/Jorge_Fernandez_A01793062_Apuntes_Python_IBM_Mod_5.ipynb\" target=\"_parent\"><img src=\"https://colab.research.google.com/assets/colab-badge.svg\" alt=\"Open In Colab\"/></a>"
      ]
    },
    {
      "cell_type": "markdown",
      "id": "a48a5cd5",
      "metadata": {
        "id": "a48a5cd5"
      },
      "source": [
        "**Módulo 5**"
      ]
    },
    {
      "cell_type": "markdown",
      "id": "a0d8f987",
      "metadata": {
        "id": "a0d8f987"
      },
      "source": [
        "Conocer un arreglo en Numply.\n",
        "Primero importar la librería de Numpy"
      ]
    },
    {
      "cell_type": "code",
      "execution_count": null,
      "id": "53bfa9af",
      "metadata": {
        "id": "53bfa9af"
      },
      "outputs": [],
      "source": [
        "import numpy as np\n"
      ]
    },
    {
      "cell_type": "markdown",
      "id": "b6577356",
      "metadata": {
        "id": "b6577356"
      },
      "source": [
        "Cambiar una lista a un arreglo de Numpy"
      ]
    },
    {
      "cell_type": "code",
      "execution_count": null,
      "id": "85bc2b21",
      "metadata": {
        "id": "85bc2b21"
      },
      "outputs": [],
      "source": [
        "a=[1,2,3,4,5]\n",
        "x=np.array(a)"
      ]
    },
    {
      "cell_type": "markdown",
      "id": "6926bc1c",
      "metadata": {
        "id": "6926bc1c"
      },
      "source": [
        "¿Cuál es el tipo de \"X\"?"
      ]
    },
    {
      "cell_type": "code",
      "execution_count": null,
      "id": "53f1197d",
      "metadata": {
        "id": "53f1197d",
        "outputId": "43bc5e78-264e-4b13-aa54-483c8548715b"
      },
      "outputs": [
        {
          "data": {
            "text/plain": [
              "numpy.ndarray"
            ]
          },
          "execution_count": 4,
          "metadata": {},
          "output_type": "execute_result"
        }
      ],
      "source": [
        "type(x)"
      ]
    },
    {
      "cell_type": "markdown",
      "id": "19c813ae",
      "metadata": {
        "id": "19c813ae"
      },
      "source": [
        "¿Cuál es la forma de \"X\"?"
      ]
    },
    {
      "cell_type": "code",
      "execution_count": null,
      "id": "776861c3",
      "metadata": {
        "id": "776861c3",
        "outputId": "29f8ab4f-bc59-4efa-dbab-bee3a3e3c355"
      },
      "outputs": [
        {
          "data": {
            "text/plain": [
              "(5,)"
            ]
          },
          "execution_count": 5,
          "metadata": {},
          "output_type": "execute_result"
        }
      ],
      "source": [
        "x.shape"
      ]
    },
    {
      "cell_type": "markdown",
      "id": "926780ba",
      "metadata": {
        "id": "926780ba"
      },
      "source": [
        "¿De qué tipo son los datos en \"X\"?"
      ]
    },
    {
      "cell_type": "code",
      "execution_count": null,
      "id": "d3ae2d7d",
      "metadata": {
        "id": "d3ae2d7d",
        "outputId": "816e713f-d167-4791-a4d5-e47c618f1e71"
      },
      "outputs": [
        {
          "data": {
            "text/plain": [
              "dtype('int32')"
            ]
          },
          "execution_count": 6,
          "metadata": {},
          "output_type": "execute_result"
        }
      ],
      "source": [
        "x.dtype"
      ]
    },
    {
      "cell_type": "markdown",
      "id": "a8a99ee3",
      "metadata": {
        "id": "a8a99ee3"
      },
      "source": [
        "¿Cuál es el promedio del arreglo?"
      ]
    },
    {
      "cell_type": "code",
      "execution_count": null,
      "id": "513cb89d",
      "metadata": {
        "id": "513cb89d",
        "outputId": "40c268f6-78f5-4c82-ad27-e60fd3642acb"
      },
      "outputs": [
        {
          "data": {
            "text/plain": [
              "3.0"
            ]
          },
          "execution_count": 7,
          "metadata": {},
          "output_type": "execute_result"
        }
      ],
      "source": [
        "x.mean()"
      ]
    },
    {
      "cell_type": "markdown",
      "id": "897a12b3",
      "metadata": {
        "id": "897a12b3"
      },
      "source": [
        "**Lab de uso de Numpy**"
      ]
    },
    {
      "cell_type": "markdown",
      "id": "efd562fa",
      "metadata": {
        "id": "efd562fa"
      },
      "source": [
        "Crea una lista de Numpy:"
      ]
    },
    {
      "cell_type": "code",
      "execution_count": null,
      "id": "65d0ebe5",
      "metadata": {
        "id": "65d0ebe5"
      },
      "outputs": [],
      "source": [
        "a = [\"0\", 1, \"two\", \"3\", 4]"
      ]
    },
    {
      "cell_type": "markdown",
      "id": "6f23af1e",
      "metadata": {
        "id": "6f23af1e"
      },
      "source": [
        "Imprime cada elemento:"
      ]
    },
    {
      "cell_type": "code",
      "execution_count": null,
      "id": "5d482aa3",
      "metadata": {
        "id": "5d482aa3",
        "outputId": "a1ae549e-a9ad-4ee1-8270-9463dc92fe70"
      },
      "outputs": [
        {
          "name": "stdout",
          "output_type": "stream",
          "text": [
            "a[0]: 0\n",
            "a[1]: 1\n",
            "a[2]: two\n",
            "a[3]: 3\n",
            "a[4]: 4\n"
          ]
        }
      ],
      "source": [
        "print(\"a[0]:\", a[0])\n",
        "print(\"a[1]:\", a[1])\n",
        "print(\"a[2]:\", a[2])\n",
        "print(\"a[3]:\", a[3])\n",
        "print(\"a[4]:\", a[4])"
      ]
    },
    {
      "cell_type": "markdown",
      "id": "926e3dcd",
      "metadata": {
        "id": "926e3dcd"
      },
      "source": [
        "**¿Qué es Numpy?**\n",
        "\n",
        "NumPy es una librería de Python utilizada para trabajar con arreglos, Álgebra lineal, transformadas de Fourier y matrices. Un arreglo de numpy es similar a una lista. NumPy significa \"Numerical Python\" y es un proyecto de código abierto. El arreglo en Numpy es llamado ndarray y provee muchas funciones de soporte que hacen el trabajo con ndarray muy sencillo.\n",
        "\n",
        "Es utilizado frecuentemente en la ciencia de datos, donde la velocidad y recursos son muy importantes.\n",
        "\n",
        "NumPy es importado usualmente utilizando el alias np.\n",
        "\n",
        "Usialmente está ajustado en el tamaño y cada elemento es del mismo tipo. Podemos llamar una lista a un arreglo de numpy primero importando numpy:"
      ]
    },
    {
      "cell_type": "code",
      "execution_count": null,
      "id": "8f296bc2",
      "metadata": {
        "id": "8f296bc2"
      },
      "outputs": [],
      "source": [
        "import numpy as np "
      ]
    },
    {
      "cell_type": "markdown",
      "id": "dd832589",
      "metadata": {
        "id": "dd832589"
      },
      "source": [
        "Posteriormente llamamos la lista como sigue:"
      ]
    },
    {
      "cell_type": "code",
      "execution_count": null,
      "id": "8584bbf0",
      "metadata": {
        "id": "8584bbf0",
        "outputId": "6b756ed3-4d76-44cc-cd34-cb9dd01338b7"
      },
      "outputs": [
        {
          "data": {
            "text/plain": [
              "array([0, 1, 2, 3, 4])"
            ]
          },
          "execution_count": 11,
          "metadata": {},
          "output_type": "execute_result"
        }
      ],
      "source": [
        "a = np.array([0, 1, 2, 3, 4])\n",
        "a"
      ]
    },
    {
      "cell_type": "markdown",
      "id": "dfff7a72",
      "metadata": {
        "id": "dfff7a72"
      },
      "source": [
        "de la misma forma que las listas, podemos acceder a cada elemento con los corchetes:"
      ]
    },
    {
      "cell_type": "code",
      "execution_count": null,
      "id": "dd731898",
      "metadata": {
        "id": "dd731898",
        "outputId": "2949a02e-bb17-4b72-af7b-5a4578d7d2b3"
      },
      "outputs": [
        {
          "name": "stdout",
          "output_type": "stream",
          "text": [
            "a[0]: 0\n",
            "a[1]: 1\n",
            "a[2]: 2\n",
            "a[3]: 3\n",
            "a[4]: 4\n"
          ]
        }
      ],
      "source": [
        "print(\"a[0]:\", a[0])\n",
        "print(\"a[1]:\", a[1])\n",
        "print(\"a[2]:\", a[2])\n",
        "print(\"a[3]:\", a[3])\n",
        "print(\"a[4]:\", a[4])"
      ]
    },
    {
      "cell_type": "markdown",
      "id": "7536b240",
      "metadata": {
        "id": "7536b240"
      },
      "source": [
        "**Revisando la versión de Numpy**\n",
        "\n",
        "La cadena de versión se almacene en la cadena de atributo de versión."
      ]
    },
    {
      "cell_type": "code",
      "execution_count": null,
      "id": "c11e4fe1",
      "metadata": {
        "id": "c11e4fe1",
        "outputId": "22ce75a8-8360-4411-eb7f-3ecf23e8ab58"
      },
      "outputs": [
        {
          "name": "stdout",
          "output_type": "stream",
          "text": [
            "1.21.5\n"
          ]
        }
      ],
      "source": [
        "print(np.__version__)"
      ]
    },
    {
      "cell_type": "markdown",
      "id": "32b130d0",
      "metadata": {
        "id": "32b130d0"
      },
      "source": [
        "**Tipo**\n",
        "\n",
        "Si revisamos el tipo de un arreglo se obtiene numpy.ndarray:"
      ]
    },
    {
      "cell_type": "code",
      "execution_count": null,
      "id": "a8683ee7",
      "metadata": {
        "id": "a8683ee7",
        "outputId": "7a22fc84-d1c9-454b-a26b-7a7f87df33d4"
      },
      "outputs": [
        {
          "data": {
            "text/plain": [
              "numpy.ndarray"
            ]
          },
          "execution_count": 14,
          "metadata": {},
          "output_type": "execute_result"
        }
      ],
      "source": [
        "type(a)"
      ]
    },
    {
      "cell_type": "markdown",
      "id": "afac3ce7",
      "metadata": {
        "id": "afac3ce7"
      },
      "source": [
        "Como numpy contiene datos del mismo tipo, podemos utilizar el atributo \"dtype\" para obtener el tipo de datos de los elementos del arreglo. en este caso es integer de 64-bit:\n"
      ]
    },
    {
      "cell_type": "code",
      "execution_count": null,
      "id": "d8849e8f",
      "metadata": {
        "id": "d8849e8f",
        "outputId": "95f85f35-4a76-4ee3-d92a-0716fd9edc20"
      },
      "outputs": [
        {
          "data": {
            "text/plain": [
              "dtype('int32')"
            ]
          },
          "execution_count": 15,
          "metadata": {},
          "output_type": "execute_result"
        }
      ],
      "source": [
        "a.dtype"
      ]
    },
    {
      "cell_type": "markdown",
      "id": "4e78bde8",
      "metadata": {
        "id": "4e78bde8"
      },
      "source": [
        "**Puesta a prueba**\n",
        "\n",
        "Obtener el tipo de arreglo y de los datos de el arreglo: \"([3.1, 11.02, 6.2, 213.2, 5.2])\""
      ]
    },
    {
      "cell_type": "code",
      "execution_count": null,
      "id": "eb9b5ca1",
      "metadata": {
        "id": "eb9b5ca1",
        "outputId": "cbbf2ab2-2c8e-43d7-c5ab-e48aa98fbdf1"
      },
      "outputs": [
        {
          "data": {
            "text/plain": [
              "dtype('float64')"
            ]
          },
          "execution_count": 16,
          "metadata": {},
          "output_type": "execute_result"
        }
      ],
      "source": [
        "b = np.array([3.1, 11.02, 6.2, 213.2, 5.2])\n",
        "type(b)\n",
        "b.dtype"
      ]
    },
    {
      "cell_type": "markdown",
      "id": "3d7fa528",
      "metadata": {
        "id": "3d7fa528"
      },
      "source": [
        "El tipo es flotante ya que no todos los elementos son integers."
      ]
    },
    {
      "cell_type": "markdown",
      "id": "4054f215",
      "metadata": {
        "id": "4054f215"
      },
      "source": [
        "**Asigna un valor**\n",
        "\n",
        "Se pueden cambiar los valores del arreglo C, considera el arreglo \"c = np.array([20, 1, 2, 3, 4])\".\n",
        "\n",
        "Se puede cambiar el valor del primer elemento de la siguiente forma:"
      ]
    },
    {
      "cell_type": "code",
      "execution_count": null,
      "id": "fb8671d3",
      "metadata": {
        "id": "fb8671d3",
        "outputId": "5fd4aa72-4b2a-476c-9ec8-6751ffe24979"
      },
      "outputs": [
        {
          "data": {
            "text/plain": [
              "array([20,  1,  2,  3,  4])"
            ]
          },
          "execution_count": 17,
          "metadata": {},
          "output_type": "execute_result"
        }
      ],
      "source": [
        "c = np.array([20, 1, 2, 3, 4])\n",
        "c"
      ]
    },
    {
      "cell_type": "code",
      "execution_count": null,
      "id": "10ea038d",
      "metadata": {
        "id": "10ea038d",
        "outputId": "75d08f66-3866-482e-942d-8ec0cc8d8fe5"
      },
      "outputs": [
        {
          "data": {
            "text/plain": [
              "array([100,   1,   2,   3,   4])"
            ]
          },
          "execution_count": 18,
          "metadata": {},
          "output_type": "execute_result"
        }
      ],
      "source": [
        "c[0] = 100\n",
        "c"
      ]
    },
    {
      "cell_type": "markdown",
      "id": "3732a393",
      "metadata": {
        "id": "3732a393"
      },
      "source": [
        "Podemos cambiar el quinto elemento del arrego a 0 como sigue:"
      ]
    },
    {
      "cell_type": "code",
      "execution_count": null,
      "id": "39f976e8",
      "metadata": {
        "id": "39f976e8",
        "outputId": "91241ea9-d0f2-4f4d-8427-784048ad335c"
      },
      "outputs": [
        {
          "data": {
            "text/plain": [
              "array([100,   1,   2,   3,   0])"
            ]
          },
          "execution_count": 19,
          "metadata": {},
          "output_type": "execute_result"
        }
      ],
      "source": [
        "c[4] = 0\n",
        "c"
      ]
    },
    {
      "cell_type": "markdown",
      "id": "f25fef2f",
      "metadata": {
        "id": "f25fef2f"
      },
      "source": [
        "**Ponlo a prueba:**\n",
        "\n"
      ]
    },
    {
      "cell_type": "markdown",
      "id": "fa2e8dee",
      "metadata": {
        "id": "fa2e8dee"
      },
      "source": [
        "Asigna el valor de 20 al segundo elemento del arreglo dado:"
      ]
    },
    {
      "cell_type": "code",
      "execution_count": null,
      "id": "2eeb7679",
      "metadata": {
        "id": "2eeb7679",
        "outputId": "c18225b6-94ca-483c-af58-e2c129f24d57"
      },
      "outputs": [
        {
          "data": {
            "text/plain": [
              "array([10, 20, 30, 40, 50])"
            ]
          },
          "execution_count": 20,
          "metadata": {},
          "output_type": "execute_result"
        }
      ],
      "source": [
        "a = np.array([10, 2, 30, 40,50])\n",
        "\n",
        "a[1]=20\n",
        "a"
      ]
    },
    {
      "cell_type": "markdown",
      "id": "f20073bb",
      "metadata": {
        "id": "f20073bb"
      },
      "source": [
        "**Slicing o \"Recorte??\"**\n",
        "\n",
        "Como las listas, se puede recortar un arreglo de NumPy. Recortar en Python significa tomar los elementos del índice dado a otro índice dado.\n",
        "\n",
        "Pasamos lo recortado así: [inicio:fin].\n",
        "\n",
        "Podemos seleccionar los elementos de 1 a 3 y asignarlos a un nuevo arreglo de numpu d como sigue:\n"
      ]
    },
    {
      "cell_type": "code",
      "execution_count": null,
      "id": "249a8cc2",
      "metadata": {
        "id": "249a8cc2",
        "outputId": "d1756171-731d-43ff-c742-aba816e2a82d"
      },
      "outputs": [
        {
          "data": {
            "text/plain": [
              "array([1, 2, 3])"
            ]
          },
          "execution_count": 21,
          "metadata": {},
          "output_type": "execute_result"
        }
      ],
      "source": [
        "d = c[1:4]\n",
        "d"
      ]
    },
    {
      "cell_type": "markdown",
      "id": "d373895c",
      "metadata": {
        "id": "d373895c"
      },
      "source": [
        "Podemos asingar los índices correspondientes a nuevos valores como sigue:\n",
        "\n",
        "Asiga el cuarto y quinto elemento a 300 y 400 respectivamente:"
      ]
    },
    {
      "cell_type": "code",
      "execution_count": null,
      "id": "853852a5",
      "metadata": {
        "id": "853852a5",
        "outputId": "563d100c-8f1f-4235-f4f7-0ae7bcaf713c"
      },
      "outputs": [
        {
          "data": {
            "text/plain": [
              "array([100,   1,   2, 300, 400])"
            ]
          },
          "execution_count": 22,
          "metadata": {},
          "output_type": "execute_result"
        }
      ],
      "source": [
        "c[3:5] = 300, 400\n",
        "c"
      ]
    },
    {
      "cell_type": "markdown",
      "id": "316eb568",
      "metadata": {
        "id": "316eb568"
      },
      "source": [
        "También podemos definir pasos en el recorte como esto: [inicio:fin:paso]."
      ]
    },
    {
      "cell_type": "code",
      "execution_count": null,
      "id": "387b2825",
      "metadata": {
        "id": "387b2825",
        "outputId": "e695cd14-28d6-402f-f1c6-1e902020f9be"
      },
      "outputs": [
        {
          "name": "stdout",
          "output_type": "stream",
          "text": [
            "[2 4]\n"
          ]
        }
      ],
      "source": [
        "arr = np.array([1, 2, 3, 4, 5, 6, 7])\n",
        "\n",
        "print(arr[1:5:2])"
      ]
    },
    {
      "cell_type": "markdown",
      "id": "edeac78a",
      "metadata": {
        "id": "edeac78a"
      },
      "source": [
        "Si no indicamos el inicio, se considera 0."
      ]
    },
    {
      "cell_type": "code",
      "execution_count": null,
      "id": "6d023d1c",
      "metadata": {
        "id": "6d023d1c",
        "outputId": "15d22b5b-4d6b-460e-b03d-c39cc129306d"
      },
      "outputs": [
        {
          "name": "stdout",
          "output_type": "stream",
          "text": [
            "[1 2 3 4]\n"
          ]
        }
      ],
      "source": [
        "print(arr[:4])"
      ]
    },
    {
      "cell_type": "markdown",
      "id": "f52030ee",
      "metadata": {
        "id": "f52030ee"
      },
      "source": [
        "Si no indicamos el final, se considera el largo del arreglo:"
      ]
    },
    {
      "cell_type": "code",
      "execution_count": null,
      "id": "ca11d7a4",
      "metadata": {
        "id": "ca11d7a4",
        "outputId": "1b7b28ef-b777-47f6-d804-8ceb890733b5"
      },
      "outputs": [
        {
          "name": "stdout",
          "output_type": "stream",
          "text": [
            "[5 6 7]\n"
          ]
        }
      ],
      "source": [
        "print(arr[4:])"
      ]
    },
    {
      "cell_type": "markdown",
      "id": "589feded",
      "metadata": {
        "id": "589feded"
      },
      "source": [
        "Si no indicamos los pasos, se consideran 1:"
      ]
    },
    {
      "cell_type": "code",
      "execution_count": null,
      "id": "385178bf",
      "metadata": {
        "id": "385178bf",
        "outputId": "4b218b25-06d1-4c2e-a71b-99db2ea3f562"
      },
      "outputs": [
        {
          "name": "stdout",
          "output_type": "stream",
          "text": [
            "[2 3 4 5]\n"
          ]
        }
      ],
      "source": [
        "print(arr[1:5:])"
      ]
    },
    {
      "cell_type": "markdown",
      "id": "6bb135ba",
      "metadata": {
        "id": "6bb135ba"
      },
      "source": [
        "**Pruebalo tú**\n",
        "\n",
        "Imprime los valores pares del arreglo dado:"
      ]
    },
    {
      "cell_type": "code",
      "execution_count": null,
      "id": "2e373a1b",
      "metadata": {
        "id": "2e373a1b",
        "outputId": "c2833a8a-c360-49dc-ab1d-8c36d38413b8"
      },
      "outputs": [
        {
          "data": {
            "text/plain": [
              "array([1, 2, 3, 4, 5, 6, 7, 8])"
            ]
          },
          "execution_count": 28,
          "metadata": {},
          "output_type": "execute_result"
        }
      ],
      "source": [
        "arr = np.array([1, 2, 3, 4, 5, 6, 7, 8])\n",
        "arr"
      ]
    },
    {
      "cell_type": "code",
      "execution_count": null,
      "id": "532b5fc9",
      "metadata": {
        "id": "532b5fc9",
        "outputId": "a33cc3f1-2ac2-450a-8e56-9d88f1995cba"
      },
      "outputs": [
        {
          "name": "stdout",
          "output_type": "stream",
          "text": [
            "[2 4 6 8]\n"
          ]
        }
      ],
      "source": [
        "print(arr[1:8:2])"
      ]
    },
    {
      "cell_type": "code",
      "execution_count": null,
      "id": "e81f7f75",
      "metadata": {
        "id": "e81f7f75",
        "outputId": "14f0813a-d032-4526-9b20-95f767735d88"
      },
      "outputs": [
        {
          "name": "stdout",
          "output_type": "stream",
          "text": [
            "[2 4 6 8]\n"
          ]
        }
      ],
      "source": [
        "even=(arr[1:8:2])\n",
        "print(even)"
      ]
    },
    {
      "cell_type": "markdown",
      "id": "a3cacce0",
      "metadata": {
        "id": "a3cacce0"
      },
      "source": [
        "**Asigna el valor con una lista**\n",
        "\n",
        "De forma similar, podemos usar una lista para seleccionar más de un índice específico. La selección de lista contiene varios valores:\n",
        "\n"
      ]
    },
    {
      "cell_type": "code",
      "execution_count": null,
      "id": "b8f2c3da",
      "metadata": {
        "id": "b8f2c3da",
        "outputId": "aa689ee2-f0cd-4601-fa08-edd96bac4b31"
      },
      "outputs": [
        {
          "data": {
            "text/plain": [
              "[0, 2, 3, 4]"
            ]
          },
          "execution_count": 31,
          "metadata": {},
          "output_type": "execute_result"
        }
      ],
      "source": [
        "select = [0, 2, 3, 4]\n",
        "select"
      ]
    },
    {
      "cell_type": "markdown",
      "id": "916dc538",
      "metadata": {
        "id": "916dc538"
      },
      "source": [
        "Podemos utilizar la lista como un argumento en los corchetes. La salida son los elementos correspondientes a los índices particulares:"
      ]
    },
    {
      "cell_type": "code",
      "execution_count": null,
      "id": "21fe5139",
      "metadata": {
        "id": "21fe5139",
        "outputId": "bbc4f90e-36ea-4c5f-dbeb-8f16d1af57ba"
      },
      "outputs": [
        {
          "data": {
            "text/plain": [
              "array([100,   2, 300, 400])"
            ]
          },
          "execution_count": 32,
          "metadata": {},
          "output_type": "execute_result"
        }
      ],
      "source": [
        "d = c[select]\n",
        "d"
      ]
    },
    {
      "cell_type": "markdown",
      "id": "18038cd2",
      "metadata": {
        "id": "18038cd2"
      },
      "source": [
        "Podemos asignar los elementos especificados a un nuevo valor. Por ejemplo, podemos asignar los valores de 100 000 como sigue:\n"
      ]
    },
    {
      "cell_type": "code",
      "execution_count": null,
      "id": "6505fb31",
      "metadata": {
        "id": "6505fb31",
        "outputId": "a7c5c357-deb3-4363-efdf-a08b973ab521"
      },
      "outputs": [
        {
          "data": {
            "text/plain": [
              "array([100000,      1, 100000, 100000, 100000])"
            ]
          },
          "execution_count": 33,
          "metadata": {},
          "output_type": "execute_result"
        }
      ],
      "source": [
        "c[select] = 100000\n",
        "c"
      ]
    },
    {
      "cell_type": "markdown",
      "id": "b907b4a0",
      "metadata": {
        "id": "b907b4a0"
      },
      "source": [
        "**Otros Atributos**\n",
        "\n",
        "Vamos a revisar algunos atributos básicos utilizando el arreglo a"
      ]
    },
    {
      "cell_type": "code",
      "execution_count": null,
      "id": "69739d09",
      "metadata": {
        "id": "69739d09",
        "outputId": "172617e6-aa8d-47e5-89ab-8a8e41891ed4"
      },
      "outputs": [
        {
          "data": {
            "text/plain": [
              "array([0, 1, 2, 3, 4])"
            ]
          },
          "execution_count": 34,
          "metadata": {},
          "output_type": "execute_result"
        }
      ],
      "source": [
        "a = np.array([0, 1, 2, 3, 4])\n",
        "a"
      ]
    },
    {
      "cell_type": "markdown",
      "id": "e8145575",
      "metadata": {
        "id": "e8145575"
      },
      "source": [
        "El atributo \"Size\" es el número de elementos en un arreglo"
      ]
    },
    {
      "cell_type": "code",
      "execution_count": null,
      "id": "44f2dd79",
      "metadata": {
        "id": "44f2dd79",
        "outputId": "0f8eef38-8ca6-49bd-ceef-af9eeeb6cb4e"
      },
      "outputs": [
        {
          "data": {
            "text/plain": [
              "5"
            ]
          },
          "execution_count": 35,
          "metadata": {},
          "output_type": "execute_result"
        }
      ],
      "source": [
        "a.size"
      ]
    },
    {
      "cell_type": "markdown",
      "id": "db58a7df",
      "metadata": {
        "id": "db58a7df"
      },
      "source": [
        "Los siguientes dos atributos harán más sentido cuando se llegue a mayores dimensiones, pero vamos a repasarlos. El atributo ndim representa el número de dimensiones del arreglo, o el rango del arreglo. En este caso uno:\n"
      ]
    },
    {
      "cell_type": "code",
      "execution_count": null,
      "id": "5de36ccd",
      "metadata": {
        "id": "5de36ccd",
        "outputId": "a743ce7e-2153-4e95-f82a-51c2c4a0ffd0"
      },
      "outputs": [
        {
          "data": {
            "text/plain": [
              "1"
            ]
          },
          "execution_count": 36,
          "metadata": {},
          "output_type": "execute_result"
        }
      ],
      "source": [
        "a.ndim"
      ]
    },
    {
      "cell_type": "markdown",
      "id": "4796422c",
      "metadata": {
        "id": "4796422c"
      },
      "source": [
        "El atributo \"Shape\" es una tupla de integers que indican el tamaño de un arreglo en cada dimensión:"
      ]
    },
    {
      "cell_type": "code",
      "execution_count": null,
      "id": "95ac3697",
      "metadata": {
        "id": "95ac3697",
        "outputId": "ddb8d6a8-d641-4316-859c-394d5a2ec935"
      },
      "outputs": [
        {
          "data": {
            "text/plain": [
              "(5,)"
            ]
          },
          "execution_count": 38,
          "metadata": {},
          "output_type": "execute_result"
        }
      ],
      "source": [
        "\n",
        "a.shape"
      ]
    },
    {
      "cell_type": "markdown",
      "id": "0089623f",
      "metadata": {
        "id": "0089623f"
      },
      "source": [
        "**Pruebalo tú**\n",
        "\n",
        "Encuentra el tamaño, dimensión y forma del arreglo dado **b**.\n"
      ]
    },
    {
      "cell_type": "code",
      "execution_count": null,
      "id": "425019cf",
      "metadata": {
        "id": "425019cf",
        "outputId": "4b5b5f6c-ca4a-4c77-9d8a-8901ad3f69d2"
      },
      "outputs": [
        {
          "name": "stdout",
          "output_type": "stream",
          "text": [
            "size= 7\n",
            "dimension= 1\n",
            "Shape= (7,)\n"
          ]
        }
      ],
      "source": [
        "b = np.array([10, 20, 30, 40, 50, 60, 70])\n",
        "\n",
        "print(\"size=\",b.size)\n",
        "\n",
        "print(\"dimension=\",b.ndim)\n",
        "\n",
        "print(\"Shape=\",b.shape)"
      ]
    },
    {
      "cell_type": "markdown",
      "id": "573216d6",
      "metadata": {
        "id": "573216d6"
      },
      "source": [
        "**Funciones estadísticas de NumPy"
      ]
    },
    {
      "cell_type": "code",
      "execution_count": null,
      "id": "eabba2d5",
      "metadata": {
        "id": "eabba2d5"
      },
      "outputs": [],
      "source": [
        "a = np.array([1, -1, 1, -1])"
      ]
    },
    {
      "cell_type": "markdown",
      "id": "edec5a37",
      "metadata": {
        "id": "edec5a37"
      },
      "source": [
        "Obten el promedio (Mean) de un arreglo:"
      ]
    },
    {
      "cell_type": "code",
      "execution_count": null,
      "id": "079b621e",
      "metadata": {
        "id": "079b621e",
        "outputId": "09017690-30b1-424b-ed4b-ca7a5ee68315"
      },
      "outputs": [
        {
          "data": {
            "text/plain": [
              "0.0"
            ]
          },
          "execution_count": 43,
          "metadata": {},
          "output_type": "execute_result"
        }
      ],
      "source": [
        "mean = a.mean()\n",
        "mean"
      ]
    },
    {
      "cell_type": "markdown",
      "id": "170ef114",
      "metadata": {
        "id": "170ef114"
      },
      "source": [
        "Obten la desviación estándard de un arreglo:"
      ]
    },
    {
      "cell_type": "code",
      "execution_count": null,
      "id": "dc93f6be",
      "metadata": {
        "id": "dc93f6be",
        "outputId": "626a2181-09de-4601-be8a-56fb3543941a"
      },
      "outputs": [
        {
          "data": {
            "text/plain": [
              "1.0"
            ]
          },
          "execution_count": 44,
          "metadata": {},
          "output_type": "execute_result"
        }
      ],
      "source": [
        "standard_deviation=a.std()\n",
        "standard_deviation"
      ]
    },
    {
      "cell_type": "code",
      "execution_count": null,
      "id": "65c77ff0",
      "metadata": {
        "id": "65c77ff0",
        "outputId": "437bd9f4-ca77-48bb-949f-2aaa63580d44"
      },
      "outputs": [
        {
          "data": {
            "text/plain": [
              "array([-1,  2,  3,  4,  5])"
            ]
          },
          "execution_count": 45,
          "metadata": {},
          "output_type": "execute_result"
        }
      ],
      "source": [
        "b = np.array([-1, 2, 3, 4, 5])\n",
        "b"
      ]
    },
    {
      "cell_type": "markdown",
      "id": "1ec1673c",
      "metadata": {
        "id": "1ec1673c"
      },
      "source": [
        "¿Cuál es el valor máximo de un arreglo de NumPy?"
      ]
    },
    {
      "cell_type": "code",
      "execution_count": null,
      "id": "85c4a5e1",
      "metadata": {
        "id": "85c4a5e1",
        "outputId": "5d372078-96c5-4caf-c234-ae2ecc5f516c"
      },
      "outputs": [
        {
          "data": {
            "text/plain": [
              "5"
            ]
          },
          "execution_count": 46,
          "metadata": {},
          "output_type": "execute_result"
        }
      ],
      "source": [
        "max_b = b.max()\n",
        "max_b"
      ]
    },
    {
      "cell_type": "markdown",
      "id": "ad0c719b",
      "metadata": {
        "id": "ad0c719b"
      },
      "source": [
        "¿Cuál es el valor mínimo de un arreglo de NumPy?"
      ]
    },
    {
      "cell_type": "code",
      "execution_count": null,
      "id": "e4383d05",
      "metadata": {
        "id": "e4383d05",
        "outputId": "15fc3b00-8296-46f4-f776-d5ee38b688df"
      },
      "outputs": [
        {
          "data": {
            "text/plain": [
              "-1"
            ]
          },
          "execution_count": 47,
          "metadata": {},
          "output_type": "execute_result"
        }
      ],
      "source": [
        "min_b = b.min()\n",
        "min_b"
      ]
    },
    {
      "cell_type": "markdown",
      "id": "4dfa95cc",
      "metadata": {
        "id": "4dfa95cc"
      },
      "source": [
        "**Pruébalo tú mismo**\n",
        "\n",
        "Encuentra la suma del máximo y mínimo de un arreglo de Numpy:"
      ]
    },
    {
      "cell_type": "code",
      "execution_count": null,
      "id": "d22df5c2",
      "metadata": {
        "id": "d22df5c2",
        "outputId": "e3e20f3c-ffbc-49e2-e669-783c8abd0d69"
      },
      "outputs": [
        {
          "name": "stdout",
          "output_type": "stream",
          "text": [
            "el máximo es: 502\n",
            "El mínimo es: -10\n",
            "La suma es: 492\n"
          ]
        }
      ],
      "source": [
        "c = np.array([-10, 201, 43, 94, 502])\n",
        "\n",
        "\n",
        "max_c=c.max()\n",
        "min_c=c.min()\n",
        "\n",
        "suma=max_c+min_c\n",
        "print(\"el máximo es:\",max_c)\n",
        "print(\"El mínimo es:\",min_c)\n",
        "print(\"La suma es:\",suma)"
      ]
    },
    {
      "cell_type": "markdown",
      "id": "0b1d5a99",
      "metadata": {
        "id": "0b1d5a99"
      },
      "source": [
        "**Operaciones de arreglos en Numpy**\n",
        "\n",
        "Puedes utilizar operadores aritméticos directamente entre arreglos de NumPy.\n",
        "\n",
        "Suma de arreglos.\n",
        "\n",
        "Considera el arreglo de NumPy u:"
      ]
    },
    {
      "cell_type": "code",
      "execution_count": null,
      "id": "05b65a06",
      "metadata": {
        "id": "05b65a06",
        "outputId": "3011db8f-609e-4501-8341-1214e9557584"
      },
      "outputs": [
        {
          "data": {
            "text/plain": [
              "array([1, 0])"
            ]
          },
          "execution_count": 49,
          "metadata": {},
          "output_type": "execute_result"
        }
      ],
      "source": [
        "u = np.array([1, 0])\n",
        "u"
      ]
    },
    {
      "cell_type": "markdown",
      "id": "2251ae06",
      "metadata": {
        "id": "2251ae06"
      },
      "source": [
        "Considera el arreglo de NumPy v:\n"
      ]
    },
    {
      "cell_type": "code",
      "execution_count": null,
      "id": "6ad12f99",
      "metadata": {
        "id": "6ad12f99",
        "outputId": "1ac7b44d-9cd8-4827-ad08-c04d4296b14b"
      },
      "outputs": [
        {
          "data": {
            "text/plain": [
              "array([0, 1])"
            ]
          },
          "execution_count": 50,
          "metadata": {},
          "output_type": "execute_result"
        }
      ],
      "source": [
        "v = np.array([0, 1])\n",
        "v"
      ]
    },
    {
      "cell_type": "markdown",
      "id": "fbace5aa",
      "metadata": {
        "id": "fbace5aa"
      },
      "source": [
        "Podemos sumar dos arreglos y asignarlos a Z:"
      ]
    },
    {
      "cell_type": "code",
      "execution_count": null,
      "id": "a38b4e4f",
      "metadata": {
        "id": "a38b4e4f",
        "outputId": "b3c56a35-ad59-4f7e-e215-9ecba948fa31"
      },
      "outputs": [
        {
          "data": {
            "text/plain": [
              "array([1, 1])"
            ]
          },
          "execution_count": 51,
          "metadata": {},
          "output_type": "execute_result"
        }
      ],
      "source": [
        "z = np.add(u, v)\n",
        "z"
      ]
    },
    {
      "cell_type": "markdown",
      "id": "6310a0ce",
      "metadata": {
        "id": "6310a0ce"
      },
      "source": [
        "La operación es equivalente a la adición de vectores:"
      ]
    },
    {
      "cell_type": "code",
      "execution_count": null,
      "id": "839dd039",
      "metadata": {
        "id": "839dd039"
      },
      "outputs": [],
      "source": [
        "import time \n",
        "import sys\n",
        "import numpy as np \n",
        "\n",
        "import matplotlib.pyplot as plt\n",
        "%matplotlib inline  \n",
        "\n",
        "def Plotvec1(u, z, v):\n",
        "    \n",
        "    ax = plt.axes() # Para generar los ejes de la ventana completa\n",
        "    ax.arrow(0, 0, *u, head_width=0.05, color='r', head_length=0.1)# Agregar una flecha a los ejes U con un ancho de cabeza de 0.5, color rojo y una longitud de cabeza de flecha de 0.1\n",
        "    plt.text(*(u + 0.1), 'u')#Agrega el texto u a los ejes\n",
        "    \n",
        "    ax.arrow(0, 0, *v, head_width=0.05, color='b', head_length=0.1)    #Agrega una flecha al eje v con una cabeza de flecha con ancho 0.05, color rojo y cabeza de flecha de 0.1 de largo\n",
        "    plt.text(*(v + 0.1), 'v')#Agrega el texto v a los ejes\n",
        "    \n",
        "    ax.arrow(0, 0, *z, head_width=0.05, head_length=0.1)\n",
        "    plt.text(*(z + 0.1), 'z')#Agrega el texto z a los ejes\n",
        "    plt.ylim(-2, 2) #define el ylim inferior a -2 y superior a 2\n",
        "    plt.xlim(-2, 2) #Define el xlim a la izquierda a -2 y 2 a la derecha"
      ]
    },
    {
      "cell_type": "code",
      "execution_count": null,
      "id": "342487a5",
      "metadata": {
        "id": "342487a5",
        "outputId": "545aa8cc-f1be-450d-edf3-9572a726abce"
      },
      "outputs": [
        {
          "data": {
            "image/png": "[encoded data removed]",
            "text/plain": [
              "<Figure size 432x288 with 1 Axes>"
            ]
          },
          "metadata": {
            "needs_background": "light"
          },
          "output_type": "display_data"
        }
      ],
      "source": [
        "Plotvec1(u, z, v)"
      ]
    },
    {
      "cell_type": "markdown",
      "id": "132e0d83",
      "metadata": {
        "id": "132e0d83"
      },
      "source": [
        "**Pruebalo tú mismo**\n",
        "\n",
        "Realiza la operación de adición en el arreglo de Numpy dado arr1 y arr2:\n"
      ]
    },
    {
      "cell_type": "code",
      "execution_count": null,
      "id": "bf723585",
      "metadata": {
        "id": "bf723585",
        "outputId": "e6f691f5-e325-43a1-f740-29f5b8f3a0a6"
      },
      "outputs": [
        {
          "name": "stdout",
          "output_type": "stream",
          "text": [
            "[30 32 34 36 38 40]\n",
            "[30 32 34 36 38 40]\n"
          ]
        }
      ],
      "source": [
        "arr1 = np.array([10, 11, 12, 13, 14, 15])\n",
        "arr2 = np.array([20, 21, 22, 23, 24, 25])\n",
        "\n",
        "suma = arr1+arr2\n",
        "print(suma)\n",
        "\n",
        "arr3 = np.add(arr1,arr2)\n",
        "print(arr3)"
      ]
    },
    {
      "cell_type": "markdown",
      "id": "ade124e3",
      "metadata": {
        "id": "ade124e3"
      },
      "source": [
        "**Sustracción de arreglos**\n",
        "\n",
        "Considera el arreglo de Numply a:"
      ]
    },
    {
      "cell_type": "code",
      "execution_count": null,
      "id": "63a7101e",
      "metadata": {
        "id": "63a7101e",
        "outputId": "d1bef74a-4ca9-4a08-e24a-b661cb7de75a"
      },
      "outputs": [
        {
          "data": {
            "text/plain": [
              "array([10, 20, 30])"
            ]
          },
          "execution_count": 55,
          "metadata": {},
          "output_type": "execute_result"
        }
      ],
      "source": [
        "a = np.array([10, 20, 30])\n",
        "a"
      ]
    },
    {
      "cell_type": "markdown",
      "id": "aced1fd2",
      "metadata": {
        "id": "aced1fd2"
      },
      "source": [
        "Considera el arreglo de Numpy b:"
      ]
    },
    {
      "cell_type": "code",
      "execution_count": null,
      "id": "4dbb6570",
      "metadata": {
        "id": "4dbb6570",
        "outputId": "a26e099c-2340-4475-b36d-12243dd04bf4"
      },
      "outputs": [
        {
          "data": {
            "text/plain": [
              "array([ 5, 10, 15])"
            ]
          },
          "execution_count": 56,
          "metadata": {},
          "output_type": "execute_result"
        }
      ],
      "source": [
        "b = np.array([5, 10, 15])\n",
        "b"
      ]
    },
    {
      "cell_type": "markdown",
      "id": "6bd78c7c",
      "metadata": {
        "id": "6bd78c7c"
      },
      "source": [
        "Podemos sustraer ambos arreglos y asignarlos a c:"
      ]
    },
    {
      "cell_type": "code",
      "execution_count": null,
      "id": "3a657f15",
      "metadata": {
        "id": "3a657f15",
        "outputId": "99ab1c45-7f11-4988-d6f1-d490a52ca0d2"
      },
      "outputs": [
        {
          "name": "stdout",
          "output_type": "stream",
          "text": [
            "[ 5 10 15]\n"
          ]
        }
      ],
      "source": [
        "c = np.subtract(a, b)\n",
        "\n",
        "print(c)"
      ]
    },
    {
      "cell_type": "markdown",
      "id": "ab3dbf27",
      "metadata": {
        "id": "ab3dbf27"
      },
      "source": [
        "**Pruébalo tú mismo**\n",
        "\n",
        "Realiza la operación de sustracción en el arreglo de Numpy dado arr1 y arr2:"
      ]
    },
    {
      "cell_type": "code",
      "execution_count": null,
      "id": "102e8867",
      "metadata": {
        "id": "102e8867",
        "outputId": "c75318dd-2f64-4c64-e40b-148971b0a24e"
      },
      "outputs": [
        {
          "name": "stdout",
          "output_type": "stream",
          "text": [
            "[-10  -1   8  17  26  35]\n",
            "[-10  -1   8  17  26  35]\n"
          ]
        }
      ],
      "source": [
        "arr1 = np.array([10, 20, 30, 40, 50, 60])\n",
        "arr2 = np.array([20, 21, 22, 23, 24, 25])\n",
        "\n",
        "\n",
        "resta= arr1-arr2\n",
        "print(resta)\n",
        "\n",
        "arr3 = np.subtract(arr1,arr2)\n",
        "print(arr3)"
      ]
    },
    {
      "cell_type": "markdown",
      "id": "d753de20",
      "metadata": {
        "id": "d753de20"
      },
      "source": [
        "**Multiplicación de Arreglos**\n",
        "\n",
        "Considera el vector arreglo de NumPy y:"
      ]
    },
    {
      "cell_type": "code",
      "execution_count": null,
      "id": "235d20d3",
      "metadata": {
        "id": "235d20d3",
        "outputId": "2c5f810e-0e54-4ee9-bc9c-25724b1aa93c"
      },
      "outputs": [
        {
          "data": {
            "text/plain": [
              "array([1, 2])"
            ]
          },
          "execution_count": 60,
          "metadata": {},
          "output_type": "execute_result"
        }
      ],
      "source": [
        "x = np.array([1, 2])\n",
        "x"
      ]
    },
    {
      "cell_type": "code",
      "execution_count": null,
      "id": "2fd81059",
      "metadata": {
        "id": "2fd81059",
        "outputId": "55d0b893-ecb0-481e-f30f-dbe91fdc9ef7"
      },
      "outputs": [
        {
          "data": {
            "text/plain": [
              "array([2, 1])"
            ]
          },
          "execution_count": 61,
          "metadata": {},
          "output_type": "execute_result"
        }
      ],
      "source": [
        "y = np.array([2, 1])\n",
        "y"
      ]
    },
    {
      "cell_type": "markdown",
      "id": "be943a48",
      "metadata": {
        "id": "be943a48"
      },
      "source": [
        "Podemos multiplicar cada elemento en el arreglo por 2:"
      ]
    },
    {
      "cell_type": "code",
      "execution_count": null,
      "id": "ec7b5ca8",
      "metadata": {
        "id": "ec7b5ca8",
        "outputId": "4b24e755-df9c-46e8-9b0c-afe9d9fa4ab4"
      },
      "outputs": [
        {
          "data": {
            "text/plain": [
              "array([2, 2])"
            ]
          },
          "execution_count": 62,
          "metadata": {},
          "output_type": "execute_result"
        }
      ],
      "source": [
        "z = np.multiply(x, y)\n",
        "z"
      ]
    },
    {
      "cell_type": "markdown",
      "id": "edd37519",
      "metadata": {
        "id": "edd37519"
      },
      "source": [
        "This is equivalent to multiplying a vector by a scaler:"
      ]
    },
    {
      "cell_type": "markdown",
      "id": "a699b9f2",
      "metadata": {
        "id": "a699b9f2"
      },
      "source": [
        "\n",
        "**Pruébalo tú mismo:**\n",
        "\n",
        "Realiza la operación de multiplicación en el arreglo dado arr1 y arr2:"
      ]
    },
    {
      "cell_type": "code",
      "execution_count": null,
      "id": "12163b59",
      "metadata": {
        "id": "12163b59",
        "outputId": "8c907fdd-8db6-41fc-e185-f1b0567562e0"
      },
      "outputs": [
        {
          "name": "stdout",
          "output_type": "stream",
          "text": [
            "[ 20  20  60 120 200 300]\n",
            "[ 20  20  60 120 200 300]\n"
          ]
        }
      ],
      "source": [
        "arr1 = np.array([10, 20, 30, 40, 50, 60])\n",
        "arr2 = np.array([2, 1, 2, 3, 4, 5])\n",
        "\n",
        "\n",
        "\n",
        "mult = arr1 * arr2\n",
        "print(mult)\n",
        "\n",
        "arr3 = np.multiply(arr1,arr2)\n",
        "print(arr3)"
      ]
    },
    {
      "cell_type": "markdown",
      "id": "dca62fe7",
      "metadata": {
        "id": "dca62fe7"
      },
      "source": [
        "**División de arreglos:**\n",
        "\n",
        "\n",
        "Considera el arreglo de vector numpy a:"
      ]
    },
    {
      "cell_type": "code",
      "execution_count": null,
      "id": "942e3336",
      "metadata": {
        "id": "942e3336",
        "outputId": "f47539b8-5583-49ba-8dac-98485d592fa8"
      },
      "outputs": [
        {
          "data": {
            "text/plain": [
              "array([10, 20, 30])"
            ]
          },
          "execution_count": 64,
          "metadata": {},
          "output_type": "execute_result"
        }
      ],
      "source": [
        "a = np.array([10, 20, 30])\n",
        "a"
      ]
    },
    {
      "cell_type": "markdown",
      "id": "4e30d915",
      "metadata": {
        "id": "4e30d915"
      },
      "source": [
        "Considera el vector de arreglo de vector numpy b:"
      ]
    },
    {
      "cell_type": "code",
      "execution_count": null,
      "id": "cf429a39",
      "metadata": {
        "id": "cf429a39",
        "outputId": "65b69336-a7d2-49ae-a57d-069f138e068f"
      },
      "outputs": [
        {
          "data": {
            "text/plain": [
              "array([ 2, 10,  5])"
            ]
          },
          "execution_count": 65,
          "metadata": {},
          "output_type": "execute_result"
        }
      ],
      "source": [
        "b = np.array([2, 10, 5])\n",
        "b"
      ]
    },
    {
      "cell_type": "markdown",
      "id": "46aca69b",
      "metadata": {
        "id": "46aca69b"
      },
      "source": [
        "Podemos dividir ambos arreglos y asignarlos al arreglo c:"
      ]
    },
    {
      "cell_type": "code",
      "execution_count": null,
      "id": "97433495",
      "metadata": {
        "id": "97433495",
        "outputId": "6c9734d4-91d9-4d4e-a6f2-2a4cd700edd4"
      },
      "outputs": [
        {
          "data": {
            "text/plain": [
              "array([5., 2., 6.])"
            ]
          },
          "execution_count": 66,
          "metadata": {},
          "output_type": "execute_result"
        }
      ],
      "source": [
        "c = np.divide(a, b)\n",
        "c"
      ]
    },
    {
      "cell_type": "markdown",
      "id": "37d1df40",
      "metadata": {
        "id": "37d1df40"
      },
      "source": [
        "**Pruébalo tú mismo**\n",
        "\n",
        "\n",
        "Realiza la operación de división en los arreglos dados arr1 y arr2:"
      ]
    },
    {
      "cell_type": "code",
      "execution_count": null,
      "id": "06a4dfa1",
      "metadata": {
        "id": "06a4dfa1",
        "outputId": "02d80c93-ef74-4e48-bf2e-1833aa926124"
      },
      "outputs": [
        {
          "name": "stdout",
          "output_type": "stream",
          "text": [
            "[ 3.33333333  4.          3.          5.         25.          1.81818182]\n",
            "[ 3.33333333  4.          3.          5.         25.          1.81818182]\n"
          ]
        }
      ],
      "source": [
        "arr1 = np.array([10, 20, 30, 40, 50, 60])\n",
        "arr2 = np.array([3, 5, 10, 8, 2, 33])\n",
        "\n",
        "div = arr1 / arr2\n",
        "print(div)\n",
        "\n",
        "arr3 = np.divide(arr1,arr2)\n",
        "print(arr3)"
      ]
    },
    {
      "cell_type": "markdown",
      "id": "e1623775",
      "metadata": {
        "id": "e1623775"
      },
      "source": [
        "**Prducto punto**\n",
        "\n",
        "El producto punto de dos arreglos de numpy u y v están dados por:"
      ]
    },
    {
      "cell_type": "code",
      "execution_count": null,
      "id": "57da15d8",
      "metadata": {
        "id": "57da15d8"
      },
      "outputs": [],
      "source": [
        "X = np.array([1, 2])\n",
        "Y = np.array([3, 2])"
      ]
    },
    {
      "cell_type": "markdown",
      "id": "750ac3d6",
      "metadata": {
        "id": "750ac3d6"
      },
      "source": [
        "Calcula el producto punto:"
      ]
    },
    {
      "cell_type": "code",
      "execution_count": null,
      "id": "4d38e824",
      "metadata": {
        "id": "4d38e824",
        "outputId": "6c66bd9d-2c0e-4e3e-b508-ab6e186e1237"
      },
      "outputs": [
        {
          "data": {
            "text/plain": [
              "7"
            ]
          },
          "execution_count": 69,
          "metadata": {},
          "output_type": "execute_result"
        }
      ],
      "source": [
        "np.dot(X, Y)"
      ]
    },
    {
      "cell_type": "markdown",
      "id": "a91d95b0",
      "metadata": {
        "id": "a91d95b0"
      },
      "source": [
        "Elementos de x:"
      ]
    },
    {
      "cell_type": "code",
      "execution_count": null,
      "id": "2eaca91b",
      "metadata": {
        "id": "2eaca91b",
        "outputId": "3f4a6107-853b-4e25-dfca-84d46ed9e495"
      },
      "outputs": [
        {
          "name": "stdout",
          "output_type": "stream",
          "text": [
            "1\n",
            "2\n"
          ]
        }
      ],
      "source": [
        "print(X[0])\n",
        "print(X[1])"
      ]
    },
    {
      "cell_type": "markdown",
      "id": "9fb77e4c",
      "metadata": {
        "id": "9fb77e4c"
      },
      "source": [
        "Elementos de y:"
      ]
    },
    {
      "cell_type": "code",
      "execution_count": null,
      "id": "23bd510b",
      "metadata": {
        "id": "23bd510b",
        "outputId": "4b4a3888-0c4d-489a-c5d2-6acdcb827d12"
      },
      "outputs": [
        {
          "name": "stdout",
          "output_type": "stream",
          "text": [
            "3\n",
            "2\n"
          ]
        }
      ],
      "source": [
        "print(Y[0])\n",
        "print(Y[1])"
      ]
    },
    {
      "cell_type": "markdown",
      "id": "ec3cbe52",
      "metadata": {
        "id": "ec3cbe52"
      },
      "source": [
        "**Pruébalo tú mismo**\n",
        "\n",
        "Realiza la operación punto en el arreglo dado arr1 y arr2:\n",
        "\n"
      ]
    },
    {
      "cell_type": "code",
      "execution_count": null,
      "id": "226d7772",
      "metadata": {
        "id": "226d7772",
        "outputId": "8706a312-1b27-4d98-c692-955576698cb2"
      },
      "outputs": [
        {
          "data": {
            "text/plain": [
              "26"
            ]
          },
          "execution_count": 73,
          "metadata": {},
          "output_type": "execute_result"
        }
      ],
      "source": [
        "arr1 = np.array([3, 5])\n",
        "arr2 = np.array([2, 4])\n",
        "\n",
        "\n",
        "arr3 = np.dot(arr1,arr2)\n",
        "arr3"
      ]
    },
    {
      "cell_type": "markdown",
      "id": "05a30d1b",
      "metadata": {
        "id": "05a30d1b"
      },
      "source": [
        "**Agregando una constante a un arreglo de NumPy**\n",
        "\n",
        "Considera el siguiente arreglo:\n",
        "\n"
      ]
    },
    {
      "cell_type": "code",
      "execution_count": null,
      "id": "6ce40590",
      "metadata": {
        "id": "6ce40590",
        "outputId": "1af84bc2-b28c-4375-9c2c-ace4e3e29f2b"
      },
      "outputs": [
        {
          "data": {
            "text/plain": [
              "array([ 1,  2,  3, -1])"
            ]
          },
          "execution_count": 74,
          "metadata": {},
          "output_type": "execute_result"
        }
      ],
      "source": [
        "u = np.array([1, 2, 3, -1]) \n",
        "u"
      ]
    },
    {
      "cell_type": "markdown",
      "id": "48ecb835",
      "metadata": {
        "id": "48ecb835"
      },
      "source": [
        "Agregando la constante 1 a cada elemento del arreglo:"
      ]
    },
    {
      "cell_type": "code",
      "execution_count": null,
      "id": "d7dc57d0",
      "metadata": {
        "id": "d7dc57d0",
        "outputId": "08304261-aae3-4360-e666-41827ff36219"
      },
      "outputs": [
        {
          "data": {
            "text/plain": [
              "array([2, 3, 4, 0])"
            ]
          },
          "execution_count": 75,
          "metadata": {},
          "output_type": "execute_result"
        }
      ],
      "source": [
        "u + 1"
      ]
    },
    {
      "cell_type": "code",
      "execution_count": null,
      "id": "00775a1e",
      "metadata": {
        "id": "00775a1e",
        "outputId": "abb83390-9cf7-4df8-9f49-6702abaa804b"
      },
      "outputs": [
        {
          "data": {
            "text/plain": [
              "array([6, 7, 8, 4])"
            ]
          },
          "execution_count": 76,
          "metadata": {},
          "output_type": "execute_result"
        }
      ],
      "source": [
        "arr = np.array([1, 2, 3, -1]) \n",
        "\n",
        "\n",
        "arr+5"
      ]
    },
    {
      "cell_type": "markdown",
      "id": "b38fa9f9",
      "metadata": {
        "id": "b38fa9f9"
      },
      "source": [
        "**Funciones matemáticas**\n",
        "\n",
        "Podemos acceder al valor de pi en NumPy como sigue:\n"
      ]
    },
    {
      "cell_type": "code",
      "execution_count": null,
      "id": "9dbe4483",
      "metadata": {
        "id": "9dbe4483",
        "outputId": "2f5a1ddf-f2c8-4f04-8c62-539a45c2a4da"
      },
      "outputs": [
        {
          "data": {
            "text/plain": [
              "3.141592653589793"
            ]
          },
          "execution_count": 77,
          "metadata": {},
          "output_type": "execute_result"
        }
      ],
      "source": [
        "np.pi"
      ]
    },
    {
      "cell_type": "markdown",
      "id": "2ee984c8",
      "metadata": {
        "id": "2ee984c8"
      },
      "source": [
        "Podemos crear el siguiente arreglo en radianes:"
      ]
    },
    {
      "cell_type": "code",
      "execution_count": null,
      "id": "77f94105",
      "metadata": {
        "id": "77f94105"
      },
      "outputs": [],
      "source": [
        "x = np.array([0, np.pi/2 , np.pi])"
      ]
    },
    {
      "cell_type": "markdown",
      "id": "945d0fb3",
      "metadata": {
        "id": "945d0fb3"
      },
      "source": [
        "Podemos aplicar la función seno (sin) al arreglo x y asignar los valores al arreglo y; esto aplica l función seno a cada elemento del arreglo:"
      ]
    },
    {
      "cell_type": "code",
      "execution_count": null,
      "id": "132df52c",
      "metadata": {
        "id": "132df52c",
        "outputId": "231630a3-afe3-4fec-9260-b8715e45db96"
      },
      "outputs": [
        {
          "data": {
            "text/plain": [
              "array([0.0000000e+00, 1.0000000e+00, 1.2246468e-16])"
            ]
          },
          "execution_count": 79,
          "metadata": {},
          "output_type": "execute_result"
        }
      ],
      "source": [
        "y = np.sin(x)\n",
        "y"
      ]
    },
    {
      "cell_type": "markdown",
      "id": "819d7424",
      "metadata": {
        "id": "819d7424"
      },
      "source": [
        "**Linspace**\n",
        "\n",
        "Una función útil al graficar funciones matemáticas es linspace. Linspace regresa numeros separads de forma equitativas sobre un intervalo especificado.\n",
        "\n",
        "numpy.linspace(start, stop, num= int value)\n",
        "\n",
        "- start: inicio del rango de intervalo\n",
        "\n",
        "- stop: fin del rango de intervalo\n",
        "\n",
        "- num: Número de muestras a generar.\n",
        "\n"
      ]
    },
    {
      "cell_type": "markdown",
      "id": "05d38507",
      "metadata": {
        "id": "05d38507"
      },
      "source": [
        "Genera un arreglo de NumPy con [-2, 2] y 5 elementos:"
      ]
    },
    {
      "cell_type": "code",
      "execution_count": null,
      "id": "62a7b094",
      "metadata": {
        "id": "62a7b094",
        "outputId": "fa9fea2f-f04b-4e51-c550-4b8521c9e8ad"
      },
      "outputs": [
        {
          "data": {
            "text/plain": [
              "array([-2., -1.,  0.,  1.,  2.])"
            ]
          },
          "execution_count": 80,
          "metadata": {},
          "output_type": "execute_result"
        }
      ],
      "source": [
        "\n",
        "np.linspace(-2, 2, num=5)"
      ]
    },
    {
      "cell_type": "markdown",
      "id": "fa721166",
      "metadata": {
        "id": "fa721166"
      },
      "source": [
        "Genera un arreglo de NumPy con [-2, 2] y 9 elementos:"
      ]
    },
    {
      "cell_type": "code",
      "execution_count": null,
      "id": "f152c811",
      "metadata": {
        "id": "f152c811",
        "outputId": "2b613d23-10fe-496b-e03d-552a6bbe05c2"
      },
      "outputs": [
        {
          "data": {
            "text/plain": [
              "array([-2. , -1.5, -1. , -0.5,  0. ,  0.5,  1. ,  1.5,  2. ])"
            ]
          },
          "execution_count": 81,
          "metadata": {},
          "output_type": "execute_result"
        }
      ],
      "source": [
        "np.linspace(-2, 2, num=9)"
      ]
    },
    {
      "cell_type": "markdown",
      "id": "06a05062",
      "metadata": {
        "id": "06a05062"
      },
      "source": [
        "Genera un arreglo de NumPy con [-2, π] y 100 elementos:"
      ]
    },
    {
      "cell_type": "code",
      "execution_count": null,
      "id": "1f89c321",
      "metadata": {
        "id": "1f89c321"
      },
      "outputs": [],
      "source": [
        "x = np.linspace(0, 2*np.pi, num=100)"
      ]
    },
    {
      "cell_type": "markdown",
      "id": "3f91f63e",
      "metadata": {
        "id": "3f91f63e"
      },
      "source": [
        "Podemos aplicar la función de seno a cada elemento en el arreglo x y asignarlo al arreglo y:"
      ]
    },
    {
      "cell_type": "code",
      "execution_count": null,
      "id": "53f8bdcf",
      "metadata": {
        "id": "53f8bdcf"
      },
      "outputs": [],
      "source": [
        "y = np.sin(x)"
      ]
    },
    {
      "cell_type": "code",
      "execution_count": null,
      "id": "7a632fdb",
      "metadata": {
        "id": "7a632fdb",
        "outputId": "894e41ef-48ec-4745-f039-281c32eeeeea"
      },
      "outputs": [
        {
          "data": {
            "text/plain": [
              "[<matplotlib.lines.Line2D at 0x207ad5e8f10>]"
            ]
          },
          "execution_count": 86,
          "metadata": {},
          "output_type": "execute_result"
        },
        {
          "data": {
            "image/png": "[encoded data removed]",
            "text/plain": [
              "<Figure size 432x288 with 1 Axes>"
            ]
          },
          "metadata": {
            "needs_background": "light"
          },
          "output_type": "display_data"
        }
      ],
      "source": [
        "plt.plot(x, y)"
      ]
    },
    {
      "cell_type": "code",
      "execution_count": null,
      "id": "15b5b4aa",
      "metadata": {
        "id": "15b5b4aa",
        "outputId": "0713f830-9263-44b4-afaa-407de7f9adbf"
      },
      "outputs": [
        {
          "data": {
            "text/plain": [
              "array([5. , 4.8, 4.6, 4.4, 4.2, 4. ])"
            ]
          },
          "execution_count": 87,
          "metadata": {},
          "output_type": "execute_result"
        }
      ],
      "source": [
        "np.linspace(5,4,num=6)"
      ]
    },
    {
      "cell_type": "markdown",
      "id": "d2c09cf9",
      "metadata": {
        "id": "d2c09cf9"
      },
      "source": [
        "**Iterando arreglos de 1-D**\n",
        "\n",
        "Iterando significa pasar por los elementos uno por uno.\n",
        "\n",
        "Si iteramos en un arreglo de 1-D va a pasar por cada elemento, uno a uno.\n",
        "\n",
        "Si ejecutamos el arreglo NumPy, obtenemos el formato del arreglo:\n"
      ]
    },
    {
      "cell_type": "code",
      "execution_count": null,
      "id": "66f5c4c9",
      "metadata": {
        "id": "66f5c4c9",
        "outputId": "1ab31249-74d2-4c50-c468-254292dc4b14"
      },
      "outputs": [
        {
          "name": "stdout",
          "output_type": "stream",
          "text": [
            "[1 2 3]\n"
          ]
        }
      ],
      "source": [
        "arr1 = np.array([1, 2, 3])\n",
        "print(arr1)"
      ]
    },
    {
      "cell_type": "markdown",
      "id": "ef6bea07",
      "metadata": {
        "id": "ef6bea07"
      },
      "source": [
        "Pero si queremos el resultado en forma de lista, podemos utilizar el ciclo for:"
      ]
    },
    {
      "cell_type": "code",
      "execution_count": null,
      "id": "39c03249",
      "metadata": {
        "id": "39c03249",
        "outputId": "c543afd6-0d9b-4bf9-b43c-45d69b7f5e5d"
      },
      "outputs": [
        {
          "name": "stdout",
          "output_type": "stream",
          "text": [
            "1\n",
            "2\n",
            "3\n"
          ]
        }
      ],
      "source": [
        "for x in arr1:\n",
        "  print(x)"
      ]
    },
    {
      "cell_type": "code",
      "execution_count": null,
      "id": "b6b55df8",
      "metadata": {
        "id": "b6b55df8"
      },
      "outputs": [],
      "source": [
        "import time \n",
        "import sys\n",
        "import numpy as np \n",
        "\n",
        "import matplotlib.pyplot as plt\n",
        "%matplotlib inline  \n",
        "\n",
        "def Plotvec2(a,b):\n",
        "    ax = plt.axes()# to generate the full window axes\n",
        "    ax.arrow(0, 0, *a, head_width=0.05, color ='r', head_length=0.1)#Add an arrow to the  a Axes with arrow head width 0.05, color red and arrow head length 0.1\n",
        "    plt.text(*(a + 0.1), 'a')\n",
        "    ax.arrow(0, 0, *b, head_width=0.05, color ='b', head_length=0.1)#Add an arrow to the  b Axes with arrow head width 0.05, color blue and arrow head length 0.1\n",
        "    plt.text(*(b + 0.1), 'b')\n",
        "    plt.ylim(-2, 2)#set the ylim to bottom(-2), top(2)\n",
        "    plt.xlim(-2, 2)#set the xlim to left(-2), right(2)"
      ]
    },
    {
      "cell_type": "code",
      "execution_count": null,
      "id": "b59dc6a4",
      "metadata": {
        "id": "b59dc6a4",
        "outputId": "3e0aa117-f8ce-4a03-d0a5-ce2b8faf4834"
      },
      "outputs": [
        {
          "name": "stdout",
          "output_type": "stream",
          "text": [
            "El producto cruz es 0\n"
          ]
        },
        {
          "data": {
            "image/png": "[encoded data removed]",
            "text/plain": [
              "<Figure size 432x288 with 1 Axes>"
            ]
          },
          "metadata": {
            "needs_background": "light"
          },
          "output_type": "display_data"
        }
      ],
      "source": [
        "a=np.array([-1,1])\n",
        "b=np.array([1,1])\n",
        "Plotvec2(a,b)\n",
        "print(\"El producto cruz es\", np.dot(a,b))"
      ]
    },
    {
      "cell_type": "code",
      "execution_count": null,
      "id": "de73623b",
      "metadata": {
        "id": "de73623b",
        "outputId": "34fa2163-bc0d-4e18-b2d8-7aa49508860d"
      },
      "outputs": [
        {
          "name": "stdout",
          "output_type": "stream",
          "text": [
            "El producto cruz es 0\n"
          ]
        },
        {
          "data": {
            "image/png": "[encoded data removed]",
            "text/plain": [
              "<Figure size 432x288 with 1 Axes>"
            ]
          },
          "metadata": {
            "needs_background": "light"
          },
          "output_type": "display_data"
        }
      ],
      "source": [
        "a=np.array([-1,0])\n",
        "b=np.array([0,1])\n",
        "Plotvec2(a,b)\n",
        "print(\"El producto cruz es\", np.dot(a,b))"
      ]
    },
    {
      "cell_type": "code",
      "execution_count": null,
      "id": "ded5d717",
      "metadata": {
        "id": "ded5d717",
        "outputId": "a0e48b9f-43d7-4951-e263-4d1f9b01c83d"
      },
      "outputs": [
        {
          "name": "stdout",
          "output_type": "stream",
          "text": [
            "El producto cruz es 1\n"
          ]
        },
        {
          "data": {
            "image/png": "[encoded data removed]",
            "text/plain": [
              "<Figure size 432x288 with 1 Axes>"
            ]
          },
          "metadata": {
            "needs_background": "light"
          },
          "output_type": "display_data"
        }
      ],
      "source": [
        "a=np.array([1,1])\n",
        "b=np.array([0,1])\n",
        "Plotvec2(a,b)\n",
        "print(\"El producto cruz es\", np.dot(a,b))"
      ]
    },
    {
      "cell_type": "code",
      "execution_count": null,
      "id": "eab32e91",
      "metadata": {
        "id": "eab32e91",
        "outputId": "958a1501-61a5-4074-b2f0-b5d9ee846cd9"
      },
      "outputs": [
        {
          "name": "stdout",
          "output_type": "stream",
          "text": [
            "addition= [ 9 11 13]\n",
            "substraction= [-7 -7 -7]\n",
            "Division= [0.125      0.22222222 0.3       ]\n",
            "Dot Operation= 56\n"
          ]
        }
      ],
      "source": [
        "arr1=np.array([1, 2, 3])\n",
        "arr2=np.array([8, 9, 10])\n",
        "addition=np.add(arr1,arr2)\n",
        "substraction=np.subtract(arr1,arr2)\n",
        "division=np.divide(arr1,arr2)\n",
        "dot_operation=np.dot(arr1,arr2)\n",
        "print(\"addition=\", addition)\n",
        "print(\"substraction=\", substraction)\n",
        "print(\"Division=\", division)\n",
        "print(\"Dot Operation=\", dot_operation) "
      ]
    },
    {
      "cell_type": "code",
      "execution_count": null,
      "id": "6d907231",
      "metadata": {
        "id": "6d907231",
        "outputId": "4e8c5cbd-5f72-48fc-bb66-d6a31d2abf1c"
      },
      "outputs": [
        {
          "name": "stdout",
          "output_type": "stream",
          "text": [
            "pares: [2 4]\n",
            "Nones= [ 6  8 10]\n"
          ]
        }
      ],
      "source": [
        "arr1 = np.array([1, 2, 3, 4, 5])\n",
        "arr2 = np.array([6, 7, 8, 9, 10])\n",
        "\n",
        "x = arr1[1:8:2]\n",
        "print(\"pares:\",x)\n",
        "   \n",
        "y = arr2[0:8:2]\n",
        "print(\"Nones=\",y)   "
      ]
    },
    {
      "cell_type": "code",
      "execution_count": null,
      "id": "97bf422d",
      "metadata": {
        "id": "97bf422d",
        "outputId": "68729333-ca25-41c8-c3aa-590391ef5af3"
      },
      "outputs": [
        {
          "data": {
            "text/plain": [
              "(4, 2)"
            ]
          },
          "execution_count": 100,
          "metadata": {},
          "output_type": "execute_result"
        }
      ],
      "source": [
        "A = np.array([[1,2],[3,4],[5,6],[7,8]])\n",
        "A.shape"
      ]
    },
    {
      "cell_type": "code",
      "execution_count": null,
      "id": "dd06ad1b",
      "metadata": {
        "id": "dd06ad1b",
        "outputId": "ad02f1fa-fcdd-4f81-ff2a-a1d6ca3b42b6"
      },
      "outputs": [
        {
          "ename": "ValueError",
          "evalue": "shapes (4,2) and (3,3) not aligned: 2 (dim 1) != 3 (dim 0)",
          "output_type": "error",
          "traceback": [
            "\u001b[1;31m---------------------------------------------------------------------------\u001b[0m",
            "\u001b[1;31mValueError\u001b[0m                                Traceback (most recent call last)",
            "Input \u001b[1;32mIn [101]\u001b[0m, in \u001b[0;36m<cell line: 5>\u001b[1;34m()\u001b[0m\n\u001b[0;32m      1\u001b[0m A \u001b[38;5;241m=\u001b[39m np\u001b[38;5;241m.\u001b[39marray([[\u001b[38;5;241m1\u001b[39m,\u001b[38;5;241m2\u001b[39m],[\u001b[38;5;241m3\u001b[39m,\u001b[38;5;241m4\u001b[39m],[\u001b[38;5;241m5\u001b[39m,\u001b[38;5;241m6\u001b[39m],[\u001b[38;5;241m7\u001b[39m,\u001b[38;5;241m8\u001b[39m]])\n\u001b[0;32m      3\u001b[0m B \u001b[38;5;241m=\u001b[39m np\u001b[38;5;241m.\u001b[39marray([[\u001b[38;5;241m1\u001b[39m,\u001b[38;5;241m2\u001b[39m,\u001b[38;5;241m3\u001b[39m],[\u001b[38;5;241m4\u001b[39m,\u001b[38;5;241m5\u001b[39m,\u001b[38;5;241m6\u001b[39m],[\u001b[38;5;241m7\u001b[39m,\u001b[38;5;241m8\u001b[39m,\u001b[38;5;241m9\u001b[39m]])\n\u001b[1;32m----> 5\u001b[0m \u001b[43mnp\u001b[49m\u001b[38;5;241;43m.\u001b[39;49m\u001b[43mdot\u001b[49m\u001b[43m(\u001b[49m\u001b[43mA\u001b[49m\u001b[43m,\u001b[49m\u001b[43mB\u001b[49m\u001b[43m)\u001b[49m\n",
            "File \u001b[1;32m<__array_function__ internals>:5\u001b[0m, in \u001b[0;36mdot\u001b[1;34m(*args, **kwargs)\u001b[0m\n",
            "\u001b[1;31mValueError\u001b[0m: shapes (4,2) and (3,3) not aligned: 2 (dim 1) != 3 (dim 0)"
          ]
        }
      ],
      "source": [
        "A = np.array([[1,2],[3,4],[5,6],[7,8]])\n",
        "\n",
        "B = np.array([[1,2,3],[4,5,6],[7,8,9]])\n",
        "\n",
        "np.dot(A,B)"
      ]
    },
    {
      "cell_type": "markdown",
      "id": "30c950b6",
      "metadata": {
        "id": "30c950b6"
      },
      "source": [
        "**Conoce un arreglo de NumPy**\n",
        "\n",
        "Usarás el arreglo A para las siguientes preguntas:"
      ]
    },
    {
      "cell_type": "code",
      "execution_count": null,
      "id": "1b0207f6",
      "metadata": {
        "id": "1b0207f6"
      },
      "outputs": [],
      "source": [
        "import numpy as np\n",
        "A=np.array([[11,12],[21,22],[31,32]])"
      ]
    },
    {
      "cell_type": "code",
      "execution_count": null,
      "id": "737039a7",
      "metadata": {
        "id": "737039a7",
        "outputId": "4dc436cc-c166-4a70-e312-1a8d3deb85aa"
      },
      "outputs": [
        {
          "data": {
            "text/plain": [
              "numpy.ndarray"
            ]
          },
          "execution_count": 104,
          "metadata": {},
          "output_type": "execute_result"
        }
      ],
      "source": [
        "type(A)"
      ]
    },
    {
      "cell_type": "code",
      "execution_count": null,
      "id": "30a429fb",
      "metadata": {
        "id": "30a429fb",
        "outputId": "b565e6fe-1eb1-4f6f-ca9d-87bd363b08c9"
      },
      "outputs": [
        {
          "data": {
            "text/plain": [
              "(3, 2)"
            ]
          },
          "execution_count": 105,
          "metadata": {},
          "output_type": "execute_result"
        }
      ],
      "source": [
        "A.shape"
      ]
    },
    {
      "cell_type": "code",
      "execution_count": null,
      "id": "6a184ccd",
      "metadata": {
        "id": "6a184ccd",
        "outputId": "ee28beb8-cf39-4221-e1ab-d940676fd06d"
      },
      "outputs": [
        {
          "data": {
            "text/plain": [
              "dtype('int32')"
            ]
          },
          "execution_count": 106,
          "metadata": {},
          "output_type": "execute_result"
        }
      ],
      "source": [
        "A.dtype"
      ]
    },
    {
      "cell_type": "code",
      "execution_count": null,
      "id": "0ded67b7",
      "metadata": {
        "id": "0ded67b7",
        "outputId": "74311e44-87ea-445b-9e5f-f4abd1e6f66a"
      },
      "outputs": [
        {
          "data": {
            "text/plain": [
              "array([21, 22])"
            ]
          },
          "execution_count": 107,
          "metadata": {},
          "output_type": "execute_result"
        }
      ],
      "source": [
        "A[1]"
      ]
    },
    {
      "cell_type": "markdown",
      "id": "8661e325",
      "metadata": {
        "id": "8661e325"
      },
      "source": [
        "**Dos tipos de multiplicación**\n",
        "\n",
        "\n",
        "Usa los siguientes arreglos para las siguientres preguntaS:"
      ]
    },
    {
      "cell_type": "code",
      "execution_count": null,
      "id": "2ed7ae31",
      "metadata": {
        "id": "2ed7ae31"
      },
      "outputs": [],
      "source": [
        "A=np.array([[11,12],[21,22]])\n",
        "B=np.array([[1, 0],[0,1]])"
      ]
    },
    {
      "cell_type": "code",
      "execution_count": null,
      "id": "67eb167d",
      "metadata": {
        "id": "67eb167d",
        "outputId": "e996708f-132c-46f4-e85a-9e3caacc27e4"
      },
      "outputs": [
        {
          "data": {
            "text/plain": [
              "array([[11,  0],\n",
              "       [ 0, 22]])"
            ]
          },
          "execution_count": 109,
          "metadata": {},
          "output_type": "execute_result"
        }
      ],
      "source": [
        "C = A * B\n",
        "C"
      ]
    },
    {
      "cell_type": "code",
      "execution_count": null,
      "id": "9f947c87",
      "metadata": {
        "id": "9f947c87",
        "outputId": "d932172b-e108-45c2-8fbc-bf0011b97310"
      },
      "outputs": [
        {
          "data": {
            "text/plain": [
              "array([[11, 12],\n",
              "       [21, 22]])"
            ]
          },
          "execution_count": 110,
          "metadata": {},
          "output_type": "execute_result"
        }
      ],
      "source": [
        "Z = np.dot(A,B)\n",
        "Z"
      ]
    },
    {
      "cell_type": "markdown",
      "id": "eb333b87",
      "metadata": {
        "id": "eb333b87"
      },
      "source": [
        "**Crea un arreglo de 2D**"
      ]
    },
    {
      "cell_type": "code",
      "execution_count": null,
      "id": "d9f2ff86",
      "metadata": {
        "id": "d9f2ff86"
      },
      "outputs": [],
      "source": [
        "import numpy as np \n",
        "import matplotlib.pyplot as plt"
      ]
    },
    {
      "cell_type": "code",
      "execution_count": null,
      "id": "d71b5d1e",
      "metadata": {
        "id": "d71b5d1e",
        "outputId": "ed99ac82-83f7-4ef6-8bb0-8090e3fdff96"
      },
      "outputs": [
        {
          "data": {
            "text/plain": [
              "[[11, 12, 13], [21, 22, 23], [31, 32, 33]]"
            ]
          },
          "execution_count": 112,
          "metadata": {},
          "output_type": "execute_result"
        }
      ],
      "source": [
        "a = [[11, 12, 13], [21, 22, 23], [31, 32, 33]]\n",
        "a"
      ]
    },
    {
      "cell_type": "code",
      "execution_count": null,
      "id": "b5b18a11",
      "metadata": {
        "id": "b5b18a11",
        "outputId": "468b73b7-da36-4c8f-b764-8d4b4d1fd1d4"
      },
      "outputs": [
        {
          "data": {
            "text/plain": [
              "array([[11, 12, 13],\n",
              "       [21, 22, 23],\n",
              "       [31, 32, 33]])"
            ]
          },
          "execution_count": 113,
          "metadata": {},
          "output_type": "execute_result"
        }
      ],
      "source": [
        "A = np.array(a)\n",
        "A"
      ]
    },
    {
      "cell_type": "code",
      "execution_count": null,
      "id": "57d3b221",
      "metadata": {
        "id": "57d3b221",
        "outputId": "7a28ba84-fcfe-4f12-8c09-425cf9fd2831"
      },
      "outputs": [
        {
          "data": {
            "text/plain": [
              "2"
            ]
          },
          "execution_count": 114,
          "metadata": {},
          "output_type": "execute_result"
        }
      ],
      "source": [
        "A.ndim"
      ]
    },
    {
      "cell_type": "code",
      "execution_count": null,
      "id": "c729fd1a",
      "metadata": {
        "id": "c729fd1a",
        "outputId": "15170f75-c283-471b-99e3-5ceb8ef7fc7c"
      },
      "outputs": [
        {
          "data": {
            "text/plain": [
              "(3, 3)"
            ]
          },
          "execution_count": 115,
          "metadata": {},
          "output_type": "execute_result"
        }
      ],
      "source": [
        "A.shape"
      ]
    },
    {
      "cell_type": "code",
      "execution_count": null,
      "id": "09c551a9",
      "metadata": {
        "id": "09c551a9",
        "outputId": "67823530-617d-41b0-cb54-0294f5a7033e"
      },
      "outputs": [
        {
          "data": {
            "text/plain": [
              "9"
            ]
          },
          "execution_count": 116,
          "metadata": {},
          "output_type": "execute_result"
        }
      ],
      "source": [
        "\n",
        "A.size"
      ]
    },
    {
      "cell_type": "markdown",
      "id": "39b5f7d3",
      "metadata": {
        "id": "39b5f7d3"
      },
      "source": [
        "**Accediendo a diferentes elementos del arreglo de NumPy**\n",
        "\n",
        "Podemos utilizar corchetes para acceder a los diferentes elementos del arreglo."
      ]
    },
    {
      "cell_type": "code",
      "execution_count": null,
      "id": "3d66da8a",
      "metadata": {
        "id": "3d66da8a",
        "outputId": "bb4e6665-872d-4fa6-b59b-d9c057888d7f"
      },
      "outputs": [
        {
          "data": {
            "text/plain": [
              "23"
            ]
          },
          "execution_count": 117,
          "metadata": {},
          "output_type": "execute_result"
        }
      ],
      "source": [
        "A[1, 2]"
      ]
    },
    {
      "cell_type": "code",
      "execution_count": null,
      "id": "82ac39d3",
      "metadata": {
        "id": "82ac39d3",
        "outputId": "83704e1f-d566-40a1-caa9-866173d0a12a"
      },
      "outputs": [
        {
          "data": {
            "text/plain": [
              "23"
            ]
          },
          "execution_count": 118,
          "metadata": {},
          "output_type": "execute_result"
        }
      ],
      "source": [
        "A[1][2]"
      ]
    },
    {
      "cell_type": "code",
      "execution_count": null,
      "id": "23035aaa",
      "metadata": {
        "id": "23035aaa",
        "outputId": "ed8e9d28-b942-45b4-cf1f-159eebb18e77"
      },
      "outputs": [
        {
          "data": {
            "text/plain": [
              "11"
            ]
          },
          "execution_count": 119,
          "metadata": {},
          "output_type": "execute_result"
        }
      ],
      "source": [
        "A[0][0]"
      ]
    },
    {
      "cell_type": "code",
      "execution_count": null,
      "id": "0ac6c56a",
      "metadata": {
        "id": "0ac6c56a",
        "outputId": "d2eea4cc-7608-425f-caba-06d2b0aada2f"
      },
      "outputs": [
        {
          "data": {
            "text/plain": [
              "array([11, 12])"
            ]
          },
          "execution_count": 120,
          "metadata": {},
          "output_type": "execute_result"
        }
      ],
      "source": [
        "A[0][0:2]"
      ]
    },
    {
      "cell_type": "code",
      "execution_count": null,
      "id": "4dea4079",
      "metadata": {
        "id": "4dea4079",
        "outputId": "afcc9f09-ab10-49a7-df3f-2b005a44b237"
      },
      "outputs": [
        {
          "data": {
            "text/plain": [
              "array([13, 23])"
            ]
          },
          "execution_count": 121,
          "metadata": {},
          "output_type": "execute_result"
        }
      ],
      "source": [
        "A[0:2, 2]"
      ]
    },
    {
      "cell_type": "code",
      "execution_count": null,
      "id": "61d278be",
      "metadata": {
        "id": "61d278be",
        "outputId": "1c9d6822-1948-4276-a004-4c89878afc14"
      },
      "outputs": [
        {
          "data": {
            "text/plain": [
              "array([[1, 0],\n",
              "       [0, 1]])"
            ]
          },
          "execution_count": 122,
          "metadata": {},
          "output_type": "execute_result"
        }
      ],
      "source": [
        "X = np.array([[1, 0], [0, 1]]) \n",
        "X"
      ]
    },
    {
      "cell_type": "code",
      "execution_count": null,
      "id": "a9bfc6c9",
      "metadata": {
        "id": "a9bfc6c9",
        "outputId": "035b6fbc-b6d1-4c3b-a3bd-79afffb57d2e"
      },
      "outputs": [
        {
          "data": {
            "text/plain": [
              "array([[2, 1],\n",
              "       [1, 2]])"
            ]
          },
          "execution_count": 123,
          "metadata": {},
          "output_type": "execute_result"
        }
      ],
      "source": [
        "Y = np.array([[2, 1], [1, 2]]) \n",
        "Y"
      ]
    },
    {
      "cell_type": "code",
      "execution_count": null,
      "id": "a8177edf",
      "metadata": {
        "id": "a8177edf",
        "outputId": "b349e30c-767b-4229-e4d9-43b7b96c2a4c"
      },
      "outputs": [
        {
          "data": {
            "text/plain": [
              "array([[3, 1],\n",
              "       [1, 3]])"
            ]
          },
          "execution_count": 124,
          "metadata": {},
          "output_type": "execute_result"
        }
      ],
      "source": [
        "Z = X + Y\n",
        "Z"
      ]
    },
    {
      "cell_type": "code",
      "execution_count": null,
      "id": "a8c394c8",
      "metadata": {
        "id": "a8c394c8",
        "outputId": "f078ad73-6216-4d32-ca3b-1e8be3812d56"
      },
      "outputs": [
        {
          "data": {
            "text/plain": [
              "array([[2, 1],\n",
              "       [1, 2]])"
            ]
          },
          "execution_count": 125,
          "metadata": {},
          "output_type": "execute_result"
        }
      ],
      "source": [
        "Y = np.array([[2, 1], [1, 2]]) \n",
        "Y"
      ]
    },
    {
      "cell_type": "code",
      "execution_count": null,
      "id": "8665333f",
      "metadata": {
        "id": "8665333f",
        "outputId": "c7f12624-f9e0-4076-e4ab-ef3f6def2621"
      },
      "outputs": [
        {
          "data": {
            "text/plain": [
              "array([[4, 2],\n",
              "       [2, 4]])"
            ]
          },
          "execution_count": 126,
          "metadata": {},
          "output_type": "execute_result"
        }
      ],
      "source": [
        "Z = 2 * Y\n",
        "Z"
      ]
    },
    {
      "cell_type": "code",
      "execution_count": null,
      "id": "3a7c0b98",
      "metadata": {
        "id": "3a7c0b98",
        "outputId": "3a0dff6a-5f14-431a-c563-60ac3f5820b8"
      },
      "outputs": [
        {
          "data": {
            "text/plain": [
              "array([[2, 1],\n",
              "       [1, 2]])"
            ]
          },
          "execution_count": 127,
          "metadata": {},
          "output_type": "execute_result"
        }
      ],
      "source": [
        "Y = np.array([[2, 1], [1, 2]]) \n",
        "Y"
      ]
    },
    {
      "cell_type": "code",
      "execution_count": null,
      "id": "8e7ff64b",
      "metadata": {
        "id": "8e7ff64b",
        "outputId": "89022e3a-5c6b-4a59-d21e-7b8f91d0d718"
      },
      "outputs": [
        {
          "data": {
            "text/plain": [
              "array([[1, 0],\n",
              "       [0, 1]])"
            ]
          },
          "execution_count": 128,
          "metadata": {},
          "output_type": "execute_result"
        }
      ],
      "source": [
        "X = np.array([[1, 0], [0, 1]]) \n",
        "X"
      ]
    },
    {
      "cell_type": "code",
      "execution_count": null,
      "id": "0db6fe49",
      "metadata": {
        "id": "0db6fe49",
        "outputId": "0320fc91-2e93-422d-8f8b-7e1139c95c47"
      },
      "outputs": [
        {
          "data": {
            "text/plain": [
              "array([[2, 0],\n",
              "       [0, 2]])"
            ]
          },
          "execution_count": 129,
          "metadata": {},
          "output_type": "execute_result"
        }
      ],
      "source": [
        "Z = X * Y\n",
        "Z"
      ]
    },
    {
      "cell_type": "code",
      "execution_count": null,
      "id": "1dba4808",
      "metadata": {
        "id": "1dba4808",
        "outputId": "b445f1b5-da9c-44be-a296-1db18d281e0c"
      },
      "outputs": [
        {
          "data": {
            "text/plain": [
              "array([[0, 1, 1],\n",
              "       [1, 0, 1]])"
            ]
          },
          "execution_count": 130,
          "metadata": {},
          "output_type": "execute_result"
        }
      ],
      "source": [
        "A = np.array([[0, 1, 1], [1, 0, 1]])\n",
        "A"
      ]
    },
    {
      "cell_type": "code",
      "execution_count": null,
      "id": "05725320",
      "metadata": {
        "id": "05725320",
        "outputId": "aef9282d-1177-4b39-e3d3-d331251857cb"
      },
      "outputs": [
        {
          "data": {
            "text/plain": [
              "array([[ 1,  1],\n",
              "       [ 1,  1],\n",
              "       [-1,  1]])"
            ]
          },
          "execution_count": 131,
          "metadata": {},
          "output_type": "execute_result"
        }
      ],
      "source": [
        "B = np.array([[1, 1], [1, 1], [-1, 1]])\n",
        "B"
      ]
    },
    {
      "cell_type": "code",
      "execution_count": null,
      "id": "d7f25682",
      "metadata": {
        "id": "d7f25682",
        "outputId": "7081dd9c-c3c2-4eaf-8190-0cf972c423e4"
      },
      "outputs": [
        {
          "data": {
            "text/plain": [
              "array([[0, 2],\n",
              "       [0, 2]])"
            ]
          },
          "execution_count": 132,
          "metadata": {},
          "output_type": "execute_result"
        }
      ],
      "source": [
        "Z = np.dot(A,B)\n",
        "Z"
      ]
    },
    {
      "cell_type": "code",
      "execution_count": null,
      "id": "b755bd1a",
      "metadata": {
        "id": "b755bd1a",
        "outputId": "dd7b723c-d878-405b-e092-14e7ccecf927"
      },
      "outputs": [
        {
          "data": {
            "text/plain": [
              "array([[0.        , 0.90929743],\n",
              "       [0.        , 0.90929743]])"
            ]
          },
          "execution_count": 133,
          "metadata": {},
          "output_type": "execute_result"
        }
      ],
      "source": [
        "\n",
        "np.sin(Z)"
      ]
    },
    {
      "cell_type": "code",
      "execution_count": null,
      "id": "5fb5db8b",
      "metadata": {
        "id": "5fb5db8b",
        "outputId": "dc5486b1-5d6d-4204-a81c-dae814c87a0d"
      },
      "outputs": [
        {
          "data": {
            "text/plain": [
              "array([[1, 1],\n",
              "       [2, 2],\n",
              "       [3, 3]])"
            ]
          },
          "execution_count": 134,
          "metadata": {},
          "output_type": "execute_result"
        }
      ],
      "source": [
        "C = np.array([[1,1],[2,2],[3,3]])\n",
        "C"
      ]
    },
    {
      "cell_type": "markdown",
      "id": "d6d32708",
      "metadata": {
        "id": "d6d32708"
      },
      "source": [
        "**OBTENER LA TRANSPUESTA DE C**"
      ]
    },
    {
      "cell_type": "code",
      "execution_count": null,
      "id": "a14f2f65",
      "metadata": {
        "id": "a14f2f65",
        "outputId": "46e25e04-fb49-4641-8f5a-87783034073a"
      },
      "outputs": [
        {
          "data": {
            "text/plain": [
              "array([[1, 2, 3],\n",
              "       [1, 2, 3]])"
            ]
          },
          "execution_count": 135,
          "metadata": {},
          "output_type": "execute_result"
        }
      ],
      "source": [
        "C.T"
      ]
    },
    {
      "cell_type": "code",
      "execution_count": null,
      "id": "6ce770da",
      "metadata": {
        "id": "6ce770da"
      },
      "outputs": [],
      "source": [
        "a = [[1, 2, 3, 4], [5, 6, 7, 8], [9, 10, 11, 12]]"
      ]
    },
    {
      "cell_type": "code",
      "execution_count": null,
      "id": "49d10b87",
      "metadata": {
        "id": "49d10b87",
        "outputId": "885a3e19-20a3-40a2-bb4c-ed5351738383"
      },
      "outputs": [
        {
          "data": {
            "text/plain": [
              "array([[ 1,  2,  3,  4],\n",
              "       [ 5,  6,  7,  8],\n",
              "       [ 9, 10, 11, 12]])"
            ]
          },
          "execution_count": 137,
          "metadata": {},
          "output_type": "execute_result"
        }
      ],
      "source": [
        "A=np.array(a)\n",
        "A"
      ]
    },
    {
      "cell_type": "code",
      "execution_count": null,
      "id": "98c6d9ed",
      "metadata": {
        "id": "98c6d9ed",
        "outputId": "3ca54b98-871e-451e-a32f-408418eb21b8"
      },
      "outputs": [
        {
          "data": {
            "text/plain": [
              "12"
            ]
          },
          "execution_count": 138,
          "metadata": {},
          "output_type": "execute_result"
        }
      ],
      "source": [
        "A.size"
      ]
    },
    {
      "cell_type": "code",
      "execution_count": null,
      "id": "a519d571",
      "metadata": {
        "id": "a519d571",
        "outputId": "8fa2153f-eb2c-416c-bc9e-543ba7685cca"
      },
      "outputs": [
        {
          "data": {
            "text/plain": [
              "array([1, 2])"
            ]
          },
          "execution_count": 139,
          "metadata": {},
          "output_type": "execute_result"
        }
      ],
      "source": [
        "A[0][0:2]"
      ]
    },
    {
      "cell_type": "code",
      "execution_count": null,
      "id": "ba63e96d",
      "metadata": {
        "id": "ba63e96d",
        "outputId": "136eb399-90ff-42aa-8607-47c62e7d2a8f"
      },
      "outputs": [
        {
          "data": {
            "text/plain": [
              "array([[ 1,  4],\n",
              "       [ 5, 12],\n",
              "       [ 9, 20]])"
            ]
          },
          "execution_count": 140,
          "metadata": {},
          "output_type": "execute_result"
        }
      ],
      "source": [
        "B = np.array([[0, 1], [1, 0], [1, 1], [-1, 0]])\n",
        "\n",
        "mult=np.dot(A,B)\n",
        "mult"
      ]
    },
    {
      "cell_type": "markdown",
      "id": "035d85e0",
      "metadata": {
        "id": "035d85e0"
      },
      "source": [
        "**Traductor de audio a texto Watson**\n",
        "\n",
        "Aprenderás a convertir un archivo de audio de un hablante de inglés a texto utilizando la API de audio a texto. Después traducirás la versión en inglés a español utilizando API de traducción de idioma.\n",
        "\n",
        "**Nota:** Debes obtener las llaves de API y endpoints para completar el lab.\n"
      ]
    },
    {
      "cell_type": "code",
      "execution_count": null,
      "id": "1668a5ba",
      "metadata": {
        "id": "1668a5ba",
        "outputId": "7cece4c0-3e4a-4955-f396-e5c5c8df4926"
      },
      "outputs": [
        {
          "name": "stdout",
          "output_type": "stream",
          "text": [
            "Collecting ibm_watson\n",
            "  Downloading ibm-watson-6.1.0.tar.gz (373 kB)\n",
            "  Installing build dependencies: started\n",
            "  Installing build dependencies: finished with status 'done'\n",
            "  Getting requirements to build wheel: started\n",
            "  Getting requirements to build wheel: finished with status 'done'\n",
            "    Preparing wheel metadata: started\n",
            "    Preparing wheel metadata: finished with status 'done'\n",
            "Requirement already satisfied: wget in c:\\users\\ferna\\anaconda3\\lib\\site-packages (3.2)\n",
            "Requirement already satisfied: requests<3.0,>=2.0 in c:\\users\\ferna\\anaconda3\\lib\\site-packages (from ibm_watson) (2.27.1)\n",
            "Requirement already satisfied: python-dateutil>=2.5.3 in c:\\users\\ferna\\anaconda3\\lib\\site-packages (from ibm_watson) (2.8.2)\n",
            "Collecting websocket-client==1.1.0\n",
            "  Downloading websocket_client-1.1.0-py2.py3-none-any.whl (68 kB)\n",
            "Collecting ibm-cloud-sdk-core==3.*,>=3.3.6\n",
            "  Downloading ibm_cloud_sdk_core-3.16.0-py3-none-any.whl (83 kB)\n",
            "Requirement already satisfied: urllib3<2.0.0,>=1.26.0 in c:\\users\\ferna\\anaconda3\\lib\\site-packages (from ibm-cloud-sdk-core==3.*,>=3.3.6->ibm_watson) (1.26.9)\n",
            "Requirement already satisfied: PyJWT<3.0.0,>=2.4.0 in c:\\users\\ferna\\anaconda3\\lib\\site-packages (from ibm-cloud-sdk-core==3.*,>=3.3.6->ibm_watson) (2.4.0)\n",
            "Requirement already satisfied: six>=1.5 in c:\\users\\ferna\\anaconda3\\lib\\site-packages (from python-dateutil>=2.5.3->ibm_watson) (1.16.0)\n",
            "Requirement already satisfied: charset-normalizer~=2.0.0 in c:\\users\\ferna\\anaconda3\\lib\\site-packages (from requests<3.0,>=2.0->ibm_watson) (2.0.4)\n",
            "Requirement already satisfied: idna<4,>=2.5 in c:\\users\\ferna\\anaconda3\\lib\\site-packages (from requests<3.0,>=2.0->ibm_watson) (3.3)\n",
            "Requirement already satisfied: certifi>=2017.4.17 in c:\\users\\ferna\\anaconda3\\lib\\site-packages (from requests<3.0,>=2.0->ibm_watson) (2021.10.8)\n",
            "Building wheels for collected packages: ibm-watson\n",
            "  Building wheel for ibm-watson (PEP 517): started\n",
            "  Building wheel for ibm-watson (PEP 517): finished with status 'done'\n",
            "  Created wheel for ibm-watson: filename=ibm_watson-6.1.0-py3-none-any.whl size=370748 sha256=5741cf793ab5acaf8531877128dd808e5379b963582244953b621428ade8630f\n",
            "  Stored in directory: c:\\users\\ferna\\appdata\\local\\pip\\cache\\wheels\\bb\\d0\\34\\ff5df539c080e3a57abae75307fdc7ae057478b248a8900c3e\n",
            "Successfully built ibm-watson\n",
            "Installing collected packages: websocket-client, ibm-cloud-sdk-core, ibm-watson\n",
            "  Attempting uninstall: websocket-client\n",
            "    Found existing installation: websocket-client 0.58.0\n",
            "    Uninstalling websocket-client-0.58.0:\n",
            "      Successfully uninstalled websocket-client-0.58.0\n",
            "Successfully installed ibm-cloud-sdk-core-3.16.0 ibm-watson-6.1.0 websocket-client-1.1.0\n"
          ]
        },
        {
          "name": "stderr",
          "output_type": "stream",
          "text": [
            "ERROR: pip's dependency resolver does not currently take into account all the packages that are installed. This behaviour is the source of the following dependency conflicts.\n",
            "jupyter-server 1.13.5 requires pywinpty<2; os_name == \"nt\", but you have pywinpty 2.0.2 which is incompatible.\n"
          ]
        }
      ],
      "source": [
        "!pip install ibm_watson wget"
      ]
    },
    {
      "cell_type": "markdown",
      "id": "550b3e19",
      "metadata": {
        "id": "550b3e19"
      },
      "source": [
        "Audio a texto:\n",
        "\n",
        "\n",
        "Primero importamos SpeechToTextV1 de ibm_watson. Para más información de la API, da click en este link https://cloud.ibm.com/apidocs/speech-to-text?utm_medium=Exinfluencer&utm_source=Exinfluencer&utm_content=000026UJ&utm_term=10006555&utm_id=NA-SkillsNetwork-Channel-SkillsNetworkCoursesIBMDeveloperSkillsNetworkPY0101ENSkillsNetwork19487395-2021-01-01&code=python."
      ]
    },
    {
      "cell_type": "code",
      "execution_count": null,
      "id": "72020477",
      "metadata": {
        "id": "72020477"
      },
      "outputs": [],
      "source": [
        "from ibm_watson import SpeechToTextV1 \n",
        "import json\n",
        "from ibm_cloud_sdk_core.authenticators import IAMAuthenticator"
      ]
    },
    {
      "cell_type": "markdown",
      "id": "0cae9112",
      "metadata": {
        "id": "0cae9112"
      },
      "source": [
        "El endpoint del servicio está basado en la localización de la intancia del servicio, almacenamos la información en la URL de variable. Para encontrar que URL usar, ve el servicio de credenciales y pega la url aqui.\n"
      ]
    },
    {
      "cell_type": "markdown",
      "id": "9a44ec1f",
      "metadata": {
        "id": "9a44ec1f"
      },
      "source": [
        "No pude ingresar al traductor de Watson"
      ]
    },
    {
      "cell_type": "markdown",
      "id": "f6de8b48",
      "metadata": {
        "id": "f6de8b48"
      },
      "source": [
        "**SIMPLE APIs**\n",
        "\n",
        "Random user and Fruitvice APIs examples"
      ]
    },
    {
      "cell_type": "code",
      "execution_count": null,
      "id": "574c9e7d",
      "metadata": {
        "id": "574c9e7d",
        "outputId": "657baf71-eb3e-44ee-a89c-5fbc14872f65"
      },
      "outputs": [
        {
          "name": "stdout",
          "output_type": "stream",
          "text": [
            "Collecting randomuser\n",
            "  Downloading randomuser-1.6.tar.gz (5.0 kB)\n",
            "Building wheels for collected packages: randomuser\n",
            "  Building wheel for randomuser (setup.py): started\n",
            "  Building wheel for randomuser (setup.py): finished with status 'done'\n",
            "  Created wheel for randomuser: filename=randomuser-1.6-py3-none-any.whl size=5082 sha256=35b4e52c98e119ca6c392824ec3f567c574bc3c1a31b6a6e5d351555c38bf5d7\n",
            "  Stored in directory: c:\\users\\ferna\\appdata\\local\\pip\\cache\\wheels\\41\\6f\\23\\878c103a235dc2d4e85a3965c124aae8a28470c541b81aa2ba\n",
            "Successfully built randomuser\n",
            "Installing collected packages: randomuser\n",
            "Successfully installed randomuser-1.6\n"
          ]
        }
      ],
      "source": [
        "!pip install randomuser"
      ]
    },
    {
      "cell_type": "code",
      "execution_count": null,
      "id": "ea71fea5",
      "metadata": {
        "id": "ea71fea5"
      },
      "outputs": [],
      "source": [
        "from randomuser import RandomUser\n",
        "import pandas as pd"
      ]
    },
    {
      "cell_type": "markdown",
      "id": "474e8af1",
      "metadata": {
        "id": "474e8af1"
      },
      "source": [
        "Primero creamos un objeto usuario aleatorio r"
      ]
    },
    {
      "cell_type": "code",
      "execution_count": null,
      "id": "7a9181d6",
      "metadata": {
        "id": "7a9181d6"
      },
      "outputs": [],
      "source": [
        "r = RandomUser()"
      ]
    },
    {
      "cell_type": "markdown",
      "id": "55ee4ee9",
      "metadata": {
        "id": "55ee4ee9"
      },
      "source": [
        "Luego, utilizando la función generate_users(), obtenemos una lista de 10 usuarios aleatorios."
      ]
    },
    {
      "cell_type": "code",
      "execution_count": null,
      "id": "0ca5c91f",
      "metadata": {
        "id": "0ca5c91f",
        "outputId": "e737b5b7-9651-422d-ef2e-a333ae847fb2"
      },
      "outputs": [
        {
          "data": {
            "text/plain": [
              "[<randomuser.RandomUser at 0x1d3bea2d220>,\n",
              " <randomuser.RandomUser at 0x1d3bea2d820>,\n",
              " <randomuser.RandomUser at 0x1d3bea2d070>,\n",
              " <randomuser.RandomUser at 0x1d3bea2d2b0>,\n",
              " <randomuser.RandomUser at 0x1d3bea2d790>,\n",
              " <randomuser.RandomUser at 0x1d3bea2d940>,\n",
              " <randomuser.RandomUser at 0x1d3c06f1160>,\n",
              " <randomuser.RandomUser at 0x1d3bea187c0>,\n",
              " <randomuser.RandomUser at 0x1d3bea18610>,\n",
              " <randomuser.RandomUser at 0x1d3bea18760>]"
            ]
          },
          "execution_count": 4,
          "metadata": {},
          "output_type": "execute_result"
        }
      ],
      "source": [
        "some_list = r.generate_users(10)\n",
        "some_list"
      ]
    },
    {
      "cell_type": "code",
      "execution_count": null,
      "id": "18b58973",
      "metadata": {
        "id": "18b58973"
      },
      "outputs": [],
      "source": [
        "name = r.get_full_name()"
      ]
    },
    {
      "cell_type": "code",
      "execution_count": null,
      "id": "4efaf212",
      "metadata": {
        "id": "4efaf212",
        "outputId": "9970d158-3980-4af0-b570-1383be355f04"
      },
      "outputs": [
        {
          "name": "stdout",
          "output_type": "stream",
          "text": [
            "Heather Baker   heather.baker@example.com\n",
            "Chloe Abraham   chloe.abraham@example.com\n",
            "Jonathan Smith   jonathan.smith@example.com\n",
            "Eeli Aho   eeli.aho@example.com\n",
            "Gonzalo Blanco   gonzalo.blanco@example.com\n",
            "Kaspian Engh   kaspian.engh@example.com\n",
            "Gina Patterson   gina.patterson@example.com\n",
            "Sonia Stornes   sonia.stornes@example.com\n",
            "Jordan Oliver   jordan.oliver@example.com\n",
            "Elliot Tremblay   elliot.tremblay@example.com\n"
          ]
        }
      ],
      "source": [
        "for user in some_list:\n",
        "    print (user.get_full_name(),\" \",user.get_email())"
      ]
    },
    {
      "cell_type": "code",
      "execution_count": null,
      "id": "c57e4e73",
      "metadata": {
        "id": "c57e4e73",
        "outputId": "3f9cb4da-4d11-4c1e-9140-e3ff49166715"
      },
      "outputs": [
        {
          "name": "stdout",
          "output_type": "stream",
          "text": [
            "https://randomuser.me/api/portraits/women/79.jpg\n",
            "https://randomuser.me/api/portraits/women/52.jpg\n",
            "https://randomuser.me/api/portraits/men/77.jpg\n",
            "https://randomuser.me/api/portraits/men/60.jpg\n",
            "https://randomuser.me/api/portraits/men/75.jpg\n",
            "https://randomuser.me/api/portraits/men/13.jpg\n",
            "https://randomuser.me/api/portraits/women/91.jpg\n",
            "https://randomuser.me/api/portraits/women/54.jpg\n",
            "https://randomuser.me/api/portraits/men/58.jpg\n",
            "https://randomuser.me/api/portraits/men/90.jpg\n"
          ]
        }
      ],
      "source": [
        "for user in some_list:\n",
        "    print(user.get_picture())"
      ]
    },
    {
      "cell_type": "code",
      "execution_count": null,
      "id": "d523ec88",
      "metadata": {
        "id": "d523ec88"
      },
      "outputs": [],
      "source": [
        "def get_users():\n",
        "    users =[]\n",
        "     \n",
        "    for user in RandomUser.generate_users(10):\n",
        "        users.append({\"Name\":user.get_full_name(),\"Gender\":user.get_gender(),\"City\":user.get_city(),\"State\":user.get_state(),\"Email\":user.get_email(), \"DOB\":user.get_dob(),\"Picture\":user.get_picture()})\n",
        "      \n",
        "    return pd.DataFrame(users)     "
      ]
    },
    {
      "cell_type": "code",
      "execution_count": null,
      "id": "19699150",
      "metadata": {
        "id": "19699150",
        "outputId": "3ad6daea-46c4-42d8-ca2e-d581eac282c4"
      },
      "outputs": [
        {
          "data": {
            "text/html": [
              "<div>\n",
              "<style scoped>\n",
              "    .dataframe tbody tr th:only-of-type {\n",
              "        vertical-align: middle;\n",
              "    }\n",
              "\n",
              "    .dataframe tbody tr th {\n",
              "        vertical-align: top;\n",
              "    }\n",
              "\n",
              "    .dataframe thead th {\n",
              "        text-align: right;\n",
              "    }\n",
              "</style>\n",
              "<table border=\"1\" class=\"dataframe\">\n",
              "  <thead>\n",
              "    <tr style=\"text-align: right;\">\n",
              "      <th></th>\n",
              "      <th>Name</th>\n",
              "      <th>Gender</th>\n",
              "      <th>City</th>\n",
              "      <th>State</th>\n",
              "      <th>Email</th>\n",
              "      <th>DOB</th>\n",
              "      <th>Picture</th>\n",
              "    </tr>\n",
              "  </thead>\n",
              "  <tbody>\n",
              "    <tr>\n",
              "      <th>0</th>\n",
              "      <td>Moritz Adam</td>\n",
              "      <td>male</td>\n",
              "      <td>Seehof</td>\n",
              "      <td>Aargau</td>\n",
              "      <td>moritz.adam@example.com</td>\n",
              "      <td>1973-05-08T17:28:59.096Z</td>\n",
              "      <td>https://randomuser.me/api/portraits/men/77.jpg</td>\n",
              "    </tr>\n",
              "    <tr>\n",
              "      <th>1</th>\n",
              "      <td>Vivian Wulf</td>\n",
              "      <td>female</td>\n",
              "      <td>Rabenau</td>\n",
              "      <td>Thüringen</td>\n",
              "      <td>vivian.wulf@example.com</td>\n",
              "      <td>1952-08-27T06:05:04.207Z</td>\n",
              "      <td>https://randomuser.me/api/portraits/women/22.jpg</td>\n",
              "    </tr>\n",
              "    <tr>\n",
              "      <th>2</th>\n",
              "      <td>Andreia Simon</td>\n",
              "      <td>female</td>\n",
              "      <td>Vulliens</td>\n",
              "      <td>Glarus</td>\n",
              "      <td>andreia.simon@example.com</td>\n",
              "      <td>1992-02-08T15:00:27.135Z</td>\n",
              "      <td>https://randomuser.me/api/portraits/women/88.jpg</td>\n",
              "    </tr>\n",
              "    <tr>\n",
              "      <th>3</th>\n",
              "      <td>کوروش نجاتی</td>\n",
              "      <td>male</td>\n",
              "      <td>ورامین</td>\n",
              "      <td>البرز</td>\n",
              "      <td>khwrwsh.njty@example.com</td>\n",
              "      <td>1985-12-24T20:48:18.861Z</td>\n",
              "      <td>https://randomuser.me/api/portraits/men/29.jpg</td>\n",
              "    </tr>\n",
              "    <tr>\n",
              "      <th>4</th>\n",
              "      <td>Earl Mitchell</td>\n",
              "      <td>male</td>\n",
              "      <td>Wichita Falls</td>\n",
              "      <td>Arkansas</td>\n",
              "      <td>earl.mitchell@example.com</td>\n",
              "      <td>1967-02-12T16:17:52.187Z</td>\n",
              "      <td>https://randomuser.me/api/portraits/men/2.jpg</td>\n",
              "    </tr>\n",
              "    <tr>\n",
              "      <th>5</th>\n",
              "      <td>Katie Hamilton</td>\n",
              "      <td>female</td>\n",
              "      <td>Portsmouth</td>\n",
              "      <td>Cleveland</td>\n",
              "      <td>katie.hamilton@example.com</td>\n",
              "      <td>1985-07-29T17:50:27.438Z</td>\n",
              "      <td>https://randomuser.me/api/portraits/women/45.jpg</td>\n",
              "    </tr>\n",
              "    <tr>\n",
              "      <th>6</th>\n",
              "      <td>Bobbie Hicks</td>\n",
              "      <td>female</td>\n",
              "      <td>Surprise</td>\n",
              "      <td>Illinois</td>\n",
              "      <td>bobbie.hicks@example.com</td>\n",
              "      <td>1973-09-14T06:19:55.752Z</td>\n",
              "      <td>https://randomuser.me/api/portraits/women/52.jpg</td>\n",
              "    </tr>\n",
              "    <tr>\n",
              "      <th>7</th>\n",
              "      <td>Carla Lee</td>\n",
              "      <td>female</td>\n",
              "      <td>Orange</td>\n",
              "      <td>New South Wales</td>\n",
              "      <td>carla.lee@example.com</td>\n",
              "      <td>1978-10-02T10:34:58.256Z</td>\n",
              "      <td>https://randomuser.me/api/portraits/women/65.jpg</td>\n",
              "    </tr>\n",
              "    <tr>\n",
              "      <th>8</th>\n",
              "      <td>Tina Harper</td>\n",
              "      <td>female</td>\n",
              "      <td>Jacksonville</td>\n",
              "      <td>Colorado</td>\n",
              "      <td>tina.harper@example.com</td>\n",
              "      <td>1978-09-23T20:20:14.099Z</td>\n",
              "      <td>https://randomuser.me/api/portraits/women/71.jpg</td>\n",
              "    </tr>\n",
              "    <tr>\n",
              "      <th>9</th>\n",
              "      <td>Tilde Rasmussen</td>\n",
              "      <td>female</td>\n",
              "      <td>Ulsted, Hals</td>\n",
              "      <td>Nordjylland</td>\n",
              "      <td>tilde.rasmussen@example.com</td>\n",
              "      <td>1952-12-03T21:54:26.301Z</td>\n",
              "      <td>https://randomuser.me/api/portraits/women/70.jpg</td>\n",
              "    </tr>\n",
              "  </tbody>\n",
              "</table>\n",
              "</div>"
            ],
            "text/plain": [
              "              Name  Gender           City            State  \\\n",
              "0      Moritz Adam    male         Seehof           Aargau   \n",
              "1      Vivian Wulf  female        Rabenau        Thüringen   \n",
              "2    Andreia Simon  female       Vulliens           Glarus   \n",
              "3      کوروش نجاتی    male         ورامین            البرز   \n",
              "4    Earl Mitchell    male  Wichita Falls         Arkansas   \n",
              "5   Katie Hamilton  female     Portsmouth        Cleveland   \n",
              "6     Bobbie Hicks  female       Surprise         Illinois   \n",
              "7        Carla Lee  female         Orange  New South Wales   \n",
              "8      Tina Harper  female   Jacksonville         Colorado   \n",
              "9  Tilde Rasmussen  female   Ulsted, Hals      Nordjylland   \n",
              "\n",
              "                         Email                       DOB  \\\n",
              "0      moritz.adam@example.com  1973-05-08T17:28:59.096Z   \n",
              "1      vivian.wulf@example.com  1952-08-27T06:05:04.207Z   \n",
              "2    andreia.simon@example.com  1992-02-08T15:00:27.135Z   \n",
              "3     khwrwsh.njty@example.com  1985-12-24T20:48:18.861Z   \n",
              "4    earl.mitchell@example.com  1967-02-12T16:17:52.187Z   \n",
              "5   katie.hamilton@example.com  1985-07-29T17:50:27.438Z   \n",
              "6     bobbie.hicks@example.com  1973-09-14T06:19:55.752Z   \n",
              "7        carla.lee@example.com  1978-10-02T10:34:58.256Z   \n",
              "8      tina.harper@example.com  1978-09-23T20:20:14.099Z   \n",
              "9  tilde.rasmussen@example.com  1952-12-03T21:54:26.301Z   \n",
              "\n",
              "                                            Picture  \n",
              "0    https://randomuser.me/api/portraits/men/77.jpg  \n",
              "1  https://randomuser.me/api/portraits/women/22.jpg  \n",
              "2  https://randomuser.me/api/portraits/women/88.jpg  \n",
              "3    https://randomuser.me/api/portraits/men/29.jpg  \n",
              "4     https://randomuser.me/api/portraits/men/2.jpg  \n",
              "5  https://randomuser.me/api/portraits/women/45.jpg  \n",
              "6  https://randomuser.me/api/portraits/women/52.jpg  \n",
              "7  https://randomuser.me/api/portraits/women/65.jpg  \n",
              "8  https://randomuser.me/api/portraits/women/71.jpg  \n",
              "9  https://randomuser.me/api/portraits/women/70.jpg  "
            ]
          },
          "execution_count": 9,
          "metadata": {},
          "output_type": "execute_result"
        }
      ],
      "source": [
        "get_users()"
      ]
    },
    {
      "cell_type": "code",
      "execution_count": null,
      "id": "53dc0703",
      "metadata": {
        "id": "53dc0703"
      },
      "outputs": [],
      "source": [
        "df1 = pd.DataFrame(get_users())  "
      ]
    },
    {
      "cell_type": "code",
      "execution_count": null,
      "id": "64b895c7",
      "metadata": {
        "id": "64b895c7"
      },
      "outputs": [],
      "source": [
        "import requests\n",
        "import json"
      ]
    },
    {
      "cell_type": "code",
      "execution_count": null,
      "id": "5bf34e26",
      "metadata": {
        "id": "5bf34e26"
      },
      "outputs": [],
      "source": [
        "data = requests.get(\"https://www.fruityvice.com/api/fruit/all\")"
      ]
    },
    {
      "cell_type": "code",
      "execution_count": null,
      "id": "0a1e5e18",
      "metadata": {
        "id": "0a1e5e18"
      },
      "outputs": [],
      "source": [
        "results = json.loads(data.text)"
      ]
    },
    {
      "cell_type": "code",
      "execution_count": null,
      "id": "fc50eb56",
      "metadata": {
        "id": "fc50eb56",
        "outputId": "982ff5de-10e3-4c06-e243-13b7107f0865"
      },
      "outputs": [
        {
          "data": {
            "text/html": [
              "<div>\n",
              "<style scoped>\n",
              "    .dataframe tbody tr th:only-of-type {\n",
              "        vertical-align: middle;\n",
              "    }\n",
              "\n",
              "    .dataframe tbody tr th {\n",
              "        vertical-align: top;\n",
              "    }\n",
              "\n",
              "    .dataframe thead th {\n",
              "        text-align: right;\n",
              "    }\n",
              "</style>\n",
              "<table border=\"1\" class=\"dataframe\">\n",
              "  <thead>\n",
              "    <tr style=\"text-align: right;\">\n",
              "      <th></th>\n",
              "      <th>genus</th>\n",
              "      <th>name</th>\n",
              "      <th>id</th>\n",
              "      <th>family</th>\n",
              "      <th>order</th>\n",
              "      <th>nutritions</th>\n",
              "    </tr>\n",
              "  </thead>\n",
              "  <tbody>\n",
              "    <tr>\n",
              "      <th>0</th>\n",
              "      <td>Malus</td>\n",
              "      <td>Apple</td>\n",
              "      <td>6</td>\n",
              "      <td>Rosaceae</td>\n",
              "      <td>Rosales</td>\n",
              "      <td>{'carbohydrates': 11.4, 'protein': 0.3, 'fat':...</td>\n",
              "    </tr>\n",
              "    <tr>\n",
              "      <th>1</th>\n",
              "      <td>Prunus</td>\n",
              "      <td>Apricot</td>\n",
              "      <td>35</td>\n",
              "      <td>Rosaceae</td>\n",
              "      <td>Rosales</td>\n",
              "      <td>{'carbohydrates': 3.9, 'protein': 0.5, 'fat': ...</td>\n",
              "    </tr>\n",
              "    <tr>\n",
              "      <th>2</th>\n",
              "      <td>Musa</td>\n",
              "      <td>Banana</td>\n",
              "      <td>1</td>\n",
              "      <td>Musaceae</td>\n",
              "      <td>Zingiberales</td>\n",
              "      <td>{'carbohydrates': 22, 'protein': 1, 'fat': 0.2...</td>\n",
              "    </tr>\n",
              "    <tr>\n",
              "      <th>3</th>\n",
              "      <td>Rubus</td>\n",
              "      <td>Blackberry</td>\n",
              "      <td>64</td>\n",
              "      <td>Rosaceae</td>\n",
              "      <td>Rosales</td>\n",
              "      <td>{'carbohydrates': 9, 'protein': 1.3, 'fat': 0....</td>\n",
              "    </tr>\n",
              "    <tr>\n",
              "      <th>4</th>\n",
              "      <td>Fragaria</td>\n",
              "      <td>Blueberry</td>\n",
              "      <td>33</td>\n",
              "      <td>Rosaceae</td>\n",
              "      <td>Rosales</td>\n",
              "      <td>{'carbohydrates': 5.5, 'protein': 0, 'fat': 0....</td>\n",
              "    </tr>\n",
              "    <tr>\n",
              "      <th>5</th>\n",
              "      <td>Prunus</td>\n",
              "      <td>Cherry</td>\n",
              "      <td>9</td>\n",
              "      <td>Rosaceae</td>\n",
              "      <td>None</td>\n",
              "      <td>{'carbohydrates': 12, 'protein': 1, 'fat': 0.3...</td>\n",
              "    </tr>\n",
              "    <tr>\n",
              "      <th>6</th>\n",
              "      <td>Durio</td>\n",
              "      <td>Durian</td>\n",
              "      <td>60</td>\n",
              "      <td>Malvaceae</td>\n",
              "      <td>Malvales</td>\n",
              "      <td>{'carbohydrates': 27.1, 'protein': 1.5, 'fat':...</td>\n",
              "    </tr>\n",
              "    <tr>\n",
              "      <th>7</th>\n",
              "      <td>Ficus</td>\n",
              "      <td>Fig</td>\n",
              "      <td>68</td>\n",
              "      <td>Moraceae</td>\n",
              "      <td>Rosales</td>\n",
              "      <td>{'carbohydrates': 19, 'protein': 0.8, 'fat': 0...</td>\n",
              "    </tr>\n",
              "    <tr>\n",
              "      <th>8</th>\n",
              "      <td>Ribes</td>\n",
              "      <td>Gooseberry</td>\n",
              "      <td>69</td>\n",
              "      <td>Grossulariaceae</td>\n",
              "      <td>Saxifragales</td>\n",
              "      <td>{'carbohydrates': 10, 'protein': 0.9, 'fat': 0...</td>\n",
              "    </tr>\n",
              "    <tr>\n",
              "      <th>9</th>\n",
              "      <td>Vitis</td>\n",
              "      <td>Grapes</td>\n",
              "      <td>47</td>\n",
              "      <td>Vitaceae</td>\n",
              "      <td>Vitales</td>\n",
              "      <td>{'carbohydrates': 18.1, 'protein': 0.72, 'fat'...</td>\n",
              "    </tr>\n",
              "    <tr>\n",
              "      <th>10</th>\n",
              "      <td>Malus</td>\n",
              "      <td>GreenApple</td>\n",
              "      <td>72</td>\n",
              "      <td>Rosaceae</td>\n",
              "      <td>Rosales</td>\n",
              "      <td>{'carbohydrates': 3.1, 'protein': 0.4, 'fat': ...</td>\n",
              "    </tr>\n",
              "    <tr>\n",
              "      <th>11</th>\n",
              "      <td>Psidium</td>\n",
              "      <td>Guava</td>\n",
              "      <td>37</td>\n",
              "      <td>Myrtaceae</td>\n",
              "      <td>Myrtales</td>\n",
              "      <td>{'carbohydrates': 14, 'protein': 2.6, 'fat': 1...</td>\n",
              "    </tr>\n",
              "    <tr>\n",
              "      <th>12</th>\n",
              "      <td>Apteryx</td>\n",
              "      <td>Kiwi</td>\n",
              "      <td>66</td>\n",
              "      <td>Actinidiaceae</td>\n",
              "      <td>Struthioniformes</td>\n",
              "      <td>{'carbohydrates': 15, 'protein': 1.1, 'fat': 0...</td>\n",
              "    </tr>\n",
              "    <tr>\n",
              "      <th>13</th>\n",
              "      <td>Citrus</td>\n",
              "      <td>Lemon</td>\n",
              "      <td>26</td>\n",
              "      <td>Rutaceae</td>\n",
              "      <td>Sapindales</td>\n",
              "      <td>{'carbohydrates': 9, 'protein': 1.1, 'fat': 0....</td>\n",
              "    </tr>\n",
              "    <tr>\n",
              "      <th>14</th>\n",
              "      <td>Citrus</td>\n",
              "      <td>Lime</td>\n",
              "      <td>44</td>\n",
              "      <td>Rutaceae</td>\n",
              "      <td>Sapindales</td>\n",
              "      <td>{'carbohydrates': 8.4, 'protein': 0.3, 'fat': ...</td>\n",
              "    </tr>\n",
              "    <tr>\n",
              "      <th>15</th>\n",
              "      <td>Vaccinium</td>\n",
              "      <td>Lingonberry</td>\n",
              "      <td>65</td>\n",
              "      <td>Ericaceae</td>\n",
              "      <td>Ericales</td>\n",
              "      <td>{'carbohydrates': 11.3, 'protein': 0.75, 'fat'...</td>\n",
              "    </tr>\n",
              "    <tr>\n",
              "      <th>16</th>\n",
              "      <td>Litchi</td>\n",
              "      <td>Lychee</td>\n",
              "      <td>67</td>\n",
              "      <td>Sapindaceae</td>\n",
              "      <td>Sapindales</td>\n",
              "      <td>{'carbohydrates': 17, 'protein': 0.8, 'fat': 0...</td>\n",
              "    </tr>\n",
              "    <tr>\n",
              "      <th>17</th>\n",
              "      <td>Mangifera</td>\n",
              "      <td>Mango</td>\n",
              "      <td>27</td>\n",
              "      <td>Anacardiaceae</td>\n",
              "      <td>Sapindales</td>\n",
              "      <td>{'carbohydrates': 15, 'protein': 0.82, 'fat': ...</td>\n",
              "    </tr>\n",
              "    <tr>\n",
              "      <th>18</th>\n",
              "      <td>Cucumis</td>\n",
              "      <td>Melon</td>\n",
              "      <td>41</td>\n",
              "      <td>Cucurbitaceae</td>\n",
              "      <td>Cucurbitaceae</td>\n",
              "      <td>{'carbohydrates': 8, 'protein': 0, 'fat': 0, '...</td>\n",
              "    </tr>\n",
              "    <tr>\n",
              "      <th>19</th>\n",
              "      <td>Citrus</td>\n",
              "      <td>Orange</td>\n",
              "      <td>2</td>\n",
              "      <td>Rutaceae</td>\n",
              "      <td>Sapindales</td>\n",
              "      <td>{'carbohydrates': 8.3, 'protein': 1, 'fat': 0....</td>\n",
              "    </tr>\n",
              "    <tr>\n",
              "      <th>20</th>\n",
              "      <td>Carica</td>\n",
              "      <td>Papaya</td>\n",
              "      <td>42</td>\n",
              "      <td>Caricaceae</td>\n",
              "      <td>Caricacea</td>\n",
              "      <td>{'carbohydrates': 11, 'protein': 0, 'fat': 0.4...</td>\n",
              "    </tr>\n",
              "    <tr>\n",
              "      <th>21</th>\n",
              "      <td>Passiflora</td>\n",
              "      <td>Passionfruit</td>\n",
              "      <td>70</td>\n",
              "      <td>Passifloraceae</td>\n",
              "      <td>Malpighiales</td>\n",
              "      <td>{'carbohydrates': 22.4, 'protein': 2.2, 'fat':...</td>\n",
              "    </tr>\n",
              "    <tr>\n",
              "      <th>22</th>\n",
              "      <td>Pyrus</td>\n",
              "      <td>Pear</td>\n",
              "      <td>4</td>\n",
              "      <td>Rosaceae</td>\n",
              "      <td>Rosales</td>\n",
              "      <td>{'carbohydrates': 15, 'protein': 0.4, 'fat': 0...</td>\n",
              "    </tr>\n",
              "    <tr>\n",
              "      <th>23</th>\n",
              "      <td>Diospyros</td>\n",
              "      <td>Persimmon</td>\n",
              "      <td>52</td>\n",
              "      <td>Ebenaceae</td>\n",
              "      <td>Rosales</td>\n",
              "      <td>{'carbohydrates': 18, 'protein': 0, 'fat': 0, ...</td>\n",
              "    </tr>\n",
              "    <tr>\n",
              "      <th>24</th>\n",
              "      <td>Ananas</td>\n",
              "      <td>Pineapple</td>\n",
              "      <td>10</td>\n",
              "      <td>Bromeliaceae</td>\n",
              "      <td>Poales</td>\n",
              "      <td>{'carbohydrates': 13.12, 'protein': 0.54, 'fat...</td>\n",
              "    </tr>\n",
              "    <tr>\n",
              "      <th>25</th>\n",
              "      <td>Prunus</td>\n",
              "      <td>Plum</td>\n",
              "      <td>71</td>\n",
              "      <td>Rosaceae</td>\n",
              "      <td>Rosales</td>\n",
              "      <td>{'carbohydrates': 11.4, 'protein': 0.7, 'fat':...</td>\n",
              "    </tr>\n",
              "    <tr>\n",
              "      <th>26</th>\n",
              "      <td>Rubus</td>\n",
              "      <td>Raspberry</td>\n",
              "      <td>23</td>\n",
              "      <td>Rosaceae</td>\n",
              "      <td>Rosales</td>\n",
              "      <td>{'carbohydrates': 12, 'protein': 1.2, 'fat': 0...</td>\n",
              "    </tr>\n",
              "    <tr>\n",
              "      <th>27</th>\n",
              "      <td>Fragaria</td>\n",
              "      <td>Strawberry</td>\n",
              "      <td>3</td>\n",
              "      <td>Rosaceae</td>\n",
              "      <td>Rosales</td>\n",
              "      <td>{'carbohydrates': 5.5, 'protein': 0.8, 'fat': ...</td>\n",
              "    </tr>\n",
              "    <tr>\n",
              "      <th>28</th>\n",
              "      <td>Solanum</td>\n",
              "      <td>Tomato</td>\n",
              "      <td>5</td>\n",
              "      <td>Solanaceae</td>\n",
              "      <td>Solanales</td>\n",
              "      <td>{'carbohydrates': 3.9, 'protein': 0.9, 'fat': ...</td>\n",
              "    </tr>\n",
              "    <tr>\n",
              "      <th>29</th>\n",
              "      <td>Spondias</td>\n",
              "      <td>Umbu</td>\n",
              "      <td>73</td>\n",
              "      <td>Anacardiaceae</td>\n",
              "      <td>0</td>\n",
              "      <td>{'carbohydrates': 0, 'protein': 0, 'fat': 0, '...</td>\n",
              "    </tr>\n",
              "    <tr>\n",
              "      <th>30</th>\n",
              "      <td>Citrullus</td>\n",
              "      <td>Watermelon</td>\n",
              "      <td>25</td>\n",
              "      <td>Cucurbitaceae</td>\n",
              "      <td>Cucurbitales</td>\n",
              "      <td>{'carbohydrates': 8, 'protein': 0.6, 'fat': 0....</td>\n",
              "    </tr>\n",
              "  </tbody>\n",
              "</table>\n",
              "</div>"
            ],
            "text/plain": [
              "         genus          name  id           family             order  \\\n",
              "0        Malus         Apple   6         Rosaceae           Rosales   \n",
              "1       Prunus       Apricot  35         Rosaceae           Rosales   \n",
              "2         Musa        Banana   1         Musaceae      Zingiberales   \n",
              "3        Rubus    Blackberry  64         Rosaceae           Rosales   \n",
              "4     Fragaria     Blueberry  33         Rosaceae           Rosales   \n",
              "5       Prunus        Cherry   9         Rosaceae              None   \n",
              "6        Durio        Durian  60        Malvaceae          Malvales   \n",
              "7        Ficus           Fig  68         Moraceae           Rosales   \n",
              "8        Ribes    Gooseberry  69  Grossulariaceae      Saxifragales   \n",
              "9        Vitis        Grapes  47         Vitaceae           Vitales   \n",
              "10       Malus    GreenApple  72         Rosaceae           Rosales   \n",
              "11     Psidium         Guava  37        Myrtaceae          Myrtales   \n",
              "12     Apteryx          Kiwi  66    Actinidiaceae  Struthioniformes   \n",
              "13      Citrus         Lemon  26         Rutaceae        Sapindales   \n",
              "14      Citrus          Lime  44         Rutaceae        Sapindales   \n",
              "15   Vaccinium   Lingonberry  65        Ericaceae          Ericales   \n",
              "16      Litchi        Lychee  67      Sapindaceae        Sapindales   \n",
              "17   Mangifera         Mango  27    Anacardiaceae        Sapindales   \n",
              "18     Cucumis         Melon  41    Cucurbitaceae     Cucurbitaceae   \n",
              "19      Citrus        Orange   2         Rutaceae        Sapindales   \n",
              "20      Carica        Papaya  42       Caricaceae         Caricacea   \n",
              "21  Passiflora  Passionfruit  70   Passifloraceae      Malpighiales   \n",
              "22       Pyrus          Pear   4         Rosaceae           Rosales   \n",
              "23   Diospyros     Persimmon  52        Ebenaceae           Rosales   \n",
              "24      Ananas     Pineapple  10     Bromeliaceae            Poales   \n",
              "25      Prunus          Plum  71         Rosaceae           Rosales   \n",
              "26       Rubus     Raspberry  23         Rosaceae           Rosales   \n",
              "27    Fragaria    Strawberry   3         Rosaceae           Rosales   \n",
              "28     Solanum        Tomato   5       Solanaceae         Solanales   \n",
              "29    Spondias          Umbu  73    Anacardiaceae                 0   \n",
              "30   Citrullus    Watermelon  25    Cucurbitaceae      Cucurbitales   \n",
              "\n",
              "                                           nutritions  \n",
              "0   {'carbohydrates': 11.4, 'protein': 0.3, 'fat':...  \n",
              "1   {'carbohydrates': 3.9, 'protein': 0.5, 'fat': ...  \n",
              "2   {'carbohydrates': 22, 'protein': 1, 'fat': 0.2...  \n",
              "3   {'carbohydrates': 9, 'protein': 1.3, 'fat': 0....  \n",
              "4   {'carbohydrates': 5.5, 'protein': 0, 'fat': 0....  \n",
              "5   {'carbohydrates': 12, 'protein': 1, 'fat': 0.3...  \n",
              "6   {'carbohydrates': 27.1, 'protein': 1.5, 'fat':...  \n",
              "7   {'carbohydrates': 19, 'protein': 0.8, 'fat': 0...  \n",
              "8   {'carbohydrates': 10, 'protein': 0.9, 'fat': 0...  \n",
              "9   {'carbohydrates': 18.1, 'protein': 0.72, 'fat'...  \n",
              "10  {'carbohydrates': 3.1, 'protein': 0.4, 'fat': ...  \n",
              "11  {'carbohydrates': 14, 'protein': 2.6, 'fat': 1...  \n",
              "12  {'carbohydrates': 15, 'protein': 1.1, 'fat': 0...  \n",
              "13  {'carbohydrates': 9, 'protein': 1.1, 'fat': 0....  \n",
              "14  {'carbohydrates': 8.4, 'protein': 0.3, 'fat': ...  \n",
              "15  {'carbohydrates': 11.3, 'protein': 0.75, 'fat'...  \n",
              "16  {'carbohydrates': 17, 'protein': 0.8, 'fat': 0...  \n",
              "17  {'carbohydrates': 15, 'protein': 0.82, 'fat': ...  \n",
              "18  {'carbohydrates': 8, 'protein': 0, 'fat': 0, '...  \n",
              "19  {'carbohydrates': 8.3, 'protein': 1, 'fat': 0....  \n",
              "20  {'carbohydrates': 11, 'protein': 0, 'fat': 0.4...  \n",
              "21  {'carbohydrates': 22.4, 'protein': 2.2, 'fat':...  \n",
              "22  {'carbohydrates': 15, 'protein': 0.4, 'fat': 0...  \n",
              "23  {'carbohydrates': 18, 'protein': 0, 'fat': 0, ...  \n",
              "24  {'carbohydrates': 13.12, 'protein': 0.54, 'fat...  \n",
              "25  {'carbohydrates': 11.4, 'protein': 0.7, 'fat':...  \n",
              "26  {'carbohydrates': 12, 'protein': 1.2, 'fat': 0...  \n",
              "27  {'carbohydrates': 5.5, 'protein': 0.8, 'fat': ...  \n",
              "28  {'carbohydrates': 3.9, 'protein': 0.9, 'fat': ...  \n",
              "29  {'carbohydrates': 0, 'protein': 0, 'fat': 0, '...  \n",
              "30  {'carbohydrates': 8, 'protein': 0.6, 'fat': 0....  "
            ]
          },
          "execution_count": 14,
          "metadata": {},
          "output_type": "execute_result"
        }
      ],
      "source": [
        "pd.DataFrame(results)"
      ]
    },
    {
      "cell_type": "code",
      "execution_count": null,
      "id": "3acd6cce",
      "metadata": {
        "id": "3acd6cce"
      },
      "outputs": [],
      "source": [
        "df2 = pd.json_normalize(results)"
      ]
    },
    {
      "cell_type": "code",
      "execution_count": null,
      "id": "7f9f0e6f",
      "metadata": {
        "id": "7f9f0e6f",
        "outputId": "827ee265-dfd7-4d78-a197-5aabbaecd415"
      },
      "outputs": [
        {
          "data": {
            "text/html": [
              "<div>\n",
              "<style scoped>\n",
              "    .dataframe tbody tr th:only-of-type {\n",
              "        vertical-align: middle;\n",
              "    }\n",
              "\n",
              "    .dataframe tbody tr th {\n",
              "        vertical-align: top;\n",
              "    }\n",
              "\n",
              "    .dataframe thead th {\n",
              "        text-align: right;\n",
              "    }\n",
              "</style>\n",
              "<table border=\"1\" class=\"dataframe\">\n",
              "  <thead>\n",
              "    <tr style=\"text-align: right;\">\n",
              "      <th></th>\n",
              "      <th>genus</th>\n",
              "      <th>name</th>\n",
              "      <th>id</th>\n",
              "      <th>family</th>\n",
              "      <th>order</th>\n",
              "      <th>nutritions.carbohydrates</th>\n",
              "      <th>nutritions.protein</th>\n",
              "      <th>nutritions.fat</th>\n",
              "      <th>nutritions.calories</th>\n",
              "      <th>nutritions.sugar</th>\n",
              "    </tr>\n",
              "  </thead>\n",
              "  <tbody>\n",
              "    <tr>\n",
              "      <th>0</th>\n",
              "      <td>Malus</td>\n",
              "      <td>Apple</td>\n",
              "      <td>6</td>\n",
              "      <td>Rosaceae</td>\n",
              "      <td>Rosales</td>\n",
              "      <td>11.40</td>\n",
              "      <td>0.30</td>\n",
              "      <td>0.40</td>\n",
              "      <td>52</td>\n",
              "      <td>10.30</td>\n",
              "    </tr>\n",
              "    <tr>\n",
              "      <th>1</th>\n",
              "      <td>Prunus</td>\n",
              "      <td>Apricot</td>\n",
              "      <td>35</td>\n",
              "      <td>Rosaceae</td>\n",
              "      <td>Rosales</td>\n",
              "      <td>3.90</td>\n",
              "      <td>0.50</td>\n",
              "      <td>0.10</td>\n",
              "      <td>15</td>\n",
              "      <td>3.20</td>\n",
              "    </tr>\n",
              "    <tr>\n",
              "      <th>2</th>\n",
              "      <td>Musa</td>\n",
              "      <td>Banana</td>\n",
              "      <td>1</td>\n",
              "      <td>Musaceae</td>\n",
              "      <td>Zingiberales</td>\n",
              "      <td>22.00</td>\n",
              "      <td>1.00</td>\n",
              "      <td>0.20</td>\n",
              "      <td>96</td>\n",
              "      <td>17.20</td>\n",
              "    </tr>\n",
              "    <tr>\n",
              "      <th>3</th>\n",
              "      <td>Rubus</td>\n",
              "      <td>Blackberry</td>\n",
              "      <td>64</td>\n",
              "      <td>Rosaceae</td>\n",
              "      <td>Rosales</td>\n",
              "      <td>9.00</td>\n",
              "      <td>1.30</td>\n",
              "      <td>0.40</td>\n",
              "      <td>40</td>\n",
              "      <td>4.50</td>\n",
              "    </tr>\n",
              "    <tr>\n",
              "      <th>4</th>\n",
              "      <td>Fragaria</td>\n",
              "      <td>Blueberry</td>\n",
              "      <td>33</td>\n",
              "      <td>Rosaceae</td>\n",
              "      <td>Rosales</td>\n",
              "      <td>5.50</td>\n",
              "      <td>0.00</td>\n",
              "      <td>0.40</td>\n",
              "      <td>29</td>\n",
              "      <td>5.40</td>\n",
              "    </tr>\n",
              "    <tr>\n",
              "      <th>5</th>\n",
              "      <td>Prunus</td>\n",
              "      <td>Cherry</td>\n",
              "      <td>9</td>\n",
              "      <td>Rosaceae</td>\n",
              "      <td>None</td>\n",
              "      <td>12.00</td>\n",
              "      <td>1.00</td>\n",
              "      <td>0.30</td>\n",
              "      <td>50</td>\n",
              "      <td>8.00</td>\n",
              "    </tr>\n",
              "    <tr>\n",
              "      <th>6</th>\n",
              "      <td>Durio</td>\n",
              "      <td>Durian</td>\n",
              "      <td>60</td>\n",
              "      <td>Malvaceae</td>\n",
              "      <td>Malvales</td>\n",
              "      <td>27.10</td>\n",
              "      <td>1.50</td>\n",
              "      <td>5.30</td>\n",
              "      <td>147</td>\n",
              "      <td>6.75</td>\n",
              "    </tr>\n",
              "    <tr>\n",
              "      <th>7</th>\n",
              "      <td>Ficus</td>\n",
              "      <td>Fig</td>\n",
              "      <td>68</td>\n",
              "      <td>Moraceae</td>\n",
              "      <td>Rosales</td>\n",
              "      <td>19.00</td>\n",
              "      <td>0.80</td>\n",
              "      <td>0.30</td>\n",
              "      <td>74</td>\n",
              "      <td>16.00</td>\n",
              "    </tr>\n",
              "    <tr>\n",
              "      <th>8</th>\n",
              "      <td>Ribes</td>\n",
              "      <td>Gooseberry</td>\n",
              "      <td>69</td>\n",
              "      <td>Grossulariaceae</td>\n",
              "      <td>Saxifragales</td>\n",
              "      <td>10.00</td>\n",
              "      <td>0.90</td>\n",
              "      <td>0.60</td>\n",
              "      <td>44</td>\n",
              "      <td>0.00</td>\n",
              "    </tr>\n",
              "    <tr>\n",
              "      <th>9</th>\n",
              "      <td>Vitis</td>\n",
              "      <td>Grapes</td>\n",
              "      <td>47</td>\n",
              "      <td>Vitaceae</td>\n",
              "      <td>Vitales</td>\n",
              "      <td>18.10</td>\n",
              "      <td>0.72</td>\n",
              "      <td>0.16</td>\n",
              "      <td>69</td>\n",
              "      <td>15.48</td>\n",
              "    </tr>\n",
              "    <tr>\n",
              "      <th>10</th>\n",
              "      <td>Malus</td>\n",
              "      <td>GreenApple</td>\n",
              "      <td>72</td>\n",
              "      <td>Rosaceae</td>\n",
              "      <td>Rosales</td>\n",
              "      <td>3.10</td>\n",
              "      <td>0.40</td>\n",
              "      <td>0.10</td>\n",
              "      <td>21</td>\n",
              "      <td>6.40</td>\n",
              "    </tr>\n",
              "    <tr>\n",
              "      <th>11</th>\n",
              "      <td>Psidium</td>\n",
              "      <td>Guava</td>\n",
              "      <td>37</td>\n",
              "      <td>Myrtaceae</td>\n",
              "      <td>Myrtales</td>\n",
              "      <td>14.00</td>\n",
              "      <td>2.60</td>\n",
              "      <td>1.00</td>\n",
              "      <td>68</td>\n",
              "      <td>9.00</td>\n",
              "    </tr>\n",
              "    <tr>\n",
              "      <th>12</th>\n",
              "      <td>Apteryx</td>\n",
              "      <td>Kiwi</td>\n",
              "      <td>66</td>\n",
              "      <td>Actinidiaceae</td>\n",
              "      <td>Struthioniformes</td>\n",
              "      <td>15.00</td>\n",
              "      <td>1.10</td>\n",
              "      <td>0.50</td>\n",
              "      <td>61</td>\n",
              "      <td>9.00</td>\n",
              "    </tr>\n",
              "    <tr>\n",
              "      <th>13</th>\n",
              "      <td>Citrus</td>\n",
              "      <td>Lemon</td>\n",
              "      <td>26</td>\n",
              "      <td>Rutaceae</td>\n",
              "      <td>Sapindales</td>\n",
              "      <td>9.00</td>\n",
              "      <td>1.10</td>\n",
              "      <td>0.30</td>\n",
              "      <td>29</td>\n",
              "      <td>2.50</td>\n",
              "    </tr>\n",
              "    <tr>\n",
              "      <th>14</th>\n",
              "      <td>Citrus</td>\n",
              "      <td>Lime</td>\n",
              "      <td>44</td>\n",
              "      <td>Rutaceae</td>\n",
              "      <td>Sapindales</td>\n",
              "      <td>8.40</td>\n",
              "      <td>0.30</td>\n",
              "      <td>0.10</td>\n",
              "      <td>25</td>\n",
              "      <td>1.70</td>\n",
              "    </tr>\n",
              "    <tr>\n",
              "      <th>15</th>\n",
              "      <td>Vaccinium</td>\n",
              "      <td>Lingonberry</td>\n",
              "      <td>65</td>\n",
              "      <td>Ericaceae</td>\n",
              "      <td>Ericales</td>\n",
              "      <td>11.30</td>\n",
              "      <td>0.75</td>\n",
              "      <td>0.34</td>\n",
              "      <td>50</td>\n",
              "      <td>5.74</td>\n",
              "    </tr>\n",
              "    <tr>\n",
              "      <th>16</th>\n",
              "      <td>Litchi</td>\n",
              "      <td>Lychee</td>\n",
              "      <td>67</td>\n",
              "      <td>Sapindaceae</td>\n",
              "      <td>Sapindales</td>\n",
              "      <td>17.00</td>\n",
              "      <td>0.80</td>\n",
              "      <td>0.44</td>\n",
              "      <td>66</td>\n",
              "      <td>15.00</td>\n",
              "    </tr>\n",
              "    <tr>\n",
              "      <th>17</th>\n",
              "      <td>Mangifera</td>\n",
              "      <td>Mango</td>\n",
              "      <td>27</td>\n",
              "      <td>Anacardiaceae</td>\n",
              "      <td>Sapindales</td>\n",
              "      <td>15.00</td>\n",
              "      <td>0.82</td>\n",
              "      <td>0.38</td>\n",
              "      <td>60</td>\n",
              "      <td>13.70</td>\n",
              "    </tr>\n",
              "    <tr>\n",
              "      <th>18</th>\n",
              "      <td>Cucumis</td>\n",
              "      <td>Melon</td>\n",
              "      <td>41</td>\n",
              "      <td>Cucurbitaceae</td>\n",
              "      <td>Cucurbitaceae</td>\n",
              "      <td>8.00</td>\n",
              "      <td>0.00</td>\n",
              "      <td>0.00</td>\n",
              "      <td>34</td>\n",
              "      <td>8.00</td>\n",
              "    </tr>\n",
              "    <tr>\n",
              "      <th>19</th>\n",
              "      <td>Citrus</td>\n",
              "      <td>Orange</td>\n",
              "      <td>2</td>\n",
              "      <td>Rutaceae</td>\n",
              "      <td>Sapindales</td>\n",
              "      <td>8.30</td>\n",
              "      <td>1.00</td>\n",
              "      <td>0.20</td>\n",
              "      <td>43</td>\n",
              "      <td>8.20</td>\n",
              "    </tr>\n",
              "    <tr>\n",
              "      <th>20</th>\n",
              "      <td>Carica</td>\n",
              "      <td>Papaya</td>\n",
              "      <td>42</td>\n",
              "      <td>Caricaceae</td>\n",
              "      <td>Caricacea</td>\n",
              "      <td>11.00</td>\n",
              "      <td>0.00</td>\n",
              "      <td>0.40</td>\n",
              "      <td>43</td>\n",
              "      <td>1.00</td>\n",
              "    </tr>\n",
              "    <tr>\n",
              "      <th>21</th>\n",
              "      <td>Passiflora</td>\n",
              "      <td>Passionfruit</td>\n",
              "      <td>70</td>\n",
              "      <td>Passifloraceae</td>\n",
              "      <td>Malpighiales</td>\n",
              "      <td>22.40</td>\n",
              "      <td>2.20</td>\n",
              "      <td>0.70</td>\n",
              "      <td>97</td>\n",
              "      <td>11.20</td>\n",
              "    </tr>\n",
              "    <tr>\n",
              "      <th>22</th>\n",
              "      <td>Pyrus</td>\n",
              "      <td>Pear</td>\n",
              "      <td>4</td>\n",
              "      <td>Rosaceae</td>\n",
              "      <td>Rosales</td>\n",
              "      <td>15.00</td>\n",
              "      <td>0.40</td>\n",
              "      <td>0.10</td>\n",
              "      <td>57</td>\n",
              "      <td>10.00</td>\n",
              "    </tr>\n",
              "    <tr>\n",
              "      <th>23</th>\n",
              "      <td>Diospyros</td>\n",
              "      <td>Persimmon</td>\n",
              "      <td>52</td>\n",
              "      <td>Ebenaceae</td>\n",
              "      <td>Rosales</td>\n",
              "      <td>18.00</td>\n",
              "      <td>0.00</td>\n",
              "      <td>0.00</td>\n",
              "      <td>81</td>\n",
              "      <td>18.00</td>\n",
              "    </tr>\n",
              "    <tr>\n",
              "      <th>24</th>\n",
              "      <td>Ananas</td>\n",
              "      <td>Pineapple</td>\n",
              "      <td>10</td>\n",
              "      <td>Bromeliaceae</td>\n",
              "      <td>Poales</td>\n",
              "      <td>13.12</td>\n",
              "      <td>0.54</td>\n",
              "      <td>0.12</td>\n",
              "      <td>50</td>\n",
              "      <td>9.85</td>\n",
              "    </tr>\n",
              "    <tr>\n",
              "      <th>25</th>\n",
              "      <td>Prunus</td>\n",
              "      <td>Plum</td>\n",
              "      <td>71</td>\n",
              "      <td>Rosaceae</td>\n",
              "      <td>Rosales</td>\n",
              "      <td>11.40</td>\n",
              "      <td>0.70</td>\n",
              "      <td>0.28</td>\n",
              "      <td>46</td>\n",
              "      <td>9.92</td>\n",
              "    </tr>\n",
              "    <tr>\n",
              "      <th>26</th>\n",
              "      <td>Rubus</td>\n",
              "      <td>Raspberry</td>\n",
              "      <td>23</td>\n",
              "      <td>Rosaceae</td>\n",
              "      <td>Rosales</td>\n",
              "      <td>12.00</td>\n",
              "      <td>1.20</td>\n",
              "      <td>0.70</td>\n",
              "      <td>53</td>\n",
              "      <td>4.40</td>\n",
              "    </tr>\n",
              "    <tr>\n",
              "      <th>27</th>\n",
              "      <td>Fragaria</td>\n",
              "      <td>Strawberry</td>\n",
              "      <td>3</td>\n",
              "      <td>Rosaceae</td>\n",
              "      <td>Rosales</td>\n",
              "      <td>5.50</td>\n",
              "      <td>0.80</td>\n",
              "      <td>0.40</td>\n",
              "      <td>29</td>\n",
              "      <td>5.40</td>\n",
              "    </tr>\n",
              "    <tr>\n",
              "      <th>28</th>\n",
              "      <td>Solanum</td>\n",
              "      <td>Tomato</td>\n",
              "      <td>5</td>\n",
              "      <td>Solanaceae</td>\n",
              "      <td>Solanales</td>\n",
              "      <td>3.90</td>\n",
              "      <td>0.90</td>\n",
              "      <td>0.20</td>\n",
              "      <td>74</td>\n",
              "      <td>2.60</td>\n",
              "    </tr>\n",
              "    <tr>\n",
              "      <th>29</th>\n",
              "      <td>Spondias</td>\n",
              "      <td>Umbu</td>\n",
              "      <td>73</td>\n",
              "      <td>Anacardiaceae</td>\n",
              "      <td>0</td>\n",
              "      <td>0.00</td>\n",
              "      <td>0.00</td>\n",
              "      <td>0.00</td>\n",
              "      <td>0</td>\n",
              "      <td>0.00</td>\n",
              "    </tr>\n",
              "    <tr>\n",
              "      <th>30</th>\n",
              "      <td>Citrullus</td>\n",
              "      <td>Watermelon</td>\n",
              "      <td>25</td>\n",
              "      <td>Cucurbitaceae</td>\n",
              "      <td>Cucurbitales</td>\n",
              "      <td>8.00</td>\n",
              "      <td>0.60</td>\n",
              "      <td>0.20</td>\n",
              "      <td>30</td>\n",
              "      <td>6.00</td>\n",
              "    </tr>\n",
              "  </tbody>\n",
              "</table>\n",
              "</div>"
            ],
            "text/plain": [
              "         genus          name  id           family             order  \\\n",
              "0        Malus         Apple   6         Rosaceae           Rosales   \n",
              "1       Prunus       Apricot  35         Rosaceae           Rosales   \n",
              "2         Musa        Banana   1         Musaceae      Zingiberales   \n",
              "3        Rubus    Blackberry  64         Rosaceae           Rosales   \n",
              "4     Fragaria     Blueberry  33         Rosaceae           Rosales   \n",
              "5       Prunus        Cherry   9         Rosaceae              None   \n",
              "6        Durio        Durian  60        Malvaceae          Malvales   \n",
              "7        Ficus           Fig  68         Moraceae           Rosales   \n",
              "8        Ribes    Gooseberry  69  Grossulariaceae      Saxifragales   \n",
              "9        Vitis        Grapes  47         Vitaceae           Vitales   \n",
              "10       Malus    GreenApple  72         Rosaceae           Rosales   \n",
              "11     Psidium         Guava  37        Myrtaceae          Myrtales   \n",
              "12     Apteryx          Kiwi  66    Actinidiaceae  Struthioniformes   \n",
              "13      Citrus         Lemon  26         Rutaceae        Sapindales   \n",
              "14      Citrus          Lime  44         Rutaceae        Sapindales   \n",
              "15   Vaccinium   Lingonberry  65        Ericaceae          Ericales   \n",
              "16      Litchi        Lychee  67      Sapindaceae        Sapindales   \n",
              "17   Mangifera         Mango  27    Anacardiaceae        Sapindales   \n",
              "18     Cucumis         Melon  41    Cucurbitaceae     Cucurbitaceae   \n",
              "19      Citrus        Orange   2         Rutaceae        Sapindales   \n",
              "20      Carica        Papaya  42       Caricaceae         Caricacea   \n",
              "21  Passiflora  Passionfruit  70   Passifloraceae      Malpighiales   \n",
              "22       Pyrus          Pear   4         Rosaceae           Rosales   \n",
              "23   Diospyros     Persimmon  52        Ebenaceae           Rosales   \n",
              "24      Ananas     Pineapple  10     Bromeliaceae            Poales   \n",
              "25      Prunus          Plum  71         Rosaceae           Rosales   \n",
              "26       Rubus     Raspberry  23         Rosaceae           Rosales   \n",
              "27    Fragaria    Strawberry   3         Rosaceae           Rosales   \n",
              "28     Solanum        Tomato   5       Solanaceae         Solanales   \n",
              "29    Spondias          Umbu  73    Anacardiaceae                 0   \n",
              "30   Citrullus    Watermelon  25    Cucurbitaceae      Cucurbitales   \n",
              "\n",
              "    nutritions.carbohydrates  nutritions.protein  nutritions.fat  \\\n",
              "0                      11.40                0.30            0.40   \n",
              "1                       3.90                0.50            0.10   \n",
              "2                      22.00                1.00            0.20   \n",
              "3                       9.00                1.30            0.40   \n",
              "4                       5.50                0.00            0.40   \n",
              "5                      12.00                1.00            0.30   \n",
              "6                      27.10                1.50            5.30   \n",
              "7                      19.00                0.80            0.30   \n",
              "8                      10.00                0.90            0.60   \n",
              "9                      18.10                0.72            0.16   \n",
              "10                      3.10                0.40            0.10   \n",
              "11                     14.00                2.60            1.00   \n",
              "12                     15.00                1.10            0.50   \n",
              "13                      9.00                1.10            0.30   \n",
              "14                      8.40                0.30            0.10   \n",
              "15                     11.30                0.75            0.34   \n",
              "16                     17.00                0.80            0.44   \n",
              "17                     15.00                0.82            0.38   \n",
              "18                      8.00                0.00            0.00   \n",
              "19                      8.30                1.00            0.20   \n",
              "20                     11.00                0.00            0.40   \n",
              "21                     22.40                2.20            0.70   \n",
              "22                     15.00                0.40            0.10   \n",
              "23                     18.00                0.00            0.00   \n",
              "24                     13.12                0.54            0.12   \n",
              "25                     11.40                0.70            0.28   \n",
              "26                     12.00                1.20            0.70   \n",
              "27                      5.50                0.80            0.40   \n",
              "28                      3.90                0.90            0.20   \n",
              "29                      0.00                0.00            0.00   \n",
              "30                      8.00                0.60            0.20   \n",
              "\n",
              "    nutritions.calories  nutritions.sugar  \n",
              "0                    52             10.30  \n",
              "1                    15              3.20  \n",
              "2                    96             17.20  \n",
              "3                    40              4.50  \n",
              "4                    29              5.40  \n",
              "5                    50              8.00  \n",
              "6                   147              6.75  \n",
              "7                    74             16.00  \n",
              "8                    44              0.00  \n",
              "9                    69             15.48  \n",
              "10                   21              6.40  \n",
              "11                   68              9.00  \n",
              "12                   61              9.00  \n",
              "13                   29              2.50  \n",
              "14                   25              1.70  \n",
              "15                   50              5.74  \n",
              "16                   66             15.00  \n",
              "17                   60             13.70  \n",
              "18                   34              8.00  \n",
              "19                   43              8.20  \n",
              "20                   43              1.00  \n",
              "21                   97             11.20  \n",
              "22                   57             10.00  \n",
              "23                   81             18.00  \n",
              "24                   50              9.85  \n",
              "25                   46              9.92  \n",
              "26                   53              4.40  \n",
              "27                   29              5.40  \n",
              "28                   74              2.60  \n",
              "29                    0              0.00  \n",
              "30                   30              6.00  "
            ]
          },
          "execution_count": 16,
          "metadata": {},
          "output_type": "execute_result"
        }
      ],
      "source": [
        "df2"
      ]
    },
    {
      "cell_type": "code",
      "execution_count": null,
      "id": "b2d95850",
      "metadata": {
        "id": "b2d95850",
        "outputId": "39b403dd-d470-4539-95f1-49a1a73dba3a"
      },
      "outputs": [
        {
          "data": {
            "text/plain": [
              "('Rosaceae', 'Prunus')"
            ]
          },
          "execution_count": 18,
          "metadata": {},
          "output_type": "execute_result"
        }
      ],
      "source": [
        "cherry = df2.loc[df2[\"name\"] == 'Cherry']\n",
        "(cherry.iloc[0]['family']) , (cherry.iloc[0]['genus'])"
      ]
    },
    {
      "cell_type": "code",
      "execution_count": null,
      "id": "ab8f874e",
      "metadata": {
        "id": "ab8f874e",
        "outputId": "b5096f76-d158-4a70-a147-90cb7de64673"
      },
      "outputs": [
        {
          "data": {
            "text/plain": [
              "96"
            ]
          },
          "execution_count": 19,
          "metadata": {},
          "output_type": "execute_result"
        }
      ],
      "source": [
        "banana = df2.loc[df2[\"name\"] == 'Banana']\n",
        "(banana.iloc[0]['nutritions.calories'])"
      ]
    },
    {
      "cell_type": "code",
      "execution_count": null,
      "id": "1674efff",
      "metadata": {
        "id": "1674efff",
        "outputId": "ff7378e9-bc40-4485-b704-7e349e020755"
      },
      "outputs": [
        {
          "name": "stdout",
          "output_type": "stream",
          "text": [
            "Banana has : 96 calories\n"
          ]
        }
      ],
      "source": [
        "banana = df2.loc[df2[\"name\"] == 'Banana']\n",
        "print(\"Banana has :\",(banana.iloc[0]['nutritions.calories']),\"calories\")"
      ]
    },
    {
      "cell_type": "code",
      "execution_count": null,
      "id": "f659ed26",
      "metadata": {
        "id": "f659ed26"
      },
      "outputs": [],
      "source": [
        "data2 = requests.get(\"https://www.fishwatch.gov/api/species\")"
      ]
    },
    {
      "cell_type": "code",
      "execution_count": null,
      "id": "832b99e4",
      "metadata": {
        "id": "832b99e4"
      },
      "outputs": [],
      "source": [
        "results2 = json.loads(data2.text)"
      ]
    },
    {
      "cell_type": "code",
      "execution_count": null,
      "id": "16a025ba",
      "metadata": {
        "id": "16a025ba",
        "outputId": "958b22d1-e7f6-4096-f137-72d5659e3986"
      },
      "outputs": [
        {
          "data": {
            "text/html": [
              "<div>\n",
              "<style scoped>\n",
              "    .dataframe tbody tr th:only-of-type {\n",
              "        vertical-align: middle;\n",
              "    }\n",
              "\n",
              "    .dataframe tbody tr th {\n",
              "        vertical-align: top;\n",
              "    }\n",
              "\n",
              "    .dataframe thead th {\n",
              "        text-align: right;\n",
              "    }\n",
              "</style>\n",
              "<table border=\"1\" class=\"dataframe\">\n",
              "  <thead>\n",
              "    <tr style=\"text-align: right;\">\n",
              "      <th></th>\n",
              "      <th>Fishery Management</th>\n",
              "      <th>Habitat</th>\n",
              "      <th>Habitat Impacts</th>\n",
              "      <th>Image Gallery</th>\n",
              "      <th>Location</th>\n",
              "      <th>Management</th>\n",
              "      <th>NOAA Fisheries Region</th>\n",
              "      <th>Population</th>\n",
              "      <th>Population Status</th>\n",
              "      <th>Scientific Name</th>\n",
              "      <th>...</th>\n",
              "      <th>Taste</th>\n",
              "      <th>Texture</th>\n",
              "      <th>Path</th>\n",
              "      <th>last_update</th>\n",
              "      <th>Species Illustration Photo.src</th>\n",
              "      <th>Species Illustration Photo.alt</th>\n",
              "      <th>Species Illustration Photo.title</th>\n",
              "      <th>Image Gallery.src</th>\n",
              "      <th>Image Gallery.alt</th>\n",
              "      <th>Image Gallery.title</th>\n",
              "    </tr>\n",
              "  </thead>\n",
              "  <tbody>\n",
              "    <tr>\n",
              "      <th>0</th>\n",
              "      <td>&lt;ul&gt;\\n&lt;li&gt;&lt;a href=\"https://www.fisheries.noaa....</td>\n",
              "      <td>None</td>\n",
              "      <td>Bottomfish fishing operations, typically using...</td>\n",
              "      <td>[{'src': 'https://origin-east-01-drupal-fishwa...</td>\n",
              "      <td>&lt;ul&gt;\\n&lt;li&gt;Crimson jobfish are distributed thro...</td>\n",
              "      <td>None</td>\n",
              "      <td>Pacific Islands</td>\n",
              "      <td>The population level is unknown, but the stock...</td>\n",
              "      <td>&lt;ul&gt;\\n&lt;li&gt;There are five stocks of crimson job...</td>\n",
              "      <td>Pristipomoides filamentosus</td>\n",
              "      <td>...</td>\n",
              "      <td>&lt;p&gt;Crimson jobfish has a delicate flavor.&lt;/p&gt;\\n</td>\n",
              "      <td>&lt;p&gt;Crimson jobfish has&amp;nbsp;a firm texture and...</td>\n",
              "      <td>/profiles/crimson-jobfish</td>\n",
              "      <td>06/21/2022 - 12:00</td>\n",
              "      <td>https://origin-east-01-drupal-fishwatch.woc.no...</td>\n",
              "      <td>Pink snapper</td>\n",
              "      <td>Pink snapper</td>\n",
              "      <td>NaN</td>\n",
              "      <td>NaN</td>\n",
              "      <td>NaN</td>\n",
              "    </tr>\n",
              "    <tr>\n",
              "      <th>1</th>\n",
              "      <td>&lt;ul&gt;\\n&lt;li&gt;&lt;a href=\"https://www.fisheries.noaa....</td>\n",
              "      <td>&lt;ul&gt;\\n&lt;li&gt;White hake are groundfish, meaning t...</td>\n",
              "      <td>Area closures and gear restrictions protect ha...</td>\n",
              "      <td>[{'src': 'https://origin-east-01-drupal-fishwa...</td>\n",
              "      <td>&lt;ul&gt;\\n&lt;li&gt;White hake are found in the northwes...</td>\n",
              "      <td>None</td>\n",
              "      <td>Greater Atlantic</td>\n",
              "      <td>Significantly below target population level. A...</td>\n",
              "      <td>&lt;ul&gt;\\n&lt;li&gt;According to the 2019 stock assessme...</td>\n",
              "      <td>Urophycis tenuis</td>\n",
              "      <td>...</td>\n",
              "      <td>&lt;p&gt;White hake has a mild, almost sweet&amp;nbsp;ta...</td>\n",
              "      <td>&lt;p&gt;White hake has a soft, delicate texture tha...</td>\n",
              "      <td>/profiles/white-hake</td>\n",
              "      <td>03/24/2022 - 10:36</td>\n",
              "      <td>https://origin-east-01-drupal-fishwatch.woc.no...</td>\n",
              "      <td>Illustration of white hake. Credit: Jack Hornady.</td>\n",
              "      <td></td>\n",
              "      <td>NaN</td>\n",
              "      <td>NaN</td>\n",
              "      <td>NaN</td>\n",
              "    </tr>\n",
              "    <tr>\n",
              "      <th>2</th>\n",
              "      <td>&lt;ul&gt;\\n&lt;li&gt;\\n&lt;p&gt;&lt;a href=\"https://archive.fisher...</td>\n",
              "      <td>&lt;ul&gt;\\n&lt;li&gt;Atlantic chub mackerel are a schooli...</td>\n",
              "      <td>Area closures and gear restrictions protect ha...</td>\n",
              "      <td>[{'src': 'https://origin-east-01-drupal-fishwa...</td>\n",
              "      <td>&lt;ul&gt;\\n&lt;li&gt;Atlantic chub mackerel in the wester...</td>\n",
              "      <td>None</td>\n",
              "      <td>Greater Atlantic</td>\n",
              "      <td>The stock has never been assessed. The popula...</td>\n",
              "      <td>&lt;p&gt;Atlantic chub mackerel has never been asses...</td>\n",
              "      <td>Scomber colias</td>\n",
              "      <td>...</td>\n",
              "      <td>&lt;p&gt;Rich, pronounced flavor.&lt;/p&gt;\\n</td>\n",
              "      <td>&lt;p&gt;Soft, flaky, and moist.&lt;/p&gt;\\n</td>\n",
              "      <td>/profiles/atlantic-chub-mackerel</td>\n",
              "      <td>08/11/2022 - 16:16</td>\n",
              "      <td>https://origin-east-01-drupal-fishwatch.woc.no...</td>\n",
              "      <td>Illustration of Atlantic chub mackerel</td>\n",
              "      <td>Atlantic chub mackerel</td>\n",
              "      <td>NaN</td>\n",
              "      <td>NaN</td>\n",
              "      <td>NaN</td>\n",
              "    </tr>\n",
              "    <tr>\n",
              "      <th>3</th>\n",
              "      <td>&lt;ul&gt;\\n&lt;li&gt;&lt;a href=\"https://www.fisheries.noaa....</td>\n",
              "      <td>&lt;ul&gt;\\n&lt;li&gt;Shortfin squid live in deep and shal...</td>\n",
              "      <td>Fishing gears used to harvest shortfin squid h...</td>\n",
              "      <td>None</td>\n",
              "      <td>&lt;ul&gt;\\n&lt;li&gt;Shortfin squid inhabits the continen...</td>\n",
              "      <td>None</td>\n",
              "      <td>Greater Atlantic</td>\n",
              "      <td>The population level is unknown. The species h...</td>\n",
              "      <td>&lt;ul&gt;\\n&lt;li&gt;According to the latest assessment (...</td>\n",
              "      <td>Illex illecebrosus</td>\n",
              "      <td>...</td>\n",
              "      <td>&lt;p&gt;Mild, and subtly sweet.&lt;/p&gt;\\n&lt;p&gt;&amp;nbsp;&lt;/p&gt;\\n</td>\n",
              "      <td>&lt;p&gt;Firm and meaty.&lt;/p&gt;\\n</td>\n",
              "      <td>/profiles/shortfin-squid</td>\n",
              "      <td>09/02/2022 - 11:08</td>\n",
              "      <td>https://origin-east-01-drupal-fishwatch.woc.no...</td>\n",
              "      <td>shortfin squid</td>\n",
              "      <td>Shortfin Squid</td>\n",
              "      <td>NaN</td>\n",
              "      <td>NaN</td>\n",
              "      <td>NaN</td>\n",
              "    </tr>\n",
              "    <tr>\n",
              "      <th>4</th>\n",
              "      <td>&lt;ul&gt;\\n&lt;li&gt;The states and &lt;a href=\"https://www....</td>\n",
              "      <td>&lt;ul&gt;\\n&lt;li&gt;American lobsters live on the ocean ...</td>\n",
              "      <td>Fishing gears used to harvest American lobster...</td>\n",
              "      <td>[{'src': 'https://origin-east-01-drupal-fishwa...</td>\n",
              "      <td>&lt;ul&gt;\\n&lt;li&gt;American lobsters are found in the n...</td>\n",
              "      <td>None</td>\n",
              "      <td>Greater Atlantic</td>\n",
              "      <td>Above target population levels in the Gulf of ...</td>\n",
              "      <td>&lt;ul&gt;\\n&lt;li&gt;According to the 2020&amp;nbsp;&lt;a href=\"...</td>\n",
              "      <td>Homarus americanus</td>\n",
              "      <td>...</td>\n",
              "      <td>&lt;p&gt;Mild and sweet.&lt;/p&gt;\\n</td>\n",
              "      <td>&lt;p&gt;The meat is firm and somewhat fibrous. The ...</td>\n",
              "      <td>/profiles/american-lobster</td>\n",
              "      <td>01/07/2022 - 10:44</td>\n",
              "      <td>https://origin-east-01-drupal-fishwatch.woc.no...</td>\n",
              "      <td>American Lobster</td>\n",
              "      <td>American Lobster</td>\n",
              "      <td>NaN</td>\n",
              "      <td>NaN</td>\n",
              "      <td>NaN</td>\n",
              "    </tr>\n",
              "    <tr>\n",
              "      <th>...</th>\n",
              "      <td>...</td>\n",
              "      <td>...</td>\n",
              "      <td>...</td>\n",
              "      <td>...</td>\n",
              "      <td>...</td>\n",
              "      <td>...</td>\n",
              "      <td>...</td>\n",
              "      <td>...</td>\n",
              "      <td>...</td>\n",
              "      <td>...</td>\n",
              "      <td>...</td>\n",
              "      <td>...</td>\n",
              "      <td>...</td>\n",
              "      <td>...</td>\n",
              "      <td>...</td>\n",
              "      <td>...</td>\n",
              "      <td>...</td>\n",
              "      <td>...</td>\n",
              "      <td>...</td>\n",
              "      <td>...</td>\n",
              "      <td>...</td>\n",
              "    </tr>\n",
              "    <tr>\n",
              "      <th>111</th>\n",
              "      <td>&lt;ul&gt;\\n&lt;li&gt;&lt;a href=\"https://www.fisheries.noaa....</td>\n",
              "      <td>&lt;ul&gt;\\n&lt;li&gt;Younger pollock live in the mid-wate...</td>\n",
              "      <td>The Alaska pollock fishery uses midwater trawl...</td>\n",
              "      <td>[{'src': 'https://origin-east-01-drupal-fishwa...</td>\n",
              "      <td>&lt;ul&gt;\\n&lt;li&gt;Alaska pollock are found throughout ...</td>\n",
              "      <td>None</td>\n",
              "      <td>Alaska</td>\n",
              "      <td>Above target population levels for the Aleutia...</td>\n",
              "      <td>&lt;ul&gt;\\n&lt;li&gt;There are five stocks of walleye pol...</td>\n",
              "      <td>Gadus chalcogrammus</td>\n",
              "      <td>...</td>\n",
              "      <td>&lt;p&gt;Pollock has mild-tasting flesh and is simil...</td>\n",
              "      <td>&lt;p&gt;Pollock has a relatively fine texture and i...</td>\n",
              "      <td>/profiles/alaska-pollock</td>\n",
              "      <td>08/24/2021 - 17:44</td>\n",
              "      <td>https://origin-east-01-drupal-fishwatch.woc.no...</td>\n",
              "      <td></td>\n",
              "      <td></td>\n",
              "      <td>NaN</td>\n",
              "      <td>NaN</td>\n",
              "      <td>NaN</td>\n",
              "    </tr>\n",
              "    <tr>\n",
              "      <th>112</th>\n",
              "      <td>&lt;ul&gt;\\n&lt;li&gt;&lt;a href=\"https://www.greateratlantic...</td>\n",
              "      <td>&lt;ul&gt;\\n&lt;li&gt;Monkfish live on the ocean floor, ty...</td>\n",
              "      <td>Area closures and gear restrictions protect ha...</td>\n",
              "      <td>[{'src': 'https://origin-east-01-drupal-fishwa...</td>\n",
              "      <td>&lt;ul&gt;\\n&lt;li&gt;Monkfish are found in the Northwest ...</td>\n",
              "      <td>None</td>\n",
              "      <td>Greater Atlantic, Southeast</td>\n",
              "      <td>Above target population levels.</td>\n",
              "      <td>&lt;ul&gt;\\n&lt;li&gt;There are two stocks of monkfish: Gu...</td>\n",
              "      <td>Lophius americanus</td>\n",
              "      <td>...</td>\n",
              "      <td>&lt;p&gt;Mild.&lt;/p&gt;\\n</td>\n",
              "      <td>&lt;p&gt;The tail meat is firm, dense, and relativel...</td>\n",
              "      <td>/profiles/monkfish</td>\n",
              "      <td>08/10/2022 - 17:32</td>\n",
              "      <td>https://origin-east-01-drupal-fishwatch.woc.no...</td>\n",
              "      <td></td>\n",
              "      <td></td>\n",
              "      <td>NaN</td>\n",
              "      <td>NaN</td>\n",
              "      <td>NaN</td>\n",
              "    </tr>\n",
              "    <tr>\n",
              "      <th>113</th>\n",
              "      <td>&lt;ul&gt;\\n&lt;li&gt;&lt;a href=\"http://sero.nmfs.noaa.gov/\"...</td>\n",
              "      <td>&lt;ul&gt;\\n&lt;li&gt;Mahi mahi live near the surface in t...</td>\n",
              "      <td>Fishing gear used to catch mahi mahi rarely co...</td>\n",
              "      <td>[{'src': 'https://origin-east-01-drupal-fishwa...</td>\n",
              "      <td>&lt;ul&gt;\\n&lt;li&gt;Mahi mahi are found in the Atlantic,...</td>\n",
              "      <td>None</td>\n",
              "      <td>Greater Atlantic, Southeast</td>\n",
              "      <td>Above target population levels.</td>\n",
              "      <td>&lt;ul&gt;\\n&lt;li&gt;Scientists assume populations are ab...</td>\n",
              "      <td>Coryphaena hippurus</td>\n",
              "      <td>...</td>\n",
              "      <td>&lt;p&gt;Mahi mahi has a sweet, mild flavor. For a m...</td>\n",
              "      <td>&lt;p&gt;Mahi mahi is lean and fairly firm with larg...</td>\n",
              "      <td>/profiles/atlantic-mahi-mahi</td>\n",
              "      <td>08/03/2022 - 16:19</td>\n",
              "      <td>https://origin-east-01-drupal-fishwatch.woc.no...</td>\n",
              "      <td></td>\n",
              "      <td></td>\n",
              "      <td>NaN</td>\n",
              "      <td>NaN</td>\n",
              "      <td>NaN</td>\n",
              "    </tr>\n",
              "    <tr>\n",
              "      <th>114</th>\n",
              "      <td>&lt;ul&gt;\\n&lt;li&gt;&lt;a href=\"https://sero.nmfs.noaa.gov/...</td>\n",
              "      <td>&lt;ul&gt;\\n&lt;li&gt;Cobia are found near structures in t...</td>\n",
              "      <td>Fishing gear used to catch cobia rarely contac...</td>\n",
              "      <td>[{'src': 'https://origin-east-01-drupal-fishwa...</td>\n",
              "      <td>&lt;ul&gt;\\n&lt;li&gt;In U.S. waters, cobia are most abund...</td>\n",
              "      <td>None</td>\n",
              "      <td>Greater Atlantic, Southeast</td>\n",
              "      <td>Below target level but fishing rate promotes p...</td>\n",
              "      <td>&lt;ul&gt;\\n&lt;li&gt;\\n&lt;p&gt;According to the 2020 stock ass...</td>\n",
              "      <td>Rachycentron canadum</td>\n",
              "      <td>...</td>\n",
              "      <td>&lt;p&gt;Cobia has a sweet, rich flavor.&lt;/p&gt;\\n</td>\n",
              "      <td>&lt;p&gt;Cobia is lean, moist, and firm with a nice ...</td>\n",
              "      <td>/profiles/cobia</td>\n",
              "      <td>02/17/2022 - 11:28</td>\n",
              "      <td>https://origin-east-01-drupal-fishwatch.woc.no...</td>\n",
              "      <td></td>\n",
              "      <td></td>\n",
              "      <td>NaN</td>\n",
              "      <td>NaN</td>\n",
              "      <td>NaN</td>\n",
              "    </tr>\n",
              "    <tr>\n",
              "      <th>115</th>\n",
              "      <td>&lt;ul&gt;\\n&lt;li&gt;There are two stocks of Atlantic cod...</td>\n",
              "      <td>&lt;ul&gt;\\n&lt;li&gt;Atlantic cod live near the ocean flo...</td>\n",
              "      <td>Area closures and gear restrictions protect ha...</td>\n",
              "      <td>[{'src': 'https://origin-east-01-drupal-fishwa...</td>\n",
              "      <td>&lt;ul&gt;\\n&lt;li&gt;In the Northwest Atlantic, cod range...</td>\n",
              "      <td>None</td>\n",
              "      <td>Greater Atlantic</td>\n",
              "      <td>Significantly below target population levels. ...</td>\n",
              "      <td>&lt;ul&gt;\\n&lt;li&gt;Gulf of Maine stock:\\n&lt;ul&gt;\\n&lt;li&gt;Acco...</td>\n",
              "      <td>Gadus morhua</td>\n",
              "      <td>...</td>\n",
              "      <td>&lt;p&gt;Atlantic cod has a mild clean flavor. It is...</td>\n",
              "      <td>&lt;p&gt;Cod has large flakes. It's less firm than h...</td>\n",
              "      <td>/profiles/atlantic-cod</td>\n",
              "      <td>02/17/2022 - 12:56</td>\n",
              "      <td>https://origin-east-01-drupal-fishwatch.woc.no...</td>\n",
              "      <td></td>\n",
              "      <td></td>\n",
              "      <td>NaN</td>\n",
              "      <td>NaN</td>\n",
              "      <td>NaN</td>\n",
              "    </tr>\n",
              "  </tbody>\n",
              "</table>\n",
              "<p>116 rows × 61 columns</p>\n",
              "</div>"
            ],
            "text/plain": [
              "                                    Fishery Management  \\\n",
              "0    <ul>\\n<li><a href=\"https://www.fisheries.noaa....   \n",
              "1    <ul>\\n<li><a href=\"https://www.fisheries.noaa....   \n",
              "2    <ul>\\n<li>\\n<p><a href=\"https://archive.fisher...   \n",
              "3    <ul>\\n<li><a href=\"https://www.fisheries.noaa....   \n",
              "4    <ul>\\n<li>The states and <a href=\"https://www....   \n",
              "..                                                 ...   \n",
              "111  <ul>\\n<li><a href=\"https://www.fisheries.noaa....   \n",
              "112  <ul>\\n<li><a href=\"https://www.greateratlantic...   \n",
              "113  <ul>\\n<li><a href=\"http://sero.nmfs.noaa.gov/\"...   \n",
              "114  <ul>\\n<li><a href=\"https://sero.nmfs.noaa.gov/...   \n",
              "115  <ul>\\n<li>There are two stocks of Atlantic cod...   \n",
              "\n",
              "                                               Habitat  \\\n",
              "0                                                 None   \n",
              "1    <ul>\\n<li>White hake are groundfish, meaning t...   \n",
              "2    <ul>\\n<li>Atlantic chub mackerel are a schooli...   \n",
              "3    <ul>\\n<li>Shortfin squid live in deep and shal...   \n",
              "4    <ul>\\n<li>American lobsters live on the ocean ...   \n",
              "..                                                 ...   \n",
              "111  <ul>\\n<li>Younger pollock live in the mid-wate...   \n",
              "112  <ul>\\n<li>Monkfish live on the ocean floor, ty...   \n",
              "113  <ul>\\n<li>Mahi mahi live near the surface in t...   \n",
              "114  <ul>\\n<li>Cobia are found near structures in t...   \n",
              "115  <ul>\\n<li>Atlantic cod live near the ocean flo...   \n",
              "\n",
              "                                       Habitat Impacts  \\\n",
              "0    Bottomfish fishing operations, typically using...   \n",
              "1    Area closures and gear restrictions protect ha...   \n",
              "2    Area closures and gear restrictions protect ha...   \n",
              "3    Fishing gears used to harvest shortfin squid h...   \n",
              "4    Fishing gears used to harvest American lobster...   \n",
              "..                                                 ...   \n",
              "111  The Alaska pollock fishery uses midwater trawl...   \n",
              "112  Area closures and gear restrictions protect ha...   \n",
              "113  Fishing gear used to catch mahi mahi rarely co...   \n",
              "114  Fishing gear used to catch cobia rarely contac...   \n",
              "115  Area closures and gear restrictions protect ha...   \n",
              "\n",
              "                                         Image Gallery  \\\n",
              "0    [{'src': 'https://origin-east-01-drupal-fishwa...   \n",
              "1    [{'src': 'https://origin-east-01-drupal-fishwa...   \n",
              "2    [{'src': 'https://origin-east-01-drupal-fishwa...   \n",
              "3                                                 None   \n",
              "4    [{'src': 'https://origin-east-01-drupal-fishwa...   \n",
              "..                                                 ...   \n",
              "111  [{'src': 'https://origin-east-01-drupal-fishwa...   \n",
              "112  [{'src': 'https://origin-east-01-drupal-fishwa...   \n",
              "113  [{'src': 'https://origin-east-01-drupal-fishwa...   \n",
              "114  [{'src': 'https://origin-east-01-drupal-fishwa...   \n",
              "115  [{'src': 'https://origin-east-01-drupal-fishwa...   \n",
              "\n",
              "                                              Location Management  \\\n",
              "0    <ul>\\n<li>Crimson jobfish are distributed thro...       None   \n",
              "1    <ul>\\n<li>White hake are found in the northwes...       None   \n",
              "2    <ul>\\n<li>Atlantic chub mackerel in the wester...       None   \n",
              "3    <ul>\\n<li>Shortfin squid inhabits the continen...       None   \n",
              "4    <ul>\\n<li>American lobsters are found in the n...       None   \n",
              "..                                                 ...        ...   \n",
              "111  <ul>\\n<li>Alaska pollock are found throughout ...       None   \n",
              "112  <ul>\\n<li>Monkfish are found in the Northwest ...       None   \n",
              "113  <ul>\\n<li>Mahi mahi are found in the Atlantic,...       None   \n",
              "114  <ul>\\n<li>In U.S. waters, cobia are most abund...       None   \n",
              "115  <ul>\\n<li>In the Northwest Atlantic, cod range...       None   \n",
              "\n",
              "           NOAA Fisheries Region  \\\n",
              "0                Pacific Islands   \n",
              "1               Greater Atlantic   \n",
              "2               Greater Atlantic   \n",
              "3               Greater Atlantic   \n",
              "4               Greater Atlantic   \n",
              "..                           ...   \n",
              "111                       Alaska   \n",
              "112  Greater Atlantic, Southeast   \n",
              "113  Greater Atlantic, Southeast   \n",
              "114  Greater Atlantic, Southeast   \n",
              "115             Greater Atlantic   \n",
              "\n",
              "                                            Population  \\\n",
              "0    The population level is unknown, but the stock...   \n",
              "1    Significantly below target population level. A...   \n",
              "2     The stock has never been assessed. The popula...   \n",
              "3    The population level is unknown. The species h...   \n",
              "4    Above target population levels in the Gulf of ...   \n",
              "..                                                 ...   \n",
              "111  Above target population levels for the Aleutia...   \n",
              "112                    Above target population levels.   \n",
              "113                    Above target population levels.   \n",
              "114  Below target level but fishing rate promotes p...   \n",
              "115  Significantly below target population levels. ...   \n",
              "\n",
              "                                     Population Status  \\\n",
              "0    <ul>\\n<li>There are five stocks of crimson job...   \n",
              "1    <ul>\\n<li>According to the 2019 stock assessme...   \n",
              "2    <p>Atlantic chub mackerel has never been asses...   \n",
              "3    <ul>\\n<li>According to the latest assessment (...   \n",
              "4    <ul>\\n<li>According to the 2020&nbsp;<a href=\"...   \n",
              "..                                                 ...   \n",
              "111  <ul>\\n<li>There are five stocks of walleye pol...   \n",
              "112  <ul>\\n<li>There are two stocks of monkfish: Gu...   \n",
              "113  <ul>\\n<li>Scientists assume populations are ab...   \n",
              "114  <ul>\\n<li>\\n<p>According to the 2020 stock ass...   \n",
              "115  <ul>\\n<li>Gulf of Maine stock:\\n<ul>\\n<li>Acco...   \n",
              "\n",
              "                 Scientific Name  ...  \\\n",
              "0    Pristipomoides filamentosus  ...   \n",
              "1               Urophycis tenuis  ...   \n",
              "2                 Scomber colias  ...   \n",
              "3             Illex illecebrosus  ...   \n",
              "4             Homarus americanus  ...   \n",
              "..                           ...  ...   \n",
              "111          Gadus chalcogrammus  ...   \n",
              "112           Lophius americanus  ...   \n",
              "113          Coryphaena hippurus  ...   \n",
              "114         Rachycentron canadum  ...   \n",
              "115                 Gadus morhua  ...   \n",
              "\n",
              "                                                 Taste  \\\n",
              "0      <p>Crimson jobfish has a delicate flavor.</p>\\n   \n",
              "1    <p>White hake has a mild, almost sweet&nbsp;ta...   \n",
              "2                    <p>Rich, pronounced flavor.</p>\\n   \n",
              "3      <p>Mild, and subtly sweet.</p>\\n<p>&nbsp;</p>\\n   \n",
              "4                             <p>Mild and sweet.</p>\\n   \n",
              "..                                                 ...   \n",
              "111  <p>Pollock has mild-tasting flesh and is simil...   \n",
              "112                                     <p>Mild.</p>\\n   \n",
              "113  <p>Mahi mahi has a sweet, mild flavor. For a m...   \n",
              "114           <p>Cobia has a sweet, rich flavor.</p>\\n   \n",
              "115  <p>Atlantic cod has a mild clean flavor. It is...   \n",
              "\n",
              "                                               Texture  \\\n",
              "0    <p>Crimson jobfish has&nbsp;a firm texture and...   \n",
              "1    <p>White hake has a soft, delicate texture tha...   \n",
              "2                     <p>Soft, flaky, and moist.</p>\\n   \n",
              "3                             <p>Firm and meaty.</p>\\n   \n",
              "4    <p>The meat is firm and somewhat fibrous. The ...   \n",
              "..                                                 ...   \n",
              "111  <p>Pollock has a relatively fine texture and i...   \n",
              "112  <p>The tail meat is firm, dense, and relativel...   \n",
              "113  <p>Mahi mahi is lean and fairly firm with larg...   \n",
              "114  <p>Cobia is lean, moist, and firm with a nice ...   \n",
              "115  <p>Cod has large flakes. It's less firm than h...   \n",
              "\n",
              "                                 Path         last_update  \\\n",
              "0           /profiles/crimson-jobfish  06/21/2022 - 12:00   \n",
              "1                /profiles/white-hake  03/24/2022 - 10:36   \n",
              "2    /profiles/atlantic-chub-mackerel  08/11/2022 - 16:16   \n",
              "3            /profiles/shortfin-squid  09/02/2022 - 11:08   \n",
              "4          /profiles/american-lobster  01/07/2022 - 10:44   \n",
              "..                                ...                 ...   \n",
              "111          /profiles/alaska-pollock  08/24/2021 - 17:44   \n",
              "112                /profiles/monkfish  08/10/2022 - 17:32   \n",
              "113      /profiles/atlantic-mahi-mahi  08/03/2022 - 16:19   \n",
              "114                   /profiles/cobia  02/17/2022 - 11:28   \n",
              "115            /profiles/atlantic-cod  02/17/2022 - 12:56   \n",
              "\n",
              "                        Species Illustration Photo.src  \\\n",
              "0    https://origin-east-01-drupal-fishwatch.woc.no...   \n",
              "1    https://origin-east-01-drupal-fishwatch.woc.no...   \n",
              "2    https://origin-east-01-drupal-fishwatch.woc.no...   \n",
              "3    https://origin-east-01-drupal-fishwatch.woc.no...   \n",
              "4    https://origin-east-01-drupal-fishwatch.woc.no...   \n",
              "..                                                 ...   \n",
              "111  https://origin-east-01-drupal-fishwatch.woc.no...   \n",
              "112  https://origin-east-01-drupal-fishwatch.woc.no...   \n",
              "113  https://origin-east-01-drupal-fishwatch.woc.no...   \n",
              "114  https://origin-east-01-drupal-fishwatch.woc.no...   \n",
              "115  https://origin-east-01-drupal-fishwatch.woc.no...   \n",
              "\n",
              "                        Species Illustration Photo.alt  \\\n",
              "0                                         Pink snapper   \n",
              "1    Illustration of white hake. Credit: Jack Hornady.   \n",
              "2               Illustration of Atlantic chub mackerel   \n",
              "3                                       shortfin squid   \n",
              "4                                     American Lobster   \n",
              "..                                                 ...   \n",
              "111                                                      \n",
              "112                                                      \n",
              "113                                                      \n",
              "114                                                      \n",
              "115                                                      \n",
              "\n",
              "    Species Illustration Photo.title Image Gallery.src Image Gallery.alt  \\\n",
              "0                       Pink snapper               NaN               NaN   \n",
              "1                                                  NaN               NaN   \n",
              "2             Atlantic chub mackerel               NaN               NaN   \n",
              "3                     Shortfin Squid               NaN               NaN   \n",
              "4                   American Lobster               NaN               NaN   \n",
              "..                               ...               ...               ...   \n",
              "111                                                NaN               NaN   \n",
              "112                                                NaN               NaN   \n",
              "113                                                NaN               NaN   \n",
              "114                                                NaN               NaN   \n",
              "115                                                NaN               NaN   \n",
              "\n",
              "    Image Gallery.title  \n",
              "0                   NaN  \n",
              "1                   NaN  \n",
              "2                   NaN  \n",
              "3                   NaN  \n",
              "4                   NaN  \n",
              "..                  ...  \n",
              "111                 NaN  \n",
              "112                 NaN  \n",
              "113                 NaN  \n",
              "114                 NaN  \n",
              "115                 NaN  \n",
              "\n",
              "[116 rows x 61 columns]"
            ]
          },
          "execution_count": 25,
          "metadata": {},
          "output_type": "execute_result"
        }
      ],
      "source": [
        "df3 = pd.json_normalize(results2)\n",
        "df3"
      ]
    },
    {
      "cell_type": "code",
      "execution_count": null,
      "id": "936ec2d3",
      "metadata": {
        "id": "936ec2d3"
      },
      "outputs": [],
      "source": [
        "df3 = pd.json_normalize(results2)"
      ]
    },
    {
      "cell_type": "code",
      "execution_count": null,
      "id": "1bc8ce0c",
      "metadata": {
        "id": "1bc8ce0c",
        "outputId": "4b39b988-f862-4938-c76d-d53a9ac0200c"
      },
      "outputs": [
        {
          "data": {
            "text/html": [
              "<div>\n",
              "<style scoped>\n",
              "    .dataframe tbody tr th:only-of-type {\n",
              "        vertical-align: middle;\n",
              "    }\n",
              "\n",
              "    .dataframe tbody tr th {\n",
              "        vertical-align: top;\n",
              "    }\n",
              "\n",
              "    .dataframe thead th {\n",
              "        text-align: right;\n",
              "    }\n",
              "</style>\n",
              "<table border=\"1\" class=\"dataframe\">\n",
              "  <thead>\n",
              "    <tr style=\"text-align: right;\">\n",
              "      <th></th>\n",
              "      <th>Fishery Management</th>\n",
              "      <th>Habitat</th>\n",
              "      <th>Habitat Impacts</th>\n",
              "      <th>Image Gallery</th>\n",
              "      <th>Location</th>\n",
              "      <th>Management</th>\n",
              "      <th>NOAA Fisheries Region</th>\n",
              "      <th>Population</th>\n",
              "      <th>Population Status</th>\n",
              "      <th>Scientific Name</th>\n",
              "      <th>...</th>\n",
              "      <th>Taste</th>\n",
              "      <th>Texture</th>\n",
              "      <th>Path</th>\n",
              "      <th>last_update</th>\n",
              "      <th>Species Illustration Photo.src</th>\n",
              "      <th>Species Illustration Photo.alt</th>\n",
              "      <th>Species Illustration Photo.title</th>\n",
              "      <th>Image Gallery.src</th>\n",
              "      <th>Image Gallery.alt</th>\n",
              "      <th>Image Gallery.title</th>\n",
              "    </tr>\n",
              "  </thead>\n",
              "  <tbody>\n",
              "    <tr>\n",
              "      <th>0</th>\n",
              "      <td>&lt;ul&gt;\\n&lt;li&gt;&lt;a href=\"https://www.fisheries.noaa....</td>\n",
              "      <td>None</td>\n",
              "      <td>Bottomfish fishing operations, typically using...</td>\n",
              "      <td>[{'src': 'https://origin-east-01-drupal-fishwa...</td>\n",
              "      <td>&lt;ul&gt;\\n&lt;li&gt;Crimson jobfish are distributed thro...</td>\n",
              "      <td>None</td>\n",
              "      <td>Pacific Islands</td>\n",
              "      <td>The population level is unknown, but the stock...</td>\n",
              "      <td>&lt;ul&gt;\\n&lt;li&gt;There are five stocks of crimson job...</td>\n",
              "      <td>Pristipomoides filamentosus</td>\n",
              "      <td>...</td>\n",
              "      <td>&lt;p&gt;Crimson jobfish has a delicate flavor.&lt;/p&gt;\\n</td>\n",
              "      <td>&lt;p&gt;Crimson jobfish has&amp;nbsp;a firm texture and...</td>\n",
              "      <td>/profiles/crimson-jobfish</td>\n",
              "      <td>06/21/2022 - 12:00</td>\n",
              "      <td>https://origin-east-01-drupal-fishwatch.woc.no...</td>\n",
              "      <td>Pink snapper</td>\n",
              "      <td>Pink snapper</td>\n",
              "      <td>NaN</td>\n",
              "      <td>NaN</td>\n",
              "      <td>NaN</td>\n",
              "    </tr>\n",
              "    <tr>\n",
              "      <th>1</th>\n",
              "      <td>&lt;ul&gt;\\n&lt;li&gt;&lt;a href=\"https://www.fisheries.noaa....</td>\n",
              "      <td>&lt;ul&gt;\\n&lt;li&gt;White hake are groundfish, meaning t...</td>\n",
              "      <td>Area closures and gear restrictions protect ha...</td>\n",
              "      <td>[{'src': 'https://origin-east-01-drupal-fishwa...</td>\n",
              "      <td>&lt;ul&gt;\\n&lt;li&gt;White hake are found in the northwes...</td>\n",
              "      <td>None</td>\n",
              "      <td>Greater Atlantic</td>\n",
              "      <td>Significantly below target population level. A...</td>\n",
              "      <td>&lt;ul&gt;\\n&lt;li&gt;According to the 2019 stock assessme...</td>\n",
              "      <td>Urophycis tenuis</td>\n",
              "      <td>...</td>\n",
              "      <td>&lt;p&gt;White hake has a mild, almost sweet&amp;nbsp;ta...</td>\n",
              "      <td>&lt;p&gt;White hake has a soft, delicate texture tha...</td>\n",
              "      <td>/profiles/white-hake</td>\n",
              "      <td>03/24/2022 - 10:36</td>\n",
              "      <td>https://origin-east-01-drupal-fishwatch.woc.no...</td>\n",
              "      <td>Illustration of white hake. Credit: Jack Hornady.</td>\n",
              "      <td></td>\n",
              "      <td>NaN</td>\n",
              "      <td>NaN</td>\n",
              "      <td>NaN</td>\n",
              "    </tr>\n",
              "    <tr>\n",
              "      <th>2</th>\n",
              "      <td>&lt;ul&gt;\\n&lt;li&gt;\\n&lt;p&gt;&lt;a href=\"https://archive.fisher...</td>\n",
              "      <td>&lt;ul&gt;\\n&lt;li&gt;Atlantic chub mackerel are a schooli...</td>\n",
              "      <td>Area closures and gear restrictions protect ha...</td>\n",
              "      <td>[{'src': 'https://origin-east-01-drupal-fishwa...</td>\n",
              "      <td>&lt;ul&gt;\\n&lt;li&gt;Atlantic chub mackerel in the wester...</td>\n",
              "      <td>None</td>\n",
              "      <td>Greater Atlantic</td>\n",
              "      <td>The stock has never been assessed. The popula...</td>\n",
              "      <td>&lt;p&gt;Atlantic chub mackerel has never been asses...</td>\n",
              "      <td>Scomber colias</td>\n",
              "      <td>...</td>\n",
              "      <td>&lt;p&gt;Rich, pronounced flavor.&lt;/p&gt;\\n</td>\n",
              "      <td>&lt;p&gt;Soft, flaky, and moist.&lt;/p&gt;\\n</td>\n",
              "      <td>/profiles/atlantic-chub-mackerel</td>\n",
              "      <td>08/11/2022 - 16:16</td>\n",
              "      <td>https://origin-east-01-drupal-fishwatch.woc.no...</td>\n",
              "      <td>Illustration of Atlantic chub mackerel</td>\n",
              "      <td>Atlantic chub mackerel</td>\n",
              "      <td>NaN</td>\n",
              "      <td>NaN</td>\n",
              "      <td>NaN</td>\n",
              "    </tr>\n",
              "    <tr>\n",
              "      <th>3</th>\n",
              "      <td>&lt;ul&gt;\\n&lt;li&gt;&lt;a href=\"https://www.fisheries.noaa....</td>\n",
              "      <td>&lt;ul&gt;\\n&lt;li&gt;Shortfin squid live in deep and shal...</td>\n",
              "      <td>Fishing gears used to harvest shortfin squid h...</td>\n",
              "      <td>None</td>\n",
              "      <td>&lt;ul&gt;\\n&lt;li&gt;Shortfin squid inhabits the continen...</td>\n",
              "      <td>None</td>\n",
              "      <td>Greater Atlantic</td>\n",
              "      <td>The population level is unknown. The species h...</td>\n",
              "      <td>&lt;ul&gt;\\n&lt;li&gt;According to the latest assessment (...</td>\n",
              "      <td>Illex illecebrosus</td>\n",
              "      <td>...</td>\n",
              "      <td>&lt;p&gt;Mild, and subtly sweet.&lt;/p&gt;\\n&lt;p&gt;&amp;nbsp;&lt;/p&gt;\\n</td>\n",
              "      <td>&lt;p&gt;Firm and meaty.&lt;/p&gt;\\n</td>\n",
              "      <td>/profiles/shortfin-squid</td>\n",
              "      <td>09/02/2022 - 11:08</td>\n",
              "      <td>https://origin-east-01-drupal-fishwatch.woc.no...</td>\n",
              "      <td>shortfin squid</td>\n",
              "      <td>Shortfin Squid</td>\n",
              "      <td>NaN</td>\n",
              "      <td>NaN</td>\n",
              "      <td>NaN</td>\n",
              "    </tr>\n",
              "    <tr>\n",
              "      <th>4</th>\n",
              "      <td>&lt;ul&gt;\\n&lt;li&gt;The states and &lt;a href=\"https://www....</td>\n",
              "      <td>&lt;ul&gt;\\n&lt;li&gt;American lobsters live on the ocean ...</td>\n",
              "      <td>Fishing gears used to harvest American lobster...</td>\n",
              "      <td>[{'src': 'https://origin-east-01-drupal-fishwa...</td>\n",
              "      <td>&lt;ul&gt;\\n&lt;li&gt;American lobsters are found in the n...</td>\n",
              "      <td>None</td>\n",
              "      <td>Greater Atlantic</td>\n",
              "      <td>Above target population levels in the Gulf of ...</td>\n",
              "      <td>&lt;ul&gt;\\n&lt;li&gt;According to the 2020&amp;nbsp;&lt;a href=\"...</td>\n",
              "      <td>Homarus americanus</td>\n",
              "      <td>...</td>\n",
              "      <td>&lt;p&gt;Mild and sweet.&lt;/p&gt;\\n</td>\n",
              "      <td>&lt;p&gt;The meat is firm and somewhat fibrous. The ...</td>\n",
              "      <td>/profiles/american-lobster</td>\n",
              "      <td>01/07/2022 - 10:44</td>\n",
              "      <td>https://origin-east-01-drupal-fishwatch.woc.no...</td>\n",
              "      <td>American Lobster</td>\n",
              "      <td>American Lobster</td>\n",
              "      <td>NaN</td>\n",
              "      <td>NaN</td>\n",
              "      <td>NaN</td>\n",
              "    </tr>\n",
              "    <tr>\n",
              "      <th>...</th>\n",
              "      <td>...</td>\n",
              "      <td>...</td>\n",
              "      <td>...</td>\n",
              "      <td>...</td>\n",
              "      <td>...</td>\n",
              "      <td>...</td>\n",
              "      <td>...</td>\n",
              "      <td>...</td>\n",
              "      <td>...</td>\n",
              "      <td>...</td>\n",
              "      <td>...</td>\n",
              "      <td>...</td>\n",
              "      <td>...</td>\n",
              "      <td>...</td>\n",
              "      <td>...</td>\n",
              "      <td>...</td>\n",
              "      <td>...</td>\n",
              "      <td>...</td>\n",
              "      <td>...</td>\n",
              "      <td>...</td>\n",
              "      <td>...</td>\n",
              "    </tr>\n",
              "    <tr>\n",
              "      <th>111</th>\n",
              "      <td>&lt;ul&gt;\\n&lt;li&gt;&lt;a href=\"https://www.fisheries.noaa....</td>\n",
              "      <td>&lt;ul&gt;\\n&lt;li&gt;Younger pollock live in the mid-wate...</td>\n",
              "      <td>The Alaska pollock fishery uses midwater trawl...</td>\n",
              "      <td>[{'src': 'https://origin-east-01-drupal-fishwa...</td>\n",
              "      <td>&lt;ul&gt;\\n&lt;li&gt;Alaska pollock are found throughout ...</td>\n",
              "      <td>None</td>\n",
              "      <td>Alaska</td>\n",
              "      <td>Above target population levels for the Aleutia...</td>\n",
              "      <td>&lt;ul&gt;\\n&lt;li&gt;There are five stocks of walleye pol...</td>\n",
              "      <td>Gadus chalcogrammus</td>\n",
              "      <td>...</td>\n",
              "      <td>&lt;p&gt;Pollock has mild-tasting flesh and is simil...</td>\n",
              "      <td>&lt;p&gt;Pollock has a relatively fine texture and i...</td>\n",
              "      <td>/profiles/alaska-pollock</td>\n",
              "      <td>08/24/2021 - 17:44</td>\n",
              "      <td>https://origin-east-01-drupal-fishwatch.woc.no...</td>\n",
              "      <td></td>\n",
              "      <td></td>\n",
              "      <td>NaN</td>\n",
              "      <td>NaN</td>\n",
              "      <td>NaN</td>\n",
              "    </tr>\n",
              "    <tr>\n",
              "      <th>112</th>\n",
              "      <td>&lt;ul&gt;\\n&lt;li&gt;&lt;a href=\"https://www.greateratlantic...</td>\n",
              "      <td>&lt;ul&gt;\\n&lt;li&gt;Monkfish live on the ocean floor, ty...</td>\n",
              "      <td>Area closures and gear restrictions protect ha...</td>\n",
              "      <td>[{'src': 'https://origin-east-01-drupal-fishwa...</td>\n",
              "      <td>&lt;ul&gt;\\n&lt;li&gt;Monkfish are found in the Northwest ...</td>\n",
              "      <td>None</td>\n",
              "      <td>Greater Atlantic, Southeast</td>\n",
              "      <td>Above target population levels.</td>\n",
              "      <td>&lt;ul&gt;\\n&lt;li&gt;There are two stocks of monkfish: Gu...</td>\n",
              "      <td>Lophius americanus</td>\n",
              "      <td>...</td>\n",
              "      <td>&lt;p&gt;Mild.&lt;/p&gt;\\n</td>\n",
              "      <td>&lt;p&gt;The tail meat is firm, dense, and relativel...</td>\n",
              "      <td>/profiles/monkfish</td>\n",
              "      <td>08/10/2022 - 17:32</td>\n",
              "      <td>https://origin-east-01-drupal-fishwatch.woc.no...</td>\n",
              "      <td></td>\n",
              "      <td></td>\n",
              "      <td>NaN</td>\n",
              "      <td>NaN</td>\n",
              "      <td>NaN</td>\n",
              "    </tr>\n",
              "    <tr>\n",
              "      <th>113</th>\n",
              "      <td>&lt;ul&gt;\\n&lt;li&gt;&lt;a href=\"http://sero.nmfs.noaa.gov/\"...</td>\n",
              "      <td>&lt;ul&gt;\\n&lt;li&gt;Mahi mahi live near the surface in t...</td>\n",
              "      <td>Fishing gear used to catch mahi mahi rarely co...</td>\n",
              "      <td>[{'src': 'https://origin-east-01-drupal-fishwa...</td>\n",
              "      <td>&lt;ul&gt;\\n&lt;li&gt;Mahi mahi are found in the Atlantic,...</td>\n",
              "      <td>None</td>\n",
              "      <td>Greater Atlantic, Southeast</td>\n",
              "      <td>Above target population levels.</td>\n",
              "      <td>&lt;ul&gt;\\n&lt;li&gt;Scientists assume populations are ab...</td>\n",
              "      <td>Coryphaena hippurus</td>\n",
              "      <td>...</td>\n",
              "      <td>&lt;p&gt;Mahi mahi has a sweet, mild flavor. For a m...</td>\n",
              "      <td>&lt;p&gt;Mahi mahi is lean and fairly firm with larg...</td>\n",
              "      <td>/profiles/atlantic-mahi-mahi</td>\n",
              "      <td>08/03/2022 - 16:19</td>\n",
              "      <td>https://origin-east-01-drupal-fishwatch.woc.no...</td>\n",
              "      <td></td>\n",
              "      <td></td>\n",
              "      <td>NaN</td>\n",
              "      <td>NaN</td>\n",
              "      <td>NaN</td>\n",
              "    </tr>\n",
              "    <tr>\n",
              "      <th>114</th>\n",
              "      <td>&lt;ul&gt;\\n&lt;li&gt;&lt;a href=\"https://sero.nmfs.noaa.gov/...</td>\n",
              "      <td>&lt;ul&gt;\\n&lt;li&gt;Cobia are found near structures in t...</td>\n",
              "      <td>Fishing gear used to catch cobia rarely contac...</td>\n",
              "      <td>[{'src': 'https://origin-east-01-drupal-fishwa...</td>\n",
              "      <td>&lt;ul&gt;\\n&lt;li&gt;In U.S. waters, cobia are most abund...</td>\n",
              "      <td>None</td>\n",
              "      <td>Greater Atlantic, Southeast</td>\n",
              "      <td>Below target level but fishing rate promotes p...</td>\n",
              "      <td>&lt;ul&gt;\\n&lt;li&gt;\\n&lt;p&gt;According to the 2020 stock ass...</td>\n",
              "      <td>Rachycentron canadum</td>\n",
              "      <td>...</td>\n",
              "      <td>&lt;p&gt;Cobia has a sweet, rich flavor.&lt;/p&gt;\\n</td>\n",
              "      <td>&lt;p&gt;Cobia is lean, moist, and firm with a nice ...</td>\n",
              "      <td>/profiles/cobia</td>\n",
              "      <td>02/17/2022 - 11:28</td>\n",
              "      <td>https://origin-east-01-drupal-fishwatch.woc.no...</td>\n",
              "      <td></td>\n",
              "      <td></td>\n",
              "      <td>NaN</td>\n",
              "      <td>NaN</td>\n",
              "      <td>NaN</td>\n",
              "    </tr>\n",
              "    <tr>\n",
              "      <th>115</th>\n",
              "      <td>&lt;ul&gt;\\n&lt;li&gt;There are two stocks of Atlantic cod...</td>\n",
              "      <td>&lt;ul&gt;\\n&lt;li&gt;Atlantic cod live near the ocean flo...</td>\n",
              "      <td>Area closures and gear restrictions protect ha...</td>\n",
              "      <td>[{'src': 'https://origin-east-01-drupal-fishwa...</td>\n",
              "      <td>&lt;ul&gt;\\n&lt;li&gt;In the Northwest Atlantic, cod range...</td>\n",
              "      <td>None</td>\n",
              "      <td>Greater Atlantic</td>\n",
              "      <td>Significantly below target population levels. ...</td>\n",
              "      <td>&lt;ul&gt;\\n&lt;li&gt;Gulf of Maine stock:\\n&lt;ul&gt;\\n&lt;li&gt;Acco...</td>\n",
              "      <td>Gadus morhua</td>\n",
              "      <td>...</td>\n",
              "      <td>&lt;p&gt;Atlantic cod has a mild clean flavor. It is...</td>\n",
              "      <td>&lt;p&gt;Cod has large flakes. It's less firm than h...</td>\n",
              "      <td>/profiles/atlantic-cod</td>\n",
              "      <td>02/17/2022 - 12:56</td>\n",
              "      <td>https://origin-east-01-drupal-fishwatch.woc.no...</td>\n",
              "      <td></td>\n",
              "      <td></td>\n",
              "      <td>NaN</td>\n",
              "      <td>NaN</td>\n",
              "      <td>NaN</td>\n",
              "    </tr>\n",
              "  </tbody>\n",
              "</table>\n",
              "<p>116 rows × 61 columns</p>\n",
              "</div>"
            ],
            "text/plain": [
              "                                    Fishery Management  \\\n",
              "0    <ul>\\n<li><a href=\"https://www.fisheries.noaa....   \n",
              "1    <ul>\\n<li><a href=\"https://www.fisheries.noaa....   \n",
              "2    <ul>\\n<li>\\n<p><a href=\"https://archive.fisher...   \n",
              "3    <ul>\\n<li><a href=\"https://www.fisheries.noaa....   \n",
              "4    <ul>\\n<li>The states and <a href=\"https://www....   \n",
              "..                                                 ...   \n",
              "111  <ul>\\n<li><a href=\"https://www.fisheries.noaa....   \n",
              "112  <ul>\\n<li><a href=\"https://www.greateratlantic...   \n",
              "113  <ul>\\n<li><a href=\"http://sero.nmfs.noaa.gov/\"...   \n",
              "114  <ul>\\n<li><a href=\"https://sero.nmfs.noaa.gov/...   \n",
              "115  <ul>\\n<li>There are two stocks of Atlantic cod...   \n",
              "\n",
              "                                               Habitat  \\\n",
              "0                                                 None   \n",
              "1    <ul>\\n<li>White hake are groundfish, meaning t...   \n",
              "2    <ul>\\n<li>Atlantic chub mackerel are a schooli...   \n",
              "3    <ul>\\n<li>Shortfin squid live in deep and shal...   \n",
              "4    <ul>\\n<li>American lobsters live on the ocean ...   \n",
              "..                                                 ...   \n",
              "111  <ul>\\n<li>Younger pollock live in the mid-wate...   \n",
              "112  <ul>\\n<li>Monkfish live on the ocean floor, ty...   \n",
              "113  <ul>\\n<li>Mahi mahi live near the surface in t...   \n",
              "114  <ul>\\n<li>Cobia are found near structures in t...   \n",
              "115  <ul>\\n<li>Atlantic cod live near the ocean flo...   \n",
              "\n",
              "                                       Habitat Impacts  \\\n",
              "0    Bottomfish fishing operations, typically using...   \n",
              "1    Area closures and gear restrictions protect ha...   \n",
              "2    Area closures and gear restrictions protect ha...   \n",
              "3    Fishing gears used to harvest shortfin squid h...   \n",
              "4    Fishing gears used to harvest American lobster...   \n",
              "..                                                 ...   \n",
              "111  The Alaska pollock fishery uses midwater trawl...   \n",
              "112  Area closures and gear restrictions protect ha...   \n",
              "113  Fishing gear used to catch mahi mahi rarely co...   \n",
              "114  Fishing gear used to catch cobia rarely contac...   \n",
              "115  Area closures and gear restrictions protect ha...   \n",
              "\n",
              "                                         Image Gallery  \\\n",
              "0    [{'src': 'https://origin-east-01-drupal-fishwa...   \n",
              "1    [{'src': 'https://origin-east-01-drupal-fishwa...   \n",
              "2    [{'src': 'https://origin-east-01-drupal-fishwa...   \n",
              "3                                                 None   \n",
              "4    [{'src': 'https://origin-east-01-drupal-fishwa...   \n",
              "..                                                 ...   \n",
              "111  [{'src': 'https://origin-east-01-drupal-fishwa...   \n",
              "112  [{'src': 'https://origin-east-01-drupal-fishwa...   \n",
              "113  [{'src': 'https://origin-east-01-drupal-fishwa...   \n",
              "114  [{'src': 'https://origin-east-01-drupal-fishwa...   \n",
              "115  [{'src': 'https://origin-east-01-drupal-fishwa...   \n",
              "\n",
              "                                              Location Management  \\\n",
              "0    <ul>\\n<li>Crimson jobfish are distributed thro...       None   \n",
              "1    <ul>\\n<li>White hake are found in the northwes...       None   \n",
              "2    <ul>\\n<li>Atlantic chub mackerel in the wester...       None   \n",
              "3    <ul>\\n<li>Shortfin squid inhabits the continen...       None   \n",
              "4    <ul>\\n<li>American lobsters are found in the n...       None   \n",
              "..                                                 ...        ...   \n",
              "111  <ul>\\n<li>Alaska pollock are found throughout ...       None   \n",
              "112  <ul>\\n<li>Monkfish are found in the Northwest ...       None   \n",
              "113  <ul>\\n<li>Mahi mahi are found in the Atlantic,...       None   \n",
              "114  <ul>\\n<li>In U.S. waters, cobia are most abund...       None   \n",
              "115  <ul>\\n<li>In the Northwest Atlantic, cod range...       None   \n",
              "\n",
              "           NOAA Fisheries Region  \\\n",
              "0                Pacific Islands   \n",
              "1               Greater Atlantic   \n",
              "2               Greater Atlantic   \n",
              "3               Greater Atlantic   \n",
              "4               Greater Atlantic   \n",
              "..                           ...   \n",
              "111                       Alaska   \n",
              "112  Greater Atlantic, Southeast   \n",
              "113  Greater Atlantic, Southeast   \n",
              "114  Greater Atlantic, Southeast   \n",
              "115             Greater Atlantic   \n",
              "\n",
              "                                            Population  \\\n",
              "0    The population level is unknown, but the stock...   \n",
              "1    Significantly below target population level. A...   \n",
              "2     The stock has never been assessed. The popula...   \n",
              "3    The population level is unknown. The species h...   \n",
              "4    Above target population levels in the Gulf of ...   \n",
              "..                                                 ...   \n",
              "111  Above target population levels for the Aleutia...   \n",
              "112                    Above target population levels.   \n",
              "113                    Above target population levels.   \n",
              "114  Below target level but fishing rate promotes p...   \n",
              "115  Significantly below target population levels. ...   \n",
              "\n",
              "                                     Population Status  \\\n",
              "0    <ul>\\n<li>There are five stocks of crimson job...   \n",
              "1    <ul>\\n<li>According to the 2019 stock assessme...   \n",
              "2    <p>Atlantic chub mackerel has never been asses...   \n",
              "3    <ul>\\n<li>According to the latest assessment (...   \n",
              "4    <ul>\\n<li>According to the 2020&nbsp;<a href=\"...   \n",
              "..                                                 ...   \n",
              "111  <ul>\\n<li>There are five stocks of walleye pol...   \n",
              "112  <ul>\\n<li>There are two stocks of monkfish: Gu...   \n",
              "113  <ul>\\n<li>Scientists assume populations are ab...   \n",
              "114  <ul>\\n<li>\\n<p>According to the 2020 stock ass...   \n",
              "115  <ul>\\n<li>Gulf of Maine stock:\\n<ul>\\n<li>Acco...   \n",
              "\n",
              "                 Scientific Name  ...  \\\n",
              "0    Pristipomoides filamentosus  ...   \n",
              "1               Urophycis tenuis  ...   \n",
              "2                 Scomber colias  ...   \n",
              "3             Illex illecebrosus  ...   \n",
              "4             Homarus americanus  ...   \n",
              "..                           ...  ...   \n",
              "111          Gadus chalcogrammus  ...   \n",
              "112           Lophius americanus  ...   \n",
              "113          Coryphaena hippurus  ...   \n",
              "114         Rachycentron canadum  ...   \n",
              "115                 Gadus morhua  ...   \n",
              "\n",
              "                                                 Taste  \\\n",
              "0      <p>Crimson jobfish has a delicate flavor.</p>\\n   \n",
              "1    <p>White hake has a mild, almost sweet&nbsp;ta...   \n",
              "2                    <p>Rich, pronounced flavor.</p>\\n   \n",
              "3      <p>Mild, and subtly sweet.</p>\\n<p>&nbsp;</p>\\n   \n",
              "4                             <p>Mild and sweet.</p>\\n   \n",
              "..                                                 ...   \n",
              "111  <p>Pollock has mild-tasting flesh and is simil...   \n",
              "112                                     <p>Mild.</p>\\n   \n",
              "113  <p>Mahi mahi has a sweet, mild flavor. For a m...   \n",
              "114           <p>Cobia has a sweet, rich flavor.</p>\\n   \n",
              "115  <p>Atlantic cod has a mild clean flavor. It is...   \n",
              "\n",
              "                                               Texture  \\\n",
              "0    <p>Crimson jobfish has&nbsp;a firm texture and...   \n",
              "1    <p>White hake has a soft, delicate texture tha...   \n",
              "2                     <p>Soft, flaky, and moist.</p>\\n   \n",
              "3                             <p>Firm and meaty.</p>\\n   \n",
              "4    <p>The meat is firm and somewhat fibrous. The ...   \n",
              "..                                                 ...   \n",
              "111  <p>Pollock has a relatively fine texture and i...   \n",
              "112  <p>The tail meat is firm, dense, and relativel...   \n",
              "113  <p>Mahi mahi is lean and fairly firm with larg...   \n",
              "114  <p>Cobia is lean, moist, and firm with a nice ...   \n",
              "115  <p>Cod has large flakes. It's less firm than h...   \n",
              "\n",
              "                                 Path         last_update  \\\n",
              "0           /profiles/crimson-jobfish  06/21/2022 - 12:00   \n",
              "1                /profiles/white-hake  03/24/2022 - 10:36   \n",
              "2    /profiles/atlantic-chub-mackerel  08/11/2022 - 16:16   \n",
              "3            /profiles/shortfin-squid  09/02/2022 - 11:08   \n",
              "4          /profiles/american-lobster  01/07/2022 - 10:44   \n",
              "..                                ...                 ...   \n",
              "111          /profiles/alaska-pollock  08/24/2021 - 17:44   \n",
              "112                /profiles/monkfish  08/10/2022 - 17:32   \n",
              "113      /profiles/atlantic-mahi-mahi  08/03/2022 - 16:19   \n",
              "114                   /profiles/cobia  02/17/2022 - 11:28   \n",
              "115            /profiles/atlantic-cod  02/17/2022 - 12:56   \n",
              "\n",
              "                        Species Illustration Photo.src  \\\n",
              "0    https://origin-east-01-drupal-fishwatch.woc.no...   \n",
              "1    https://origin-east-01-drupal-fishwatch.woc.no...   \n",
              "2    https://origin-east-01-drupal-fishwatch.woc.no...   \n",
              "3    https://origin-east-01-drupal-fishwatch.woc.no...   \n",
              "4    https://origin-east-01-drupal-fishwatch.woc.no...   \n",
              "..                                                 ...   \n",
              "111  https://origin-east-01-drupal-fishwatch.woc.no...   \n",
              "112  https://origin-east-01-drupal-fishwatch.woc.no...   \n",
              "113  https://origin-east-01-drupal-fishwatch.woc.no...   \n",
              "114  https://origin-east-01-drupal-fishwatch.woc.no...   \n",
              "115  https://origin-east-01-drupal-fishwatch.woc.no...   \n",
              "\n",
              "                        Species Illustration Photo.alt  \\\n",
              "0                                         Pink snapper   \n",
              "1    Illustration of white hake. Credit: Jack Hornady.   \n",
              "2               Illustration of Atlantic chub mackerel   \n",
              "3                                       shortfin squid   \n",
              "4                                     American Lobster   \n",
              "..                                                 ...   \n",
              "111                                                      \n",
              "112                                                      \n",
              "113                                                      \n",
              "114                                                      \n",
              "115                                                      \n",
              "\n",
              "    Species Illustration Photo.title Image Gallery.src Image Gallery.alt  \\\n",
              "0                       Pink snapper               NaN               NaN   \n",
              "1                                                  NaN               NaN   \n",
              "2             Atlantic chub mackerel               NaN               NaN   \n",
              "3                     Shortfin Squid               NaN               NaN   \n",
              "4                   American Lobster               NaN               NaN   \n",
              "..                               ...               ...               ...   \n",
              "111                                                NaN               NaN   \n",
              "112                                                NaN               NaN   \n",
              "113                                                NaN               NaN   \n",
              "114                                                NaN               NaN   \n",
              "115                                                NaN               NaN   \n",
              "\n",
              "    Image Gallery.title  \n",
              "0                   NaN  \n",
              "1                   NaN  \n",
              "2                   NaN  \n",
              "3                   NaN  \n",
              "4                   NaN  \n",
              "..                  ...  \n",
              "111                 NaN  \n",
              "112                 NaN  \n",
              "113                 NaN  \n",
              "114                 NaN  \n",
              "115                 NaN  \n",
              "\n",
              "[116 rows x 61 columns]"
            ]
          },
          "execution_count": 27,
          "metadata": {},
          "output_type": "execute_result"
        }
      ],
      "source": [
        "df3"
      ]
    },
    {
      "cell_type": "markdown",
      "id": "25e9999f",
      "metadata": {
        "id": "25e9999f"
      },
      "source": [
        "**Requests in Python**"
      ]
    },
    {
      "cell_type": "markdown",
      "id": "d472cbf4",
      "metadata": {
        "id": "d472cbf4"
      },
      "source": [
        "Requests es una librería de Python que te permite enviar solicitudes HTTP/1.1 facilmente, podemos importar la librería de la siguiente forma:"
      ]
    },
    {
      "cell_type": "code",
      "execution_count": null,
      "id": "aa4fe435",
      "metadata": {
        "id": "aa4fe435"
      },
      "outputs": [],
      "source": [
        "import requests\n",
        "import os \n",
        "from PIL import Image\n",
        "from IPython.display import IFrame"
      ]
    },
    {
      "cell_type": "code",
      "execution_count": null,
      "id": "5edddc00",
      "metadata": {
        "id": "5edddc00"
      },
      "outputs": [],
      "source": [
        "url='https://www.ibm.com/'\n",
        "r=requests.get(url)"
      ]
    },
    {
      "cell_type": "code",
      "execution_count": null,
      "id": "4122faba",
      "metadata": {
        "id": "4122faba",
        "outputId": "68f726b2-2abd-4501-b8b3-99f3a5d1e87a"
      },
      "outputs": [
        {
          "data": {
            "text/plain": [
              "200"
            ]
          },
          "execution_count": 31,
          "metadata": {},
          "output_type": "execute_result"
        }
      ],
      "source": [
        "r.status_code"
      ]
    },
    {
      "cell_type": "code",
      "execution_count": null,
      "id": "43644822",
      "metadata": {
        "id": "43644822",
        "outputId": "310a74b8-02e2-4d41-901a-a49b1a63cbb5"
      },
      "outputs": [
        {
          "name": "stdout",
          "output_type": "stream",
          "text": [
            "{'User-Agent': 'python-requests/2.27.1', 'Accept-Encoding': 'gzip, deflate, br', 'Accept': '*/*', 'Connection': 'keep-alive', 'Cookie': '_abck=8360A308A4858040BC073D65DE88E1DA~-1~YAAQnXlAF1yZrZGDAQAAjd7kngiMgxkO4B8fBjqgwunMvpeNX8R88rR7QIs1vQXN10rwus8aESzJGe07N9G4qRyRhP2P34fl4kZyAfU2uZw7lALwgE/Cc+uolHgLf9p1Hykmur4TJkJo/4tWodP5mtRHpeEYtlL786vxsRiR4gbHN+ddlftGqswDxj4PJ0fUHtrLa0Xmy4a7j8f1AL3fqvZ6ncTaI0x/061Q9AQaxicdoj4oDrfRV2CrsBFA9eo+EAfeP1WHROWa7pqbx8mkuR1QaLCEFMvMA07Z4gi/yiBnB6akQRYP0a6CARTymXX/bSHocXf6Wj1lf2r+7m+rNE9KaCt5Rr3xuWsQWaq+3MufL2Erbwg=~-1~-1~-1; bm_sz=FA4989C39003C760E086827186E93C07~YAAQnXlAF12ZrZGDAQAAjd7knhHHRM5V72JHF0JXzOBzDrmWsj/RVajkMCqu72GIBpZgSnNB+VAOqb0GVoeowENg0yA5EQR5Zxwmamg1fszjKeoMfrSgW7I6oNHgn+WO+CLgNgLIaa50iyfB58ZfK9yrBkJxs5dhTmYkH7NZrhoQ8+R0gOVr5S1ZhthDQgWn/cht/ctXl0+QSkp2zOSATrSI997o+xFA+xLrfChntTpL3WUEdBaGJM1EIKYEoJ+vYtVLEet8tvto8TynF5tAt4QBaBY0QrDnj4zC6uXmnKM=~4473906~3290929'}\n"
          ]
        }
      ],
      "source": [
        "print(r.request.headers)"
      ]
    },
    {
      "cell_type": "code",
      "execution_count": null,
      "id": "f286df99",
      "metadata": {
        "id": "f286df99",
        "outputId": "c9585580-f3ad-4502-9fed-d30afa3e54a2"
      },
      "outputs": [
        {
          "name": "stdout",
          "output_type": "stream",
          "text": [
            "request body: None\n"
          ]
        }
      ],
      "source": [
        "print(\"request body:\", r.request.body)"
      ]
    },
    {
      "cell_type": "code",
      "execution_count": null,
      "id": "c3cfeff6",
      "metadata": {
        "id": "c3cfeff6",
        "outputId": "c7fa15c6-6120-44f2-accb-eca930eeaf89"
      },
      "outputs": [
        {
          "name": "stdout",
          "output_type": "stream",
          "text": [
            "{'Server': 'Apache', 'Server-Timing': 'intid;desc=0ed6f8b02926e51c', 'x-drupal-dynamic-cache': 'UNCACHEABLE', 'Link': '<https://www.ibm.com/mx-es>; rel=\"canonical\", <//1.cms.s81c.com>; rel=preconnect; crossorigin, <//1.cms.s81c.com>; rel=dns-prefetch', 'x-ua-compatible': 'IE=edge', 'Content-Language': 'es-mx', 'Permissions-Policy': 'interest-cohort=()', 'x-generator': 'Drupal 9 (https://www.drupal.org)', 'x-dns-prefetch-control': 'on', 'x-drupal-cache': 'MISS', 'Last-Modified': 'Sun, 02 Oct 2022 20:56:45 GMT', 'ETag': '\"1664744205\"', 'Content-Type': 'text/html; charset=UTF-8', 'x-acquia-host': 'www.ibm.com', 'x-acquia-path': '/mx-es', 'x-acquia-site': '', 'x-acquia-purge-tags': '', 'x-varnish': '648087447', 'x-age': '0', 'Accept-Ranges': 'bytes', 'Content-Encoding': 'gzip', 'Cache-Control': 'public, max-age=300', 'Expires': 'Mon, 03 Oct 2022 17:34:03 GMT', 'X-Akamai-Transformed': '9 10850 0 pmb=mTOE,2', 'Date': 'Mon, 03 Oct 2022 17:29:03 GMT', 'Content-Length': '11024', 'Connection': 'keep-alive', 'Vary': 'Accept-Encoding', 'x-content-type-options': 'nosniff', 'X-XSS-Protection': '1; mode=block', 'Content-Security-Policy': 'upgrade-insecure-requests', 'Strict-Transport-Security': 'max-age=31536000', 'x-ibm-trace': 'www-dipatcher: dynamic rule'}\n"
          ]
        }
      ],
      "source": [
        "header=r.headers\n",
        "print(r.headers)"
      ]
    },
    {
      "cell_type": "code",
      "execution_count": null,
      "id": "e7a025ce",
      "metadata": {
        "id": "e7a025ce",
        "outputId": "2bd841c7-3115-46fd-cfd0-8e129c633178"
      },
      "outputs": [
        {
          "data": {
            "text/plain": [
              "'Mon, 03 Oct 2022 17:29:03 GMT'"
            ]
          },
          "execution_count": 35,
          "metadata": {},
          "output_type": "execute_result"
        }
      ],
      "source": [
        "header['date']"
      ]
    },
    {
      "cell_type": "code",
      "execution_count": null,
      "id": "a7ef0cc8",
      "metadata": {
        "id": "a7ef0cc8",
        "outputId": "523d3010-f40b-495d-ace6-c97c89dc7797"
      },
      "outputs": [
        {
          "data": {
            "text/plain": [
              "'text/html; charset=UTF-8'"
            ]
          },
          "execution_count": 36,
          "metadata": {},
          "output_type": "execute_result"
        }
      ],
      "source": [
        "header['Content-Type']"
      ]
    },
    {
      "cell_type": "code",
      "execution_count": null,
      "id": "33e4d7bc",
      "metadata": {
        "id": "33e4d7bc",
        "outputId": "29ce9fce-e852-41dc-99b1-326c93b01dfa"
      },
      "outputs": [
        {
          "data": {
            "text/plain": [
              "'UTF-8'"
            ]
          },
          "execution_count": 37,
          "metadata": {},
          "output_type": "execute_result"
        }
      ],
      "source": [
        " r.encoding"
      ]
    },
    {
      "cell_type": "code",
      "execution_count": null,
      "id": "3f1a883e",
      "metadata": {
        "id": "3f1a883e",
        "outputId": "f34cc78c-80b2-4883-e544-97c2f6299e4e"
      },
      "outputs": [
        {
          "data": {
            "text/plain": [
              "'<!DOCTYPE html>\\n<html lang=\"es-mx\" dir=\"ltr\">\\n  <head>\\n    <meta charset=\"utf-8\" />\\n<script>digitalD'"
            ]
          },
          "execution_count": 38,
          "metadata": {},
          "output_type": "execute_result"
        }
      ],
      "source": [
        "r.text[0:100]"
      ]
    },
    {
      "cell_type": "code",
      "execution_count": null,
      "id": "dd9f6b1d",
      "metadata": {
        "id": "dd9f6b1d"
      },
      "outputs": [],
      "source": [
        "url='https://cf-courses-data.s3.us.cloud-object-storage.appdomain.cloud/IBMDeveloperSkillsNetwork-PY0101EN-SkillsNetwork/IDSNlogo.png'"
      ]
    },
    {
      "cell_type": "code",
      "execution_count": null,
      "id": "115d2387",
      "metadata": {
        "id": "115d2387"
      },
      "outputs": [],
      "source": [
        "r=requests.get(url)"
      ]
    },
    {
      "cell_type": "code",
      "execution_count": null,
      "id": "4eb6acf4",
      "metadata": {
        "id": "4eb6acf4",
        "outputId": "3433de18-d3d2-4852-e0ff-d1213f0d515d"
      },
      "outputs": [
        {
          "name": "stdout",
          "output_type": "stream",
          "text": [
            "{'Date': 'Mon, 03 Oct 2022 17:30:56 GMT', 'X-Clv-Request-Id': '26ff0cbf-602e-440a-b26f-adce4f1d2277', 'Server': 'Cleversafe', 'X-Clv-S3-Version': '2.5', 'Accept-Ranges': 'bytes', 'x-amz-request-id': '26ff0cbf-602e-440a-b26f-adce4f1d2277', 'Cache-Control': 'max-age=0,public', 'ETag': '\"a831e767d02efd21b904ec485ac0c769\"', 'Content-Type': 'image/png', 'Last-Modified': 'Wed, 14 Sep 2022 05:47:46 GMT', 'Content-Length': '21590'}\n"
          ]
        }
      ],
      "source": [
        "print(r.headers)"
      ]
    },
    {
      "cell_type": "code",
      "execution_count": null,
      "id": "1964168f",
      "metadata": {
        "id": "1964168f",
        "outputId": "aab6a2bb-5e81-4b09-80af-628e64b431e1"
      },
      "outputs": [
        {
          "data": {
            "text/plain": [
              "'image/png'"
            ]
          },
          "execution_count": 42,
          "metadata": {},
          "output_type": "execute_result"
        }
      ],
      "source": [
        "r.headers['Content-Type']"
      ]
    },
    {
      "cell_type": "code",
      "execution_count": null,
      "id": "40ff8f88",
      "metadata": {
        "id": "40ff8f88",
        "outputId": "c86214c5-df79-49e3-a4e1-583d8a4ca696"
      },
      "outputs": [
        {
          "data": {
            "text/plain": [
              "'C:\\\\Users\\\\ferna\\\\MNA\\\\CAD\\\\image.png'"
            ]
          },
          "execution_count": 43,
          "metadata": {},
          "output_type": "execute_result"
        }
      ],
      "source": [
        "path=os.path.join(os.getcwd(),'image.png')\n",
        "path"
      ]
    },
    {
      "cell_type": "code",
      "execution_count": null,
      "id": "ba966b91",
      "metadata": {
        "id": "ba966b91"
      },
      "outputs": [],
      "source": [
        "with open(path,'wb') as f:\n",
        "    f.write(r.content)"
      ]
    },
    {
      "cell_type": "code",
      "execution_count": null,
      "id": "ce1b9fc1",
      "metadata": {
        "id": "ce1b9fc1",
        "outputId": "b1026a40-135f-4dfd-ebdd-5210413a1c61"
      },
      "outputs": [
        {
          "data": {
            "image/png": "[encoded data removed]",
            "text/plain": [
              "<PIL.PngImagePlugin.PngImageFile image mode=P size=800x800 at 0x1D3BEA219D0>"
            ]
          },
          "execution_count": 45,
          "metadata": {},
          "output_type": "execute_result"
        }
      ],
      "source": [
        "Image.open(path)  "
      ]
    },
    {
      "cell_type": "code",
      "execution_count": null,
      "id": "1c752259",
      "metadata": {
        "id": "1c752259"
      },
      "outputs": [],
      "source": [
        "url='https://cf-courses-data.s3.us.cloud-object-storage.appdomain.cloud/IBMDeveloperSkillsNetwork-PY0101EN-SkillsNetwork/labs/Module%205/data/Example1.txt'\n",
        "path=os.path.join(os.getcwd(),'example1.txt')\n",
        "r=requests.get(url)\n",
        "with open(path,'wb') as f:\n",
        "    f.write(r.content)"
      ]
    },
    {
      "cell_type": "code",
      "execution_count": null,
      "id": "1da2c802",
      "metadata": {
        "id": "1da2c802"
      },
      "outputs": [],
      "source": [
        "url_get='http://httpbin.org/get'"
      ]
    },
    {
      "cell_type": "code",
      "execution_count": null,
      "id": "f89d2a93",
      "metadata": {
        "id": "f89d2a93"
      },
      "outputs": [],
      "source": [
        "payload={\"name\":\"Joseph\",\"ID\":\"123\"}"
      ]
    },
    {
      "cell_type": "code",
      "execution_count": null,
      "id": "5ad9225f",
      "metadata": {
        "id": "5ad9225f"
      },
      "outputs": [],
      "source": [
        "r=requests.get(url_get,params=payload)"
      ]
    },
    {
      "cell_type": "code",
      "execution_count": null,
      "id": "53d4db61",
      "metadata": {
        "id": "53d4db61",
        "outputId": "fcae0d84-656c-4d8b-8a96-2ead670dec5c"
      },
      "outputs": [
        {
          "data": {
            "text/plain": [
              "'http://httpbin.org/get?name=Joseph&ID=123'"
            ]
          },
          "execution_count": 50,
          "metadata": {},
          "output_type": "execute_result"
        }
      ],
      "source": [
        "r.url"
      ]
    },
    {
      "cell_type": "code",
      "execution_count": null,
      "id": "f7d13f76",
      "metadata": {
        "id": "f7d13f76",
        "outputId": "76ab2664-6658-4635-b20b-e5e05b72c64a"
      },
      "outputs": [
        {
          "name": "stdout",
          "output_type": "stream",
          "text": [
            "request body: None\n"
          ]
        }
      ],
      "source": [
        "print(\"request body:\", r.request.body)"
      ]
    },
    {
      "cell_type": "code",
      "execution_count": null,
      "id": "86259370",
      "metadata": {
        "id": "86259370",
        "outputId": "8e8ad55d-b3ed-4b4c-8722-3d9bd8f8d508"
      },
      "outputs": [
        {
          "name": "stdout",
          "output_type": "stream",
          "text": [
            "200\n"
          ]
        }
      ],
      "source": [
        "print(r.status_code)"
      ]
    },
    {
      "cell_type": "code",
      "execution_count": null,
      "id": "c6c2427d",
      "metadata": {
        "id": "c6c2427d",
        "outputId": "3420ddf2-5a55-4e7b-c28d-e61a947a14da"
      },
      "outputs": [
        {
          "name": "stdout",
          "output_type": "stream",
          "text": [
            "{\n",
            "  \"args\": {\n",
            "    \"ID\": \"123\", \n",
            "    \"name\": \"Joseph\"\n",
            "  }, \n",
            "  \"headers\": {\n",
            "    \"Accept\": \"*/*\", \n",
            "    \"Accept-Encoding\": \"gzip, deflate, br\", \n",
            "    \"Host\": \"httpbin.org\", \n",
            "    \"User-Agent\": \"python-requests/2.27.1\", \n",
            "    \"X-Amzn-Trace-Id\": \"Root=1-633b1d59-4880c888014009af429785b4\"\n",
            "  }, \n",
            "  \"origin\": \"187.189.145.115\", \n",
            "  \"url\": \"http://httpbin.org/get?name=Joseph&ID=123\"\n",
            "}\n",
            "\n"
          ]
        }
      ],
      "source": [
        "print(r.text)"
      ]
    },
    {
      "cell_type": "code",
      "execution_count": null,
      "id": "9ef612f7",
      "metadata": {
        "id": "9ef612f7",
        "outputId": "1be987ea-95b6-44b9-d493-4e4818d23718"
      },
      "outputs": [
        {
          "data": {
            "text/plain": [
              "'application/json'"
            ]
          },
          "execution_count": 54,
          "metadata": {},
          "output_type": "execute_result"
        }
      ],
      "source": [
        "r.headers['Content-Type']"
      ]
    },
    {
      "cell_type": "code",
      "execution_count": null,
      "id": "927bf867",
      "metadata": {
        "id": "927bf867",
        "outputId": "ded166b3-c901-4bb5-f614-22b6790b948f"
      },
      "outputs": [
        {
          "data": {
            "text/plain": [
              "{'args': {'ID': '123', 'name': 'Joseph'},\n",
              " 'headers': {'Accept': '*/*',\n",
              "  'Accept-Encoding': 'gzip, deflate, br',\n",
              "  'Host': 'httpbin.org',\n",
              "  'User-Agent': 'python-requests/2.27.1',\n",
              "  'X-Amzn-Trace-Id': 'Root=1-633b1d59-4880c888014009af429785b4'},\n",
              " 'origin': '187.189.145.115',\n",
              " 'url': 'http://httpbin.org/get?name=Joseph&ID=123'}"
            ]
          },
          "execution_count": 55,
          "metadata": {},
          "output_type": "execute_result"
        }
      ],
      "source": [
        "r.json()"
      ]
    },
    {
      "cell_type": "code",
      "execution_count": null,
      "id": "ff90589a",
      "metadata": {
        "id": "ff90589a",
        "outputId": "43f44ef7-fb11-45fd-f845-02c1933e6697"
      },
      "outputs": [
        {
          "data": {
            "text/plain": [
              "{'ID': '123', 'name': 'Joseph'}"
            ]
          },
          "execution_count": 56,
          "metadata": {},
          "output_type": "execute_result"
        }
      ],
      "source": [
        "r.json()['args']"
      ]
    },
    {
      "cell_type": "code",
      "execution_count": null,
      "id": "377c6fbe",
      "metadata": {
        "id": "377c6fbe"
      },
      "outputs": [],
      "source": [
        "url_post='http://httpbin.org/post'"
      ]
    },
    {
      "cell_type": "code",
      "execution_count": null,
      "id": "b88571b5",
      "metadata": {
        "id": "b88571b5"
      },
      "outputs": [],
      "source": [
        "r_post=requests.post(url_post,data=payload)"
      ]
    },
    {
      "cell_type": "code",
      "execution_count": null,
      "id": "2d938d93",
      "metadata": {
        "id": "2d938d93",
        "outputId": "8ad804c4-543b-4b5e-c682-90c8e2f576b9"
      },
      "outputs": [
        {
          "name": "stdout",
          "output_type": "stream",
          "text": [
            "POST request URL: http://httpbin.org/post\n",
            "GET request URL: http://httpbin.org/get?name=Joseph&ID=123\n"
          ]
        }
      ],
      "source": [
        "print(\"POST request URL:\",r_post.url )\n",
        "print(\"GET request URL:\",r.url)"
      ]
    },
    {
      "cell_type": "code",
      "execution_count": null,
      "id": "b5cd796c",
      "metadata": {
        "id": "b5cd796c",
        "outputId": "b1248b04-c612-4d32-a0ca-486ac4c7e5d0"
      },
      "outputs": [
        {
          "name": "stdout",
          "output_type": "stream",
          "text": [
            "POST request body: name=Joseph&ID=123\n",
            "GET request body: None\n"
          ]
        }
      ],
      "source": [
        "print(\"POST request body:\",r_post.request.body)\n",
        "print(\"GET request body:\",r.request.body)"
      ]
    },
    {
      "cell_type": "code",
      "execution_count": null,
      "id": "65f06c8d",
      "metadata": {
        "id": "65f06c8d",
        "outputId": "c7a08adc-1105-4446-f03b-6c2fa2b2b832"
      },
      "outputs": [
        {
          "data": {
            "text/plain": [
              "{'ID': '123', 'name': 'Joseph'}"
            ]
          },
          "execution_count": 61,
          "metadata": {},
          "output_type": "execute_result"
        }
      ],
      "source": [
        "r_post.json()['form']"
      ]
    },
    {
      "cell_type": "code",
      "execution_count": null,
      "id": "5ddfb4ea",
      "metadata": {
        "id": "5ddfb4ea"
      },
      "outputs": [],
      "source": [
        "import numpy as np"
      ]
    },
    {
      "cell_type": "code",
      "execution_count": null,
      "id": "e0d24a18",
      "metadata": {
        "id": "e0d24a18",
        "outputId": "051bbe84-5aca-4050-f2b8-6277f0ec0cd5"
      },
      "outputs": [
        {
          "data": {
            "text/plain": [
              "array([0, 0, 0, 0, 0])"
            ]
          },
          "execution_count": 64,
          "metadata": {},
          "output_type": "execute_result"
        }
      ],
      "source": [
        "a=np.array([0,1,0,1,0])\n",
        "\n",
        "b=np.array([1,0,1,0,1])\n",
        "\n",
        "a*b"
      ]
    },
    {
      "cell_type": "code",
      "execution_count": null,
      "id": "873a737c",
      "metadata": {
        "id": "873a737c",
        "outputId": "1db2817e-3a63-4383-cbd8-116201d0376d"
      },
      "outputs": [
        {
          "data": {
            "text/plain": [
              "0"
            ]
          },
          "execution_count": 65,
          "metadata": {},
          "output_type": "execute_result"
        }
      ],
      "source": [
        "a=np.array([0,1])\n",
        "\n",
        "b=np.array([1,0])\n",
        "\n",
        "np.dot(a,b)"
      ]
    },
    {
      "cell_type": "code",
      "execution_count": null,
      "id": "43523c4b",
      "metadata": {
        "id": "43523c4b",
        "outputId": "f18b07cc-539b-46ea-9e67-313389945b80"
      },
      "outputs": [
        {
          "data": {
            "text/plain": [
              "array([11, 11, 11, 11, 11])"
            ]
          },
          "execution_count": 66,
          "metadata": {},
          "output_type": "execute_result"
        }
      ],
      "source": [
        "a=np.array([1,1,1,1,1])\n",
        "\n",
        "a+10"
      ]
    },
    {
      "cell_type": "code",
      "execution_count": null,
      "id": "6f1c4798",
      "metadata": {
        "id": "6f1c4798",
        "outputId": "019e1766-f23e-494a-e7f6-b7453795fed8"
      },
      "outputs": [
        {
          "data": {
            "text/plain": [
              "7"
            ]
          },
          "execution_count": 67,
          "metadata": {},
          "output_type": "execute_result"
        }
      ],
      "source": [
        "3+2*2"
      ]
    },
    {
      "cell_type": "code",
      "execution_count": null,
      "id": "71f0ea9a",
      "metadata": {
        "id": "71f0ea9a",
        "outputId": "90647fea-f465-429c-d35a-1306e316594e"
      },
      "outputs": [
        {
          "data": {
            "text/plain": [
              "3"
            ]
          },
          "execution_count": 68,
          "metadata": {},
          "output_type": "execute_result"
        }
      ],
      "source": [
        "int(3.2)"
      ]
    },
    {
      "cell_type": "code",
      "execution_count": null,
      "id": "69fc782c",
      "metadata": {
        "id": "69fc782c",
        "outputId": "315c7b55-fe78-4b17-b22d-b70cbc00315a"
      },
      "outputs": [
        {
          "data": {
            "text/plain": [
              "'246'"
            ]
          },
          "execution_count": 69,
          "metadata": {},
          "output_type": "execute_result"
        }
      ],
      "source": [
        "A='1234567'\n",
        "A[1::2]"
      ]
    },
    {
      "cell_type": "code",
      "execution_count": null,
      "id": "d1dff203",
      "metadata": {
        "id": "d1dff203",
        "outputId": "b9af6b28-0ef9-44c0-f0e6-75d95159a7e7"
      },
      "outputs": [
        {
          "data": {
            "text/plain": [
              "5"
            ]
          },
          "execution_count": 70,
          "metadata": {},
          "output_type": "execute_result"
        }
      ],
      "source": [
        "Name=\"Michael Jackson\"\n",
        "Name.find('el')"
      ]
    },
    {
      "cell_type": "code",
      "execution_count": null,
      "id": "91ad5547",
      "metadata": {
        "id": "91ad5547",
        "outputId": "e381b4ee-923f-4e8e-ea70-577b8da25139"
      },
      "outputs": [
        {
          "data": {
            "text/plain": [
              "'12'"
            ]
          },
          "execution_count": 71,
          "metadata": {},
          "output_type": "execute_result"
        }
      ],
      "source": [
        "A='1'\n",
        "B='2'\n",
        "A+B"
      ]
    },
    {
      "cell_type": "code",
      "execution_count": null,
      "id": "e18ce308",
      "metadata": {
        "id": "e18ce308",
        "outputId": "cf2caa53-c6da-42ff-e306-851ea95706ee"
      },
      "outputs": [
        {
          "data": {
            "text/plain": [
              "'YOU ARE WRONG'"
            ]
          },
          "execution_count": 72,
          "metadata": {},
          "output_type": "execute_result"
        }
      ],
      "source": [
        "F=\"You are wrong\"\n",
        "F.upper()"
      ]
    },
    {
      "cell_type": "code",
      "execution_count": null,
      "id": "a68962fd",
      "metadata": {
        "id": "a68962fd",
        "outputId": "6abbcd40-872b-42c6-8b75-9c4b702c4213"
      },
      "outputs": [
        {
          "data": {
            "text/plain": [
              "[21, 22]"
            ]
          },
          "execution_count": 74,
          "metadata": {},
          "output_type": "execute_result"
        }
      ],
      "source": [
        "A=((11,12),[21,22])\n",
        "A[1]"
      ]
    },
    {
      "cell_type": "code",
      "execution_count": null,
      "id": "e96323eb",
      "metadata": {
        "id": "e96323eb",
        "outputId": "2bcbf1df-1f41-4cbb-bcd9-1dece065f0a3"
      },
      "outputs": [
        {
          "data": {
            "text/plain": [
              "12"
            ]
          },
          "execution_count": 75,
          "metadata": {},
          "output_type": "execute_result"
        }
      ],
      "source": [
        "A=((11,12),[21,22])\n",
        "A[0][1]"
      ]
    },
    {
      "cell_type": "code",
      "execution_count": null,
      "id": "898d3b06",
      "metadata": {
        "id": "898d3b06",
        "outputId": "bb92429c-43ac-419c-c6ae-4eb1899a3271"
      },
      "outputs": [
        {
          "data": {
            "text/plain": [
              "['1', '2', '3', '4']"
            ]
          },
          "execution_count": 76,
          "metadata": {},
          "output_type": "execute_result"
        }
      ],
      "source": [
        "'1,2,3,4'.split(',')"
      ]
    },
    {
      "cell_type": "code",
      "execution_count": null,
      "id": "4b371073",
      "metadata": {
        "id": "4b371073",
        "outputId": "957d869b-e0cf-4435-ce3e-d218443377d4"
      },
      "outputs": [
        {
          "data": {
            "text/plain": [
              "[1, 'a', 2, 1, 'd']"
            ]
          },
          "execution_count": 77,
          "metadata": {},
          "output_type": "execute_result"
        }
      ],
      "source": [
        "A=[1,'a']\n",
        "B=[2,1,'d']\n",
        "A+B"
      ]
    },
    {
      "cell_type": "code",
      "execution_count": null,
      "id": "ae86f215",
      "metadata": {
        "id": "ae86f215",
        "outputId": "d7d25781-acb3-40de-a6a8-b83273c8fb8c"
      },
      "outputs": [
        {
          "ename": "TypeError",
          "evalue": "can't multiply sequence by non-int of type 'list'",
          "output_type": "error",
          "traceback": [
            "\u001b[1;31m---------------------------------------------------------------------------\u001b[0m",
            "\u001b[1;31mTypeError\u001b[0m                                 Traceback (most recent call last)",
            "Input \u001b[1;32mIn [78]\u001b[0m, in \u001b[0;36m<cell line: 1>\u001b[1;34m()\u001b[0m\n\u001b[1;32m----> 1\u001b[0m \u001b[43mA\u001b[49m\u001b[38;5;241;43m*\u001b[39;49m\u001b[43mB\u001b[49m\n",
            "\u001b[1;31mTypeError\u001b[0m: can't multiply sequence by non-int of type 'list'"
          ]
        }
      ],
      "source": [
        "A*B"
      ]
    },
    {
      "cell_type": "code",
      "execution_count": null,
      "id": "f71c7ea5",
      "metadata": {
        "id": "f71c7ea5"
      },
      "outputs": [],
      "source": [
        "a=set(A)"
      ]
    },
    {
      "cell_type": "code",
      "execution_count": null,
      "id": "610950c7",
      "metadata": {
        "id": "610950c7",
        "outputId": "263c3148-28e7-48a1-a69f-5f2feb9836e6"
      },
      "outputs": [
        {
          "data": {
            "text/plain": [
              "{1, 'a'}"
            ]
          },
          "execution_count": 80,
          "metadata": {},
          "output_type": "execute_result"
        }
      ],
      "source": [
        "a"
      ]
    },
    {
      "cell_type": "code",
      "execution_count": null,
      "id": "0769638b",
      "metadata": {
        "id": "0769638b"
      },
      "outputs": [],
      "source": [
        "V={'A','B'}\n",
        "V.add('C')"
      ]
    },
    {
      "cell_type": "code",
      "execution_count": null,
      "id": "6b403611",
      "metadata": {
        "id": "6b403611",
        "outputId": "a7bcf823-57bc-4e0d-d205-416707f0ab35"
      },
      "outputs": [
        {
          "data": {
            "text/plain": [
              "{'A', 'B', 'C'}"
            ]
          },
          "execution_count": 82,
          "metadata": {},
          "output_type": "execute_result"
        }
      ],
      "source": [
        "V"
      ]
    },
    {
      "cell_type": "code",
      "execution_count": null,
      "id": "70effe3f",
      "metadata": {
        "id": "70effe3f",
        "outputId": "4de443d8-7f64-4681-ae44-b5d950fbbe3d"
      },
      "outputs": [
        {
          "data": {
            "text/plain": [
              "{'A', 'B', 'C'}"
            ]
          },
          "execution_count": 84,
          "metadata": {},
          "output_type": "execute_result"
        }
      ],
      "source": [
        "V={'A','B','C' }\n",
        "V.add('C')\n",
        "V"
      ]
    },
    {
      "cell_type": "code",
      "execution_count": null,
      "id": "5b63a232",
      "metadata": {
        "id": "5b63a232",
        "outputId": "b5d41e97-85ce-46b0-970d-ce918585e98f"
      },
      "outputs": [
        {
          "name": "stdout",
          "output_type": "stream",
          "text": [
            "Go \n",
            "Mike\n"
          ]
        }
      ],
      "source": [
        "x=\"Go\"\n",
        "\n",
        "if(x!=\"Go\"):\n",
        "\n",
        "    print('Stop')\n",
        "\n",
        "else:\n",
        "\n",
        "    print('Go ')\n",
        "\n",
        "print('Mike')"
      ]
    },
    {
      "cell_type": "code",
      "execution_count": null,
      "id": "e629f222",
      "metadata": {
        "id": "e629f222",
        "outputId": "a848e641-4aec-47a1-d6ad-a33293ce2cf6"
      },
      "outputs": [
        {
          "name": "stdout",
          "output_type": "stream",
          "text": [
            "Go \n",
            "Mike\n"
          ]
        }
      ],
      "source": [
        "x=\"Go\"\n",
        "\n",
        "if(x==\"Go\"):\n",
        "\n",
        "    print('Go ')\n",
        "\n",
        "else:\n",
        "\n",
        "    print('Stop')\n",
        "\n",
        "print('Mike')"
      ]
    },
    {
      "cell_type": "code",
      "execution_count": null,
      "id": "442db944",
      "metadata": {
        "id": "442db944",
        "outputId": "23326106-9ed0-4389-90af-f4f37443292e"
      },
      "outputs": [
        {
          "name": "stdout",
          "output_type": "stream",
          "text": [
            "0\n",
            "1\n",
            "2\n"
          ]
        }
      ],
      "source": [
        "for n in range(3):\n",
        "\n",
        "    print(n)"
      ]
    },
    {
      "cell_type": "code",
      "execution_count": null,
      "id": "48981071",
      "metadata": {
        "id": "48981071",
        "outputId": "bb33927d-35dc-4df4-fc8f-fb14cf159a7d"
      },
      "outputs": [
        {
          "name": "stdout",
          "output_type": "stream",
          "text": [
            "1\n",
            "2\n",
            "3\n"
          ]
        }
      ],
      "source": [
        "for n in range(3):\n",
        "\n",
        "    print(n+1)"
      ]
    },
    {
      "cell_type": "code",
      "execution_count": null,
      "id": "7bea8672",
      "metadata": {
        "id": "7bea8672",
        "outputId": "7a8065d7-eb9c-4f48-9f1e-2750a77f315e"
      },
      "outputs": [
        {
          "name": "stdout",
          "output_type": "stream",
          "text": [
            "11\n",
            "22\n",
            "33\n"
          ]
        }
      ],
      "source": [
        "A=['1','2','3']\n",
        "\n",
        "for a in A:\n",
        "\n",
        "    print(2*a)"
      ]
    },
    {
      "cell_type": "code",
      "execution_count": null,
      "id": "e8e9b442",
      "metadata": {
        "id": "e8e9b442"
      },
      "outputs": [],
      "source": [
        "def Add(x,y):\n",
        "\n",
        "    z=y+x\n",
        "\n",
        "    return(y)"
      ]
    },
    {
      "cell_type": "code",
      "execution_count": null,
      "id": "f65c9d59",
      "metadata": {
        "id": "f65c9d59",
        "outputId": "9f2bdefe-fe59-4ba9-ff11-baad8b7989d5"
      },
      "outputs": [
        {
          "data": {
            "text/plain": [
              "'1'"
            ]
          },
          "execution_count": 92,
          "metadata": {},
          "output_type": "execute_result"
        }
      ],
      "source": [
        "Add('1','1')"
      ]
    },
    {
      "cell_type": "code",
      "execution_count": null,
      "id": "294eb32c",
      "metadata": {
        "id": "294eb32c",
        "outputId": "0cd7904c-b50f-4589-8b93-d84560d9050f"
      },
      "outputs": [
        {
          "name": "stdout",
          "output_type": "stream",
          "text": [
            "x= 1 y= 2\n"
          ]
        }
      ],
      "source": [
        "class Points(object):\n",
        "\n",
        "    def __init__(self,x,y):\n",
        "\n",
        "        self.x=x\n",
        "\n",
        "        self.y=y\n",
        "\n",
        "    def print_point(self):\n",
        "\n",
        "        print('x=',self.x,'y=',self.y)\n",
        "p1=Points(1,2)\n",
        "\n",
        "p1.print_point()"
      ]
    },
    {
      "cell_type": "code",
      "execution_count": null,
      "id": "7419bbab",
      "metadata": {
        "id": "7419bbab",
        "outputId": "53d98b66-3836-4dbb-8836-c5d80bbc9441"
      },
      "outputs": [
        {
          "name": "stdout",
          "output_type": "stream",
          "text": [
            "x= 2  y= 2\n"
          ]
        }
      ],
      "source": [
        "class Points(object):\n",
        "\n",
        "    def __init__(self,x,y):\n",
        "\n",
        "        self.x=x\n",
        "\n",
        "        self.y=y\n",
        "\n",
        "    def print_point(self):\n",
        "\n",
        "        print('x=',self.x,' y=',self.y)\n",
        "\n",
        "p2=Points(1,2)\n",
        "\n",
        "p2.x=2\n",
        "\n",
        "p2.print_point()"
      ]
    },
    {
      "cell_type": "code",
      "execution_count": null,
      "id": "2f921872",
      "metadata": {
        "id": "2f921872",
        "outputId": "6dceefc5-fa54-4c1e-d545-4a48e50dc39e"
      },
      "outputs": [
        {
          "data": {
            "text/plain": [
              "{'A', 'B', 'C', 'Z'}"
            ]
          },
          "execution_count": 97,
          "metadata": {},
          "output_type": "execute_result"
        }
      ],
      "source": [
        "S={'A','B','C'}\n",
        "\n",
        "U={'A','Z','C'}\n",
        "\n",
        "U.union(S)"
      ]
    },
    {
      "cell_type": "code",
      "execution_count": null,
      "id": "bdf89b14",
      "metadata": {
        "id": "bdf89b14"
      },
      "outputs": [],
      "source": []
    }
  ],
  "metadata": {
    "kernelspec": {
      "display_name": "Python 3 (ipykernel)",
      "language": "python",
      "name": "python3"
    },
    "language_info": {
      "codemirror_mode": {
        "name": "ipython",
        "version": 3
      },
      "file_extension": ".py",
      "mimetype": "text/x-python",
      "name": "python",
      "nbconvert_exporter": "python",
      "pygments_lexer": "ipython3",
      "version": "3.9.12"
    },
    "colab": {
      "provenance": [],
      "include_colab_link": true
    }
  },
  "nbformat": 4,
  "nbformat_minor": 5
}