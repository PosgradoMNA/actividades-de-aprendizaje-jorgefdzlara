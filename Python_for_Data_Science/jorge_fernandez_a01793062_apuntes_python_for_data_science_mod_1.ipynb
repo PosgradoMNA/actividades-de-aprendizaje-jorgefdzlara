{
  "cells": [
    {
      "cell_type": "markdown",
      "metadata": {
        "id": "view-in-github",
        "colab_type": "text"
      },
      "source": [
        "<a href=\"https://colab.research.google.com/github/PosgradoMNA/actividades-de-aprendizaje-jorgefdzlara/blob/main/jorge_fernandez_a01793062_apuntes_python_for_data_science_mod_1.ipynb\" target=\"_parent\"><img src=\"https://colab.research.google.com/assets/colab-badge.svg\" alt=\"Open In Colab\"/></a>"
      ]
    },
    {
      "cell_type": "markdown",
      "id": "34083c8f",
      "metadata": {
        "id": "34083c8f"
      },
      "source": [
        "Python es un lenguaje de programación poderoso y fácil de aprender y tiener múltiples librerías para trabajar con datos.\n",
        "Frecuentemente es el primer lenguaje de programación que se aprende, sin embargo, es el lenguaje que se utiliza posteriormente de forma profesional.\n",
        "Python es esencial para cualquier CV y una habilidad para cualquiera que trabaje con datos.\n",
        "Python es el lenguaje de alto nivel más popular.\n",
        "Las listas y tuplas son llamadas tipos de datos compuestos y son uno de los tipos de estructura de datos claves en Python.\n",
        "Los sets y diccionarios son tipos de colecciones."
      ]
    },
    {
      "cell_type": "code",
      "source": [
        "from google.colab import drive\n",
        "drive.mount('/content/drive')"
      ],
      "metadata": {
        "id": "YxzzKVRlaqma"
      },
      "id": "YxzzKVRlaqma",
      "execution_count": null,
      "outputs": []
    },
    {
      "cell_type": "markdown",
      "source": [
        "# Nueva sección"
      ],
      "metadata": {
        "id": "pnRAm-kvauV8"
      },
      "id": "pnRAm-kvauV8"
    },
    {
      "cell_type": "code",
      "execution_count": null,
      "id": "ce4073b0",
      "metadata": {
        "id": "ce4073b0",
        "outputId": "7682ceae-d1f7-4b56-8f66-13486763e603"
      },
      "outputs": [
        {
          "name": "stdout",
          "output_type": "stream",
          "text": [
            "Hola mundo\n"
          ]
        }
      ],
      "source": [
        "print('Hola mundo')"
      ]
    },
    {
      "cell_type": "code",
      "execution_count": null,
      "id": "db43ac06",
      "metadata": {
        "id": "db43ac06",
        "outputId": "51aa8c0a-5196-4d45-b665-293459d25737"
      },
      "outputs": [
        {
          "name": "stdout",
          "output_type": "stream",
          "text": [
            "Hola\n",
            "Mundo\n"
          ]
        }
      ],
      "source": [
        "print('Hola\\nMundo')"
      ]
    },
    {
      "cell_type": "code",
      "execution_count": null,
      "id": "467bce19",
      "metadata": {
        "id": "467bce19"
      },
      "outputs": [],
      "source": [
        "#este es un comentario"
      ]
    },
    {
      "cell_type": "markdown",
      "id": "6a10b5c0",
      "metadata": {
        "id": "6a10b5c0"
      },
      "source": [
        "# Tipos de datos\n",
        "Un tipo de dato es como representa Python a los datos. Estos pueden ser enteros (int), o reales (float).\n",
        "Los datos tipo int pueden ser positivos o negativos, pero siempre enteros. Los datos tipo float pueden ser positivos o negativos y con números decimales.\n",
        "Si utilizamos la función \"type()\" podemos saber el tipo de dato que tenemos.\n",
        "Otro tipo de dato es cadena de caracteres(str). \n",
        "Es posible cambiar el tipo de variable utilizando Type casting, pero hay que ser cuidadosos, si cambias el tipo de dato de float a int, pudieras perder información.\n",
        "Otro tipo de dato importante en Python son los booleanos, que pueden tomar valores verdaderos \"True\" o falsos \"False\", estos valores pueden ser convertidos a tipo entero y obtendremos los valores \"1\" y \"0\" respectivamente."
      ]
    },
    {
      "cell_type": "code",
      "execution_count": null,
      "id": "a8e05512",
      "metadata": {
        "id": "a8e05512",
        "outputId": "36c48471-2b8c-4a84-e913-410d23c62a9b"
      },
      "outputs": [
        {
          "data": {
            "text/plain": [
              "str"
            ]
          },
          "execution_count": 5,
          "metadata": {},
          "output_type": "execute_result"
        }
      ],
      "source": [
        "type(\"Hola Mundo\")"
      ]
    },
    {
      "cell_type": "code",
      "execution_count": null,
      "id": "f15c6170",
      "metadata": {
        "id": "f15c6170",
        "outputId": "48b28ae2-640d-4d41-e9e7-e3498187bd08"
      },
      "outputs": [
        {
          "data": {
            "text/plain": [
              "str"
            ]
          },
          "execution_count": 6,
          "metadata": {},
          "output_type": "execute_result"
        }
      ],
      "source": [
        "type(\"1.1\")\n",
        "#al estar entrecomillado Python lo maneja como cadena de caracteres (str)"
      ]
    },
    {
      "cell_type": "code",
      "execution_count": null,
      "id": "4933583a",
      "metadata": {
        "id": "4933583a",
        "outputId": "4d00c13c-418f-4131-bc8b-6555f867173b"
      },
      "outputs": [
        {
          "name": "stdout",
          "output_type": "stream",
          "text": [
            "True\n"
          ]
        },
        {
          "data": {
            "text/plain": [
              "bool"
            ]
          },
          "execution_count": 11,
          "metadata": {},
          "output_type": "execute_result"
        }
      ],
      "source": [
        "print(bool(int(\"1\")))\n",
        "type(bool(int(\"1\")))"
      ]
    },
    {
      "cell_type": "markdown",
      "id": "efdedacb",
      "metadata": {
        "id": "efdedacb"
      },
      "source": [
        "# Expresiones y Variables\n",
        "Las expresiones describen un tipo de operación que las computadoras realizan.\n",
        "Las expresiones soin operaciones que Python realiza, por ejemplo las operaciones artméticas básicas.\n",
        "A los números se les llama operandos y a los símbolos matemáticos operadores.\n",
        "En adición a los operadores clásicos, podemos utilizas \"//\" para la operación integrer, la cuál realizará la división y redondeará el resultado. Es importante notar que no siempre será el mismo resultado de la división.\n",
        "# Variables\n",
        "   Se utilizan para almacenar valores, y se les asigna un valor con el signo de \"=\".\n",
        "   Pueden cambiar múltiples veces de valores y pueden tener el valor de una expresión.\n",
        "# Cadenas\n",
        "Una cadena de caracteres (string) puede ser representada con doble comilla o sencilla \"\" o ''.dentro de estas, se puede tener letras, símbolos y espacios. \n",
        "Los datos se ordenan e indexan de izquierda a derecha, comenzando con el valor \"0\". Sim embaergo, pueden indexarse de derecha a izquierda comenzando con el valor \"-1\".\n",
        "De la misma forma, las cadenas pueden ser utilizadas como tuplas y así utilizar sólo los valores de ciertas posiciones indexadas.\n",
        "FUNCIONES CON CADENAS\n",
        "La función len() nos indica el tamaño de la cadena.\n",
        "Si se requiere concatenar dos cadenas, se utiliza el operador \"+\".\n",
        "Si se requiere repetir vartias veces una cadena, se utiliza el operador * por el número de repeticiones.\n",
        "\"\\\" se utiliza para secuencias de escape, por ejemplo:\n",
        "    \"\\n\" nueva línea\n",
        "    \"\\t\" Tabulación\n",
        "    \"\\\\\" Diagonal invertida\n",
        "MÉTODOS\n",
        "existen métodos que también resultan útiles con el uso de cadenas. \n",
        "Por ejemplo, para cambiar a mayúsculas los caracteres de una variable tripo str:\n",
        "nombredelavariable.upper()\n",
        "O también se pueden intercambiar los valores dentro de la cadena con el método \"replace\".\n",
        "nombredelavariable.replace('Valores a reemplazar','Valores de reemplazo')\n",
        "También podemos buscar valores dentro la cadena, es decir, subcadenas\n",
        "nombredelavariable.find('caracteres buscados') \n",
        "Y se obtendrá el valor del primer índice de la secuencia, en caso de no encontrar el valor, el resultado será \"-1\"."
      ]
    },
    {
      "cell_type": "code",
      "execution_count": null,
      "id": "c3a46649",
      "metadata": {
        "id": "c3a46649",
        "outputId": "e3988f99-d836-43c4-bd78-f1514d75d77e"
      },
      "outputs": [
        {
          "data": {
            "text/plain": [
              "'ABCD'"
            ]
          },
          "execution_count": 12,
          "metadata": {},
          "output_type": "execute_result"
        }
      ],
      "source": [
        "Letras=\"ABCDEFGHIJK\"\n",
        "Letras[0:4]"
      ]
    },
    {
      "cell_type": "code",
      "execution_count": null,
      "id": "42e6a898",
      "metadata": {
        "id": "42e6a898",
        "outputId": "0befe023-324b-49f3-8704-05e33ee317d9"
      },
      "outputs": [
        {
          "data": {
            "text/plain": [
              "'Good'"
            ]
          },
          "execution_count": 13,
          "metadata": {},
          "output_type": "execute_result"
        }
      ],
      "source": [
        "Good=\"GsoAo+d\"\n",
        "Good[::2]"
      ]
    },
    {
      "cell_type": "code",
      "execution_count": null,
      "id": "04154999",
      "metadata": {
        "id": "04154999",
        "outputId": "7839d0eb-959f-4fc9-c37b-803349f0732a"
      },
      "outputs": [
        {
          "data": {
            "text/plain": [
              "'MAYUSCULAS'"
            ]
          },
          "execution_count": 14,
          "metadata": {},
          "output_type": "execute_result"
        }
      ],
      "source": [
        "\"mayusculas\"\n",
        "\"mayusculas\".upper()"
      ]
    },
    {
      "cell_type": "code",
      "execution_count": null,
      "id": "43bf71dc",
      "metadata": {
        "id": "43bf71dc",
        "outputId": "2738ecf6-07d0-4140-cd3b-931154842557"
      },
      "outputs": [
        {
          "data": {
            "text/plain": [
              "'0246'"
            ]
          },
          "execution_count": 16,
          "metadata": {},
          "output_type": "execute_result"
        }
      ],
      "source": [
        "Numbers = \"0123456\"\n",
        "Numbers[::2]"
      ]
    },
    {
      "cell_type": "code",
      "execution_count": null,
      "id": "68a18a8a",
      "metadata": {
        "id": "68a18a8a",
        "outputId": "10da1257-bc15-46e9-f0f2-d97d5189eed3"
      },
      "outputs": [
        {
          "data": {
            "text/plain": [
              "1"
            ]
          },
          "execution_count": 17,
          "metadata": {},
          "output_type": "execute_result"
        }
      ],
      "source": [
        "\"0123456\".find('1')"
      ]
    },
    {
      "cell_type": "code",
      "execution_count": null,
      "id": "56c98f64",
      "metadata": {
        "id": "56c98f64",
        "outputId": "51ceec47-c242-42f3-936b-87e0845abb28"
      },
      "outputs": [
        {
          "data": {
            "text/plain": [
              "7"
            ]
          },
          "execution_count": 18,
          "metadata": {},
          "output_type": "execute_result"
        }
      ],
      "source": [
        "3 + 2 * 2"
      ]
    },
    {
      "cell_type": "code",
      "execution_count": null,
      "id": "d099959b",
      "metadata": {
        "id": "d099959b",
        "outputId": "26bb05ab-3f1e-4a66-dc6d-2cde53644e75"
      },
      "outputs": [
        {
          "name": "stdout",
          "output_type": "stream",
          "text": [
            "Li\n"
          ]
        }
      ],
      "source": [
        "name = 'Lizz'\n",
        "print(name[0:2])"
      ]
    },
    {
      "cell_type": "code",
      "execution_count": null,
      "id": "5fb02308",
      "metadata": {
        "id": "5fb02308",
        "outputId": "616dd655-a8ce-4f5f-94f5-e1785b548c06"
      },
      "outputs": [
        {
          "name": "stdout",
          "output_type": "stream",
          "text": [
            "0246\n"
          ]
        }
      ],
      "source": [
        "var = '01234567'\n",
        "print(var[::2])"
      ]
    },
    {
      "cell_type": "code",
      "execution_count": null,
      "id": "59420185",
      "metadata": {
        "id": "59420185",
        "outputId": "2417dce4-484f-41f8-8914-d3c84c4c9992"
      },
      "outputs": [
        {
          "data": {
            "text/plain": [
              "'12'"
            ]
          },
          "execution_count": 21,
          "metadata": {},
          "output_type": "execute_result"
        }
      ],
      "source": [
        "'1'+'2'"
      ]
    },
    {
      "cell_type": "code",
      "execution_count": null,
      "id": "d5e8b9b8",
      "metadata": {
        "id": "d5e8b9b8",
        "outputId": "798263ea-400b-45f5-b722-f910df432969"
      },
      "outputs": [
        {
          "data": {
            "text/plain": [
              "'HELLO'"
            ]
          },
          "execution_count": 22,
          "metadata": {},
          "output_type": "execute_result"
        }
      ],
      "source": [
        "myvar = 'hello'\n",
        "myvar.upper()"
      ]
    },
    {
      "cell_type": "code",
      "execution_count": null,
      "id": "f2105a4b",
      "metadata": {
        "id": "f2105a4b",
        "outputId": "1d751e7c-7a0e-439e-8a1d-47b2f1afb444"
      },
      "outputs": [
        {
          "name": "stdout",
          "output_type": "stream",
          "text": [
            "Hola, Python!\n"
          ]
        }
      ],
      "source": [
        "#Prueba tu primera salida en Python\n",
        "\n",
        "print('Hola, Python!')"
      ]
    },
    {
      "cell_type": "code",
      "execution_count": null,
      "id": "2296a9fe",
      "metadata": {
        "id": "2296a9fe",
        "outputId": "5de701d2-54fc-403b-9d2a-4a5eec3cf6af"
      },
      "outputs": [
        {
          "name": "stdout",
          "output_type": "stream",
          "text": [
            "3.9.12 (main, Apr  4 2022, 05:22:27) [MSC v.1916 64 bit (AMD64)]\n"
          ]
        }
      ],
      "source": [
        "# revisa la versión de Python\n",
        "\n",
        "import sys\n",
        "print(sys.version)"
      ]
    },
    {
      "cell_type": "code",
      "execution_count": null,
      "id": "a471514d",
      "metadata": {
        "id": "a471514d",
        "outputId": "354b94a7-75a6-43ca-8ba9-c4f67cc59d4f"
      },
      "outputs": [
        {
          "name": "stdout",
          "output_type": "stream",
          "text": [
            "Hola, Python!\n"
          ]
        }
      ],
      "source": [
        "# Practica escribir comentarios\n",
        "\n",
        "print('Hola, Python!') # esta línea imprime una cadena\n",
        "# print('Hola')"
      ]
    },
    {
      "cell_type": "code",
      "execution_count": null,
      "id": "c74f4b0a",
      "metadata": {
        "id": "c74f4b0a",
        "outputId": "4e7d3c33-91b1-4183-98a4-947ff0f108f1"
      },
      "outputs": [
        {
          "ename": "NameError",
          "evalue": "name 'frint' is not defined",
          "output_type": "error",
          "traceback": [
            "\u001b[1;31m---------------------------------------------------------------------------\u001b[0m",
            "\u001b[1;31mNameError\u001b[0m                                 Traceback (most recent call last)",
            "Input \u001b[1;32mIn [4]\u001b[0m, in \u001b[0;36m<cell line: 3>\u001b[1;34m()\u001b[0m\n\u001b[0;32m      1\u001b[0m \u001b[38;5;66;03m# imprime una cadena como error\u001b[39;00m\n\u001b[1;32m----> 3\u001b[0m \u001b[43mfrint\u001b[49m(\u001b[38;5;124m\"\u001b[39m\u001b[38;5;124mHola, Python!\u001b[39m\u001b[38;5;124m\"\u001b[39m)\n",
            "\u001b[1;31mNameError\u001b[0m: name 'frint' is not defined"
          ]
        }
      ],
      "source": [
        "# imprime una cadena como error\n",
        "\n",
        "frint(\"Hola, Python!\")"
      ]
    },
    {
      "cell_type": "code",
      "execution_count": null,
      "id": "90c608bb",
      "metadata": {
        "id": "90c608bb",
        "outputId": "9dc80a93-67b8-4a91-a2e4-10c90745a448"
      },
      "outputs": [
        {
          "ename": "SyntaxError",
          "evalue": "EOL while scanning string literal (2561249457.py, line 3)",
          "output_type": "error",
          "traceback": [
            "\u001b[1;36m  Input \u001b[1;32mIn [5]\u001b[1;36m\u001b[0m\n\u001b[1;33m    print(\"Hello, Python!)\u001b[0m\n\u001b[1;37m                          ^\u001b[0m\n\u001b[1;31mSyntaxError\u001b[0m\u001b[1;31m:\u001b[0m EOL while scanning string literal\n"
          ]
        }
      ],
      "source": [
        "# Prueba un error interno\n",
        "\n",
        "print(\"Hello, Python!)"
      ]
    },
    {
      "cell_type": "code",
      "execution_count": null,
      "id": "73990689",
      "metadata": {
        "id": "73990689",
        "outputId": "77093783-6f87-4afb-d719-0f8a4dae065e"
      },
      "outputs": [
        {
          "name": "stdout",
          "output_type": "stream",
          "text": [
            "Esto se va a imprimir\n"
          ]
        },
        {
          "ename": "NameError",
          "evalue": "name 'frint' is not defined",
          "output_type": "error",
          "traceback": [
            "\u001b[1;31m---------------------------------------------------------------------------\u001b[0m",
            "\u001b[1;31mNameError\u001b[0m                                 Traceback (most recent call last)",
            "Input \u001b[1;32mIn [6]\u001b[0m, in \u001b[0;36m<cell line: 4>\u001b[1;34m()\u001b[0m\n\u001b[0;32m      1\u001b[0m \u001b[38;5;66;03m# Imprime una cadena y un error y verifica el orden\u001b[39;00m\n\u001b[0;32m      3\u001b[0m \u001b[38;5;28mprint\u001b[39m(\u001b[38;5;124m\"\u001b[39m\u001b[38;5;124mEsto se va a imprimir\u001b[39m\u001b[38;5;124m\"\u001b[39m)\n\u001b[1;32m----> 4\u001b[0m \u001b[43mfrint\u001b[49m(\u001b[38;5;124m\"\u001b[39m\u001b[38;5;124mEsto causará un error\u001b[39m\u001b[38;5;124m\"\u001b[39m)\n\u001b[0;32m      5\u001b[0m \u001b[38;5;28mprint\u001b[39m(\u001b[38;5;124m\"\u001b[39m\u001b[38;5;124mEsto no será impreso\u001b[39m\u001b[38;5;124m\"\u001b[39m)\n",
            "\u001b[1;31mNameError\u001b[0m: name 'frint' is not defined"
          ]
        }
      ],
      "source": [
        "# Imprime una cadena y un error y verifica el orden\n",
        "\n",
        "print(\"Esto se va a imprimir\")\n",
        "frint(\"Esto causará un error\")\n",
        "print(\"Esto no será impreso\")"
      ]
    },
    {
      "cell_type": "code",
      "execution_count": null,
      "id": "23cb3416",
      "metadata": {
        "id": "23cb3416",
        "outputId": "7ac33394-b379-494d-ab38-4598b94f15d9"
      },
      "outputs": [
        {
          "name": "stdout",
          "output_type": "stream",
          "text": [
            "Hola, mundo\n"
          ]
        }
      ],
      "source": [
        "# imprime tu codigo abajo, utilisa shift+ enter\n",
        "print(\"Hola, mundo\")"
      ]
    },
    {
      "cell_type": "code",
      "execution_count": null,
      "id": "5b090716",
      "metadata": {
        "id": "5b090716",
        "outputId": "20289171-2586-4e93-bb31-3ecc41afae22"
      },
      "outputs": [
        {
          "name": "stdout",
          "output_type": "stream",
          "text": [
            "Hola, mundo\n"
          ]
        }
      ],
      "source": [
        "print(\"Hola, mundo\") #imprime el tradicional hola mundo"
      ]
    },
    {
      "cell_type": "code",
      "execution_count": null,
      "id": "4a32b213",
      "metadata": {
        "id": "4a32b213",
        "outputId": "654e9e31-6390-4c92-e702-cbc6f1a71f70"
      },
      "outputs": [
        {
          "data": {
            "text/plain": [
              "11"
            ]
          },
          "execution_count": 9,
          "metadata": {},
          "output_type": "execute_result"
        }
      ],
      "source": [
        "# Int\n",
        "\n",
        "11"
      ]
    },
    {
      "cell_type": "code",
      "execution_count": null,
      "id": "4711fc66",
      "metadata": {
        "id": "4711fc66",
        "outputId": "8349173b-c1a3-42bd-f9e6-74940ca1971d"
      },
      "outputs": [
        {
          "data": {
            "text/plain": [
              "2.14"
            ]
          },
          "execution_count": 10,
          "metadata": {},
          "output_type": "execute_result"
        }
      ],
      "source": [
        "2.14"
      ]
    },
    {
      "cell_type": "code",
      "execution_count": null,
      "id": "08057082",
      "metadata": {
        "id": "08057082",
        "outputId": "a507dec8-f7d3-49b1-82ea-3a49ab67fa19"
      },
      "outputs": [
        {
          "data": {
            "text/plain": [
              "'Hola Python 101'"
            ]
          },
          "execution_count": 11,
          "metadata": {},
          "output_type": "execute_result"
        }
      ],
      "source": [
        "\"Hola Python 101\""
      ]
    },
    {
      "cell_type": "code",
      "execution_count": null,
      "id": "d3c3a6e3",
      "metadata": {
        "id": "d3c3a6e3",
        "outputId": "68d919b6-cd2d-4c12-b0b6-e749ef8e3c65"
      },
      "outputs": [
        {
          "data": {
            "text/plain": [
              "int"
            ]
          },
          "execution_count": 12,
          "metadata": {},
          "output_type": "execute_result"
        }
      ],
      "source": [
        "type(12)"
      ]
    },
    {
      "cell_type": "code",
      "execution_count": null,
      "id": "c5d911e3",
      "metadata": {
        "id": "c5d911e3",
        "outputId": "a8543b7d-b807-4a7f-d68e-fc06c27cfc9f"
      },
      "outputs": [
        {
          "data": {
            "text/plain": [
              "float"
            ]
          },
          "execution_count": 13,
          "metadata": {},
          "output_type": "execute_result"
        }
      ],
      "source": [
        "type(2.14)"
      ]
    },
    {
      "cell_type": "code",
      "execution_count": null,
      "id": "edd9da4e",
      "metadata": {
        "id": "edd9da4e",
        "outputId": "5edc50c0-eaa0-4c59-d15d-b2dc0602252d"
      },
      "outputs": [
        {
          "data": {
            "text/plain": [
              "str"
            ]
          },
          "execution_count": 14,
          "metadata": {},
          "output_type": "execute_result"
        }
      ],
      "source": [
        "type(\"Hola Python 101\")"
      ]
    },
    {
      "cell_type": "code",
      "execution_count": null,
      "id": "5814b356",
      "metadata": {
        "id": "5814b356",
        "outputId": "de05c3e4-e77c-44bb-97a9-d2b7937d0485"
      },
      "outputs": [
        {
          "data": {
            "text/plain": [
              "float"
            ]
          },
          "execution_count": 15,
          "metadata": {},
          "output_type": "execute_result"
        }
      ],
      "source": [
        "type(12.0)"
      ]
    },
    {
      "cell_type": "code",
      "execution_count": null,
      "id": "8b3bd261",
      "metadata": {
        "id": "8b3bd261",
        "outputId": "49949c84-01a2-4213-b7e6-1f16ec4f0152"
      },
      "outputs": [
        {
          "data": {
            "text/plain": [
              "int"
            ]
          },
          "execution_count": 16,
          "metadata": {},
          "output_type": "execute_result"
        }
      ],
      "source": [
        "type(-1)"
      ]
    },
    {
      "cell_type": "code",
      "execution_count": null,
      "id": "342ab158",
      "metadata": {
        "id": "342ab158",
        "outputId": "f7760d88-fa38-4fab-d639-8174871d049e"
      },
      "outputs": [
        {
          "data": {
            "text/plain": [
              "int"
            ]
          },
          "execution_count": 20,
          "metadata": {},
          "output_type": "execute_result"
        }
      ],
      "source": [
        "type(0)"
      ]
    },
    {
      "cell_type": "code",
      "execution_count": null,
      "id": "99b07612",
      "metadata": {
        "id": "99b07612",
        "outputId": "5dcdaf81-8dd3-4a0f-81a6-1bedd5ca132d"
      },
      "outputs": [
        {
          "data": {
            "text/plain": [
              "float"
            ]
          },
          "execution_count": 22,
          "metadata": {},
          "output_type": "execute_result"
        }
      ],
      "source": [
        "type(1.0)#Nota que 1.0 es float y 1 int"
      ]
    },
    {
      "cell_type": "code",
      "execution_count": null,
      "id": "3bfcb149",
      "metadata": {
        "id": "3bfcb149",
        "outputId": "4c43c534-30d0-4ee4-cd83-afad8d2cdacf"
      },
      "outputs": [
        {
          "data": {
            "text/plain": [
              "float"
            ]
          },
          "execution_count": 23,
          "metadata": {},
          "output_type": "execute_result"
        }
      ],
      "source": [
        "type(0.5)"
      ]
    },
    {
      "cell_type": "code",
      "execution_count": null,
      "id": "95e3e4bf",
      "metadata": {
        "id": "95e3e4bf",
        "outputId": "601620cc-83c0-404f-8282-cffa087959d0"
      },
      "outputs": [
        {
          "data": {
            "text/plain": [
              "float"
            ]
          },
          "execution_count": 24,
          "metadata": {},
          "output_type": "execute_result"
        }
      ],
      "source": [
        "type(.56)"
      ]
    },
    {
      "cell_type": "code",
      "execution_count": null,
      "id": "d095ecbe",
      "metadata": {
        "id": "d095ecbe",
        "outputId": "5d1b7472-70a2-4751-a398-335514aa1e19"
      },
      "outputs": [
        {
          "data": {
            "text/plain": [
              "sys.float_info(max=1.7976931348623157e+308, max_exp=1024, max_10_exp=308, min=2.2250738585072014e-308, min_exp=-1021, min_10_exp=-307, dig=15, mant_dig=53, epsilon=2.220446049250313e-16, radix=2, rounds=1)"
            ]
          },
          "execution_count": 25,
          "metadata": {},
          "output_type": "execute_result"
        }
      ],
      "source": [
        "sys.float_info"
      ]
    },
    {
      "cell_type": "code",
      "execution_count": null,
      "id": "03985a65",
      "metadata": {
        "id": "03985a65",
        "outputId": "1be750f0-e5e2-4f53-c9e1-77177e44ecc5"
      },
      "outputs": [
        {
          "data": {
            "text/plain": [
              "int"
            ]
          },
          "execution_count": 26,
          "metadata": {},
          "output_type": "execute_result"
        }
      ],
      "source": [
        "type(2)"
      ]
    },
    {
      "cell_type": "code",
      "execution_count": null,
      "id": "8887b7d7",
      "metadata": {
        "id": "8887b7d7",
        "outputId": "8806cb74-3e32-423b-ee51-6f5614cbc8b9"
      },
      "outputs": [
        {
          "data": {
            "text/plain": [
              "2.0"
            ]
          },
          "execution_count": 27,
          "metadata": {},
          "output_type": "execute_result"
        }
      ],
      "source": [
        "float(2)"
      ]
    },
    {
      "cell_type": "code",
      "execution_count": null,
      "id": "4cb8d4e6",
      "metadata": {
        "id": "4cb8d4e6",
        "outputId": "5837832e-5612-41da-ea69-69213f3b721e"
      },
      "outputs": [
        {
          "data": {
            "text/plain": [
              "1"
            ]
          },
          "execution_count": 28,
          "metadata": {},
          "output_type": "execute_result"
        }
      ],
      "source": [
        "int(1.1)"
      ]
    },
    {
      "cell_type": "code",
      "execution_count": null,
      "id": "fdebec15",
      "metadata": {
        "id": "fdebec15",
        "outputId": "37801bd5-39f7-41a2-aefe-4f7a44130023"
      },
      "outputs": [
        {
          "data": {
            "text/plain": [
              "1"
            ]
          },
          "execution_count": 29,
          "metadata": {},
          "output_type": "execute_result"
        }
      ],
      "source": [
        "int('1')"
      ]
    },
    {
      "cell_type": "code",
      "execution_count": null,
      "id": "d2013048",
      "metadata": {
        "id": "d2013048",
        "outputId": "8becc97b-c921-412b-a060-ad689c36a39a"
      },
      "outputs": [
        {
          "ename": "ValueError",
          "evalue": "invalid literal for int() with base 10: '1 or 2 personas'",
          "output_type": "error",
          "traceback": [
            "\u001b[1;31m---------------------------------------------------------------------------\u001b[0m",
            "\u001b[1;31mValueError\u001b[0m                                Traceback (most recent call last)",
            "Input \u001b[1;32mIn [30]\u001b[0m, in \u001b[0;36m<cell line: 1>\u001b[1;34m()\u001b[0m\n\u001b[1;32m----> 1\u001b[0m \u001b[38;5;28;43mint\u001b[39;49m\u001b[43m(\u001b[49m\u001b[38;5;124;43m'\u001b[39;49m\u001b[38;5;124;43m1 or 2 personas\u001b[39;49m\u001b[38;5;124;43m'\u001b[39;49m\u001b[43m)\u001b[49m\n",
            "\u001b[1;31mValueError\u001b[0m: invalid literal for int() with base 10: '1 or 2 personas'"
          ]
        }
      ],
      "source": [
        "int('1 or 2 personas')"
      ]
    },
    {
      "cell_type": "code",
      "execution_count": null,
      "id": "35a49786",
      "metadata": {
        "id": "35a49786",
        "outputId": "5ab3ddbd-64bc-494e-e3b3-e26a8df3fcf4"
      },
      "outputs": [
        {
          "data": {
            "text/plain": [
              "1.2"
            ]
          },
          "execution_count": 31,
          "metadata": {},
          "output_type": "execute_result"
        }
      ],
      "source": [
        "float('1.2')"
      ]
    },
    {
      "cell_type": "code",
      "execution_count": null,
      "id": "ef37ac36",
      "metadata": {
        "id": "ef37ac36",
        "outputId": "a191ea20-66eb-4868-a4b7-7b708bda5946"
      },
      "outputs": [
        {
          "data": {
            "text/plain": [
              "'1.2'"
            ]
          },
          "execution_count": 32,
          "metadata": {},
          "output_type": "execute_result"
        }
      ],
      "source": [
        "str(1.2)"
      ]
    },
    {
      "cell_type": "code",
      "execution_count": null,
      "id": "b3fa3ba7",
      "metadata": {
        "id": "b3fa3ba7",
        "outputId": "29d65080-5588-4162-b049-6ec15bc77c65"
      },
      "outputs": [
        {
          "data": {
            "text/plain": [
              "True"
            ]
          },
          "execution_count": 33,
          "metadata": {},
          "output_type": "execute_result"
        }
      ],
      "source": [
        "True"
      ]
    },
    {
      "cell_type": "code",
      "execution_count": null,
      "id": "05176fa4",
      "metadata": {
        "id": "05176fa4",
        "outputId": "a49fb113-cc98-407e-e3f2-55b0685be99b"
      },
      "outputs": [
        {
          "data": {
            "text/plain": [
              "bool"
            ]
          },
          "execution_count": 34,
          "metadata": {},
          "output_type": "execute_result"
        }
      ],
      "source": [
        "type(True)"
      ]
    },
    {
      "cell_type": "code",
      "execution_count": null,
      "id": "6ba6edc7",
      "metadata": {
        "id": "6ba6edc7",
        "outputId": "997fa1b5-ea82-4a0d-e3c9-537e8f19f059"
      },
      "outputs": [
        {
          "data": {
            "text/plain": [
              "bool"
            ]
          },
          "execution_count": 35,
          "metadata": {},
          "output_type": "execute_result"
        }
      ],
      "source": [
        "type(False)"
      ]
    },
    {
      "cell_type": "code",
      "execution_count": null,
      "id": "a0b62c7d",
      "metadata": {
        "id": "a0b62c7d",
        "outputId": "3cb1af5c-e98c-4a84-8413-b6ba01b5ac44"
      },
      "outputs": [
        {
          "data": {
            "text/plain": [
              "True"
            ]
          },
          "execution_count": 37,
          "metadata": {},
          "output_type": "execute_result"
        }
      ],
      "source": [
        "bool(1)"
      ]
    },
    {
      "cell_type": "code",
      "execution_count": null,
      "id": "1581d2d7",
      "metadata": {
        "id": "1581d2d7",
        "outputId": "6712a603-0978-4bac-bd6c-ec15eb17b53f"
      },
      "outputs": [
        {
          "data": {
            "text/plain": [
              "False"
            ]
          },
          "execution_count": 38,
          "metadata": {},
          "output_type": "execute_result"
        }
      ],
      "source": [
        "bool(0)"
      ]
    },
    {
      "cell_type": "code",
      "execution_count": null,
      "id": "d768e7e1",
      "metadata": {
        "id": "d768e7e1",
        "outputId": "9fad6ac7-1450-4ce1-c719-e937c885fc78"
      },
      "outputs": [
        {
          "data": {
            "text/plain": [
              "1.0"
            ]
          },
          "execution_count": 39,
          "metadata": {},
          "output_type": "execute_result"
        }
      ],
      "source": [
        "float(True)"
      ]
    },
    {
      "cell_type": "code",
      "execution_count": null,
      "id": "061a2be7",
      "metadata": {
        "id": "061a2be7",
        "outputId": "4c8f0a09-7bdd-4342-9ec9-697173634b77"
      },
      "outputs": [
        {
          "data": {
            "text/plain": [
              "float"
            ]
          },
          "execution_count": 40,
          "metadata": {},
          "output_type": "execute_result"
        }
      ],
      "source": [
        "type(6/2)"
      ]
    },
    {
      "cell_type": "code",
      "execution_count": null,
      "id": "3a4790c4",
      "metadata": {
        "id": "3a4790c4",
        "outputId": "559ee589-f536-4598-e4c8-cd64b8920be0"
      },
      "outputs": [
        {
          "data": {
            "text/plain": [
              "int"
            ]
          },
          "execution_count": 41,
          "metadata": {},
          "output_type": "execute_result"
        }
      ],
      "source": [
        "type(6//2)"
      ]
    },
    {
      "cell_type": "code",
      "execution_count": null,
      "id": "ff8d9ae1",
      "metadata": {
        "id": "ff8d9ae1",
        "outputId": "1782f0d9-9038-4be5-de21-b33fa02da124"
      },
      "outputs": [
        {
          "data": {
            "text/plain": [
              "160"
            ]
          },
          "execution_count": 42,
          "metadata": {},
          "output_type": "execute_result"
        }
      ],
      "source": [
        "43 + 60 + 16 + 41"
      ]
    },
    {
      "cell_type": "code",
      "execution_count": null,
      "id": "1d2dab74",
      "metadata": {
        "id": "1d2dab74",
        "outputId": "a81eaae1-65c2-4491-f870-00588df034b8"
      },
      "outputs": [
        {
          "data": {
            "text/plain": [
              "-10"
            ]
          },
          "execution_count": 43,
          "metadata": {},
          "output_type": "execute_result"
        }
      ],
      "source": [
        "50 - 60"
      ]
    },
    {
      "cell_type": "code",
      "execution_count": null,
      "id": "859e1ee8",
      "metadata": {
        "id": "859e1ee8",
        "outputId": "7eaa126a-23fa-4e43-a7c5-b454564c7527"
      },
      "outputs": [
        {
          "data": {
            "text/plain": [
              "25"
            ]
          },
          "execution_count": 44,
          "metadata": {},
          "output_type": "execute_result"
        }
      ],
      "source": [
        "5*5"
      ]
    },
    {
      "cell_type": "code",
      "execution_count": null,
      "id": "9c843edb",
      "metadata": {
        "id": "9c843edb",
        "outputId": "c1563d4a-ab9f-4a9c-c064-3b1dfc3c361e"
      },
      "outputs": [
        {
          "data": {
            "text/plain": [
              "5.0"
            ]
          },
          "execution_count": 45,
          "metadata": {},
          "output_type": "execute_result"
        }
      ],
      "source": [
        "25/5"
      ]
    },
    {
      "cell_type": "code",
      "execution_count": null,
      "id": "7d19e446",
      "metadata": {
        "id": "7d19e446",
        "outputId": "336e97c3-7d86-4650-9807-dae02066d0d4"
      },
      "outputs": [
        {
          "data": {
            "text/plain": [
              "4.166666666666667"
            ]
          },
          "execution_count": 46,
          "metadata": {},
          "output_type": "execute_result"
        }
      ],
      "source": [
        "25/6"
      ]
    },
    {
      "cell_type": "code",
      "execution_count": null,
      "id": "e42eb850",
      "metadata": {
        "id": "e42eb850",
        "outputId": "b4fce971-4f47-443b-b8f4-df1bc66c5274"
      },
      "outputs": [
        {
          "data": {
            "text/plain": [
              "5"
            ]
          },
          "execution_count": 47,
          "metadata": {},
          "output_type": "execute_result"
        }
      ],
      "source": [
        "25//5"
      ]
    },
    {
      "cell_type": "code",
      "execution_count": null,
      "id": "eef888cc",
      "metadata": {
        "id": "eef888cc",
        "outputId": "951237e1-da55-4fb1-b299-a68a880ea43f"
      },
      "outputs": [
        {
          "data": {
            "text/plain": [
              "4"
            ]
          },
          "execution_count": 48,
          "metadata": {},
          "output_type": "execute_result"
        }
      ],
      "source": [
        "25//6"
      ]
    },
    {
      "cell_type": "code",
      "execution_count": null,
      "id": "c015d38a",
      "metadata": {
        "id": "c015d38a",
        "outputId": "1f9464ad-b4f8-44a4-a4a8-7439f570c4ec"
      },
      "outputs": [
        {
          "data": {
            "text/plain": [
              "26.666666666666668"
            ]
          },
          "execution_count": 49,
          "metadata": {},
          "output_type": "execute_result"
        }
      ],
      "source": [
        "160/6"
      ]
    },
    {
      "cell_type": "code",
      "execution_count": null,
      "id": "0821d0ba",
      "metadata": {
        "id": "0821d0ba",
        "outputId": "059d4997-df82-4edc-a1af-017a18765382"
      },
      "outputs": [
        {
          "data": {
            "text/plain": [
              "42"
            ]
          },
          "execution_count": 50,
          "metadata": {},
          "output_type": "execute_result"
        }
      ],
      "source": [
        "30+2*6"
      ]
    },
    {
      "cell_type": "code",
      "execution_count": null,
      "id": "be760e29",
      "metadata": {
        "id": "be760e29",
        "outputId": "481f7cfa-00ca-43c3-c9de-8059820e23e6"
      },
      "outputs": [
        {
          "data": {
            "text/plain": [
              "192"
            ]
          },
          "execution_count": 51,
          "metadata": {},
          "output_type": "execute_result"
        }
      ],
      "source": [
        "(30+2)*6"
      ]
    },
    {
      "cell_type": "code",
      "execution_count": null,
      "id": "bfe6ebdf",
      "metadata": {
        "id": "bfe6ebdf"
      },
      "outputs": [],
      "source": [
        "x = 43 + 60 + 16 + 41"
      ]
    },
    {
      "cell_type": "code",
      "execution_count": null,
      "id": "45b84fc9",
      "metadata": {
        "id": "45b84fc9",
        "outputId": "aaa7fb07-ef33-4ad1-b658-31a4ba82ba63"
      },
      "outputs": [
        {
          "data": {
            "text/plain": [
              "160"
            ]
          },
          "execution_count": 53,
          "metadata": {},
          "output_type": "execute_result"
        }
      ],
      "source": [
        "x"
      ]
    },
    {
      "cell_type": "code",
      "execution_count": null,
      "id": "0022df7f",
      "metadata": {
        "id": "0022df7f",
        "outputId": "83b1cfdc-7f52-4c01-ce60-3209b94fabb0"
      },
      "outputs": [
        {
          "data": {
            "text/plain": [
              "2.6666666666666665"
            ]
          },
          "execution_count": 54,
          "metadata": {},
          "output_type": "execute_result"
        }
      ],
      "source": [
        "y = x / 60\n",
        "y"
      ]
    },
    {
      "cell_type": "code",
      "execution_count": null,
      "id": "37d924ff",
      "metadata": {
        "id": "37d924ff",
        "outputId": "6b387c9a-ec27-4145-d11a-948cc28614fd"
      },
      "outputs": [
        {
          "data": {
            "text/plain": [
              "2.6666666666666665"
            ]
          },
          "execution_count": 55,
          "metadata": {},
          "output_type": "execute_result"
        }
      ],
      "source": [
        "x = x / 60\n",
        "x"
      ]
    },
    {
      "cell_type": "code",
      "execution_count": null,
      "id": "376467fd",
      "metadata": {
        "id": "376467fd",
        "outputId": "59181038-729e-4b9e-9df1-11979510903f"
      },
      "outputs": [
        {
          "data": {
            "text/plain": [
              "142"
            ]
          },
          "execution_count": 56,
          "metadata": {},
          "output_type": "execute_result"
        }
      ],
      "source": [
        "total_min = 43 + 42 + 57 \n",
        "total_min"
      ]
    },
    {
      "cell_type": "code",
      "execution_count": null,
      "id": "3312588a",
      "metadata": {
        "id": "3312588a",
        "outputId": "128208e2-64e2-46d2-8c00-273be6d467c2"
      },
      "outputs": [
        {
          "data": {
            "text/plain": [
              "2.3666666666666667"
            ]
          },
          "execution_count": 57,
          "metadata": {},
          "output_type": "execute_result"
        }
      ],
      "source": [
        "total_hours = total_min / 60 \n",
        "total_hours"
      ]
    },
    {
      "cell_type": "code",
      "execution_count": null,
      "id": "51d76c34",
      "metadata": {
        "id": "51d76c34",
        "outputId": "5bc94671-2c3c-4269-c786-a4ea92677d34"
      },
      "outputs": [
        {
          "data": {
            "text/plain": [
              "2.3666666666666667"
            ]
          },
          "execution_count": 58,
          "metadata": {},
          "output_type": "execute_result"
        }
      ],
      "source": [
        "total_hours = (43 + 42 + 57) / 60  \n",
        "total_hours"
      ]
    },
    {
      "cell_type": "code",
      "execution_count": null,
      "id": "51b99fdc",
      "metadata": {
        "id": "51b99fdc",
        "outputId": "50de7fba-f171-4ff3-e650-0993133bfc2b"
      },
      "outputs": [
        {
          "data": {
            "text/plain": [
              "7"
            ]
          },
          "execution_count": 59,
          "metadata": {},
          "output_type": "execute_result"
        }
      ],
      "source": [
        "x=3+2*2\n",
        "x"
      ]
    },
    {
      "cell_type": "code",
      "execution_count": null,
      "id": "15fd378d",
      "metadata": {
        "id": "15fd378d",
        "outputId": "31a9d83b-ba14-4525-df57-64fa97f481c6"
      },
      "outputs": [
        {
          "data": {
            "text/plain": [
              "10"
            ]
          },
          "execution_count": 60,
          "metadata": {},
          "output_type": "execute_result"
        }
      ],
      "source": [
        "y=(3+2)*2\n",
        "y"
      ]
    },
    {
      "cell_type": "code",
      "execution_count": null,
      "id": "0b59c2a6",
      "metadata": {
        "id": "0b59c2a6",
        "outputId": "b0af403a-0d99-4104-9626-b6ff92e43d81"
      },
      "outputs": [
        {
          "data": {
            "text/plain": [
              "17"
            ]
          },
          "execution_count": 61,
          "metadata": {},
          "output_type": "execute_result"
        }
      ],
      "source": [
        "z=x+y\n",
        "z"
      ]
    },
    {
      "cell_type": "code",
      "execution_count": null,
      "id": "e69fe741",
      "metadata": {
        "id": "e69fe741",
        "outputId": "e80a2d72-cfe0-433a-9813-b08b65bcdfec"
      },
      "outputs": [
        {
          "data": {
            "text/plain": [
              "'Michael Jackson'"
            ]
          },
          "execution_count": 62,
          "metadata": {},
          "output_type": "execute_result"
        }
      ],
      "source": [
        "\"Michael Jackson\""
      ]
    },
    {
      "cell_type": "code",
      "execution_count": null,
      "id": "222182ee",
      "metadata": {
        "id": "222182ee",
        "outputId": "e883094b-8bc8-4f64-d5ce-4a044f51200a"
      },
      "outputs": [
        {
          "data": {
            "text/plain": [
              "'Michael Jackson'"
            ]
          },
          "execution_count": 65,
          "metadata": {},
          "output_type": "execute_result"
        }
      ],
      "source": [
        "'Michael Jackson'"
      ]
    },
    {
      "cell_type": "code",
      "execution_count": null,
      "id": "a3312055",
      "metadata": {
        "id": "a3312055",
        "outputId": "a267ee55-72a3-494e-b78c-5c9d1c069608"
      },
      "outputs": [
        {
          "data": {
            "text/plain": [
              "'1 2 3 4 5 6 '"
            ]
          },
          "execution_count": 66,
          "metadata": {},
          "output_type": "execute_result"
        }
      ],
      "source": [
        "'1 2 3 4 5 6 '"
      ]
    },
    {
      "cell_type": "code",
      "execution_count": null,
      "id": "47fb5114",
      "metadata": {
        "id": "47fb5114",
        "outputId": "04569a68-664d-4db8-e6bc-70904dba0fae"
      },
      "outputs": [
        {
          "data": {
            "text/plain": [
              "'@#2_#]&*^%$'"
            ]
          },
          "execution_count": 67,
          "metadata": {},
          "output_type": "execute_result"
        }
      ],
      "source": [
        "'@#2_#]&*^%$'"
      ]
    },
    {
      "cell_type": "code",
      "execution_count": null,
      "id": "6936f75b",
      "metadata": {
        "id": "6936f75b",
        "outputId": "588af63a-1a56-479a-ab55-1cbd2afb8389"
      },
      "outputs": [
        {
          "name": "stdout",
          "output_type": "stream",
          "text": [
            "hola!\n"
          ]
        }
      ],
      "source": [
        "print(\"hola!\")"
      ]
    },
    {
      "cell_type": "code",
      "execution_count": null,
      "id": "45131c58",
      "metadata": {
        "id": "45131c58",
        "outputId": "c573bbfc-6273-4d0c-89b8-714ecd98fcc2"
      },
      "outputs": [
        {
          "data": {
            "text/plain": [
              "'Michael Jackson'"
            ]
          },
          "execution_count": 69,
          "metadata": {},
          "output_type": "execute_result"
        }
      ],
      "source": [
        "name = \"Michael Jackson\"\n",
        "name"
      ]
    },
    {
      "cell_type": "code",
      "execution_count": null,
      "id": "a9f5ee31",
      "metadata": {
        "id": "a9f5ee31",
        "outputId": "70883885-110f-4c19-d4d8-e85e0a010f01"
      },
      "outputs": [
        {
          "name": "stdout",
          "output_type": "stream",
          "text": [
            "M\n"
          ]
        }
      ],
      "source": [
        "print(name[0])"
      ]
    },
    {
      "cell_type": "code",
      "execution_count": null,
      "id": "122c0711",
      "metadata": {
        "id": "122c0711",
        "outputId": "d1d16677-65f4-4d5b-c31b-92341510629f"
      },
      "outputs": [
        {
          "name": "stdout",
          "output_type": "stream",
          "text": [
            "l\n"
          ]
        }
      ],
      "source": [
        "print(name[6])"
      ]
    },
    {
      "cell_type": "code",
      "execution_count": null,
      "id": "36e8f376",
      "metadata": {
        "id": "36e8f376",
        "outputId": "d5a9cbc4-5613-4b7a-d8b2-3f746a379e45"
      },
      "outputs": [
        {
          "name": "stdout",
          "output_type": "stream",
          "text": [
            "o\n"
          ]
        }
      ],
      "source": [
        "print(name[13])"
      ]
    },
    {
      "cell_type": "code",
      "execution_count": null,
      "id": "3d432320",
      "metadata": {
        "id": "3d432320",
        "outputId": "e2c6e945-31aa-4226-f576-e5053890a795"
      },
      "outputs": [
        {
          "name": "stdout",
          "output_type": "stream",
          "text": [
            "n\n"
          ]
        }
      ],
      "source": [
        "print(name[-1])"
      ]
    },
    {
      "cell_type": "code",
      "execution_count": null,
      "id": "8b4ab307",
      "metadata": {
        "id": "8b4ab307",
        "outputId": "aae1b7d9-1ea7-4e42-d2bc-7b4e3e556002"
      },
      "outputs": [
        {
          "name": "stdout",
          "output_type": "stream",
          "text": [
            "M\n"
          ]
        }
      ],
      "source": [
        "print(name[-15])"
      ]
    },
    {
      "cell_type": "code",
      "execution_count": null,
      "id": "b260fe28",
      "metadata": {
        "id": "b260fe28",
        "outputId": "c6e71055-d525-4ac3-9e7c-af24da892692"
      },
      "outputs": [
        {
          "data": {
            "text/plain": [
              "15"
            ]
          },
          "execution_count": 75,
          "metadata": {},
          "output_type": "execute_result"
        }
      ],
      "source": [
        "len(\"Michael Jackson\")"
      ]
    },
    {
      "cell_type": "code",
      "execution_count": null,
      "id": "117fddbd",
      "metadata": {
        "id": "117fddbd",
        "outputId": "b99996a0-fbd6-4d9e-c3b8-8c6b19840d1f"
      },
      "outputs": [
        {
          "data": {
            "text/plain": [
              "'Mich'"
            ]
          },
          "execution_count": 76,
          "metadata": {},
          "output_type": "execute_result"
        }
      ],
      "source": [
        "name[0:4]"
      ]
    },
    {
      "cell_type": "code",
      "execution_count": null,
      "id": "17b3711c",
      "metadata": {
        "id": "17b3711c",
        "outputId": "e45f3f80-5742-41e0-8598-4af6a4565149"
      },
      "outputs": [
        {
          "data": {
            "text/plain": [
              "'Jack'"
            ]
          },
          "execution_count": 77,
          "metadata": {},
          "output_type": "execute_result"
        }
      ],
      "source": [
        "name[8:12]"
      ]
    },
    {
      "cell_type": "code",
      "execution_count": null,
      "id": "b6209b0e",
      "metadata": {
        "id": "b6209b0e",
        "outputId": "e3b822db-9d74-4442-90ab-e6ed7b768469"
      },
      "outputs": [
        {
          "data": {
            "text/plain": [
              "'McalJcsn'"
            ]
          },
          "execution_count": 78,
          "metadata": {},
          "output_type": "execute_result"
        }
      ],
      "source": [
        "name[::2]"
      ]
    },
    {
      "cell_type": "code",
      "execution_count": null,
      "id": "209bb35b",
      "metadata": {
        "id": "209bb35b",
        "outputId": "b9c6ae34-21d3-4079-caf9-35eafa7a56b0"
      },
      "outputs": [
        {
          "data": {
            "text/plain": [
              "'Mca'"
            ]
          },
          "execution_count": 79,
          "metadata": {},
          "output_type": "execute_result"
        }
      ],
      "source": [
        "name[0:5:2]"
      ]
    },
    {
      "cell_type": "code",
      "execution_count": null,
      "id": "848841e5",
      "metadata": {
        "id": "848841e5",
        "outputId": "ea85c700-4a95-44fb-f233-b2e08010fa1a"
      },
      "outputs": [
        {
          "data": {
            "text/plain": [
              "'Michael Jacksonis the best'"
            ]
          },
          "execution_count": 81,
          "metadata": {},
          "output_type": "execute_result"
        }
      ],
      "source": [
        "statement = name + \"is the best\"\n",
        "statement"
      ]
    },
    {
      "cell_type": "code",
      "execution_count": null,
      "id": "fa1c4a05",
      "metadata": {
        "id": "fa1c4a05",
        "outputId": "e63e778d-2770-4fc7-e9a4-83f006590fac"
      },
      "outputs": [
        {
          "data": {
            "text/plain": [
              "'Michael JacksonMichael JacksonMichael Jackson'"
            ]
          },
          "execution_count": 82,
          "metadata": {},
          "output_type": "execute_result"
        }
      ],
      "source": [
        "3 * \"Michael Jackson\""
      ]
    },
    {
      "cell_type": "code",
      "execution_count": null,
      "id": "cc84589a",
      "metadata": {
        "id": "cc84589a",
        "outputId": "2eebf4c7-3bd5-4ce2-cf48-49597562581f"
      },
      "outputs": [
        {
          "data": {
            "text/plain": [
              "'Michael Jackson is the best'"
            ]
          },
          "execution_count": 83,
          "metadata": {},
          "output_type": "execute_result"
        }
      ],
      "source": [
        "name = \"Michael Jackson\"\n",
        "name = name + \" is the best\"\n",
        "name"
      ]
    },
    {
      "cell_type": "code",
      "execution_count": null,
      "id": "d1fc39b9",
      "metadata": {
        "id": "d1fc39b9",
        "outputId": "267a781c-180e-4ed5-f117-fc53b6fbd67c"
      },
      "outputs": [
        {
          "name": "stdout",
          "output_type": "stream",
          "text": [
            " Michael Jackson \n",
            " is the best\n"
          ]
        }
      ],
      "source": [
        "print(\" Michael Jackson \\n is the best\" )"
      ]
    },
    {
      "cell_type": "code",
      "execution_count": null,
      "id": "8150614f",
      "metadata": {
        "id": "8150614f",
        "outputId": "babb6b6c-d48f-4998-d1af-c26c9e1d4dcc"
      },
      "outputs": [
        {
          "name": "stdout",
          "output_type": "stream",
          "text": [
            " Michael Jackson \t is the best\n"
          ]
        }
      ],
      "source": [
        "print(\" Michael Jackson \\t is the best\" )"
      ]
    },
    {
      "cell_type": "code",
      "execution_count": null,
      "id": "c319fdfa",
      "metadata": {
        "id": "c319fdfa",
        "outputId": "6a75ffb4-5710-4691-dcc1-6013afb33fd7"
      },
      "outputs": [
        {
          "name": "stdout",
          "output_type": "stream",
          "text": [
            " Michael Jackson \\ is the best\n"
          ]
        }
      ],
      "source": [
        "print(\" Michael Jackson \\\\ is the best\" )"
      ]
    },
    {
      "cell_type": "code",
      "execution_count": null,
      "id": "8506d939",
      "metadata": {
        "id": "8506d939",
        "outputId": "0aad128f-9e6a-4b67-a8c6-e0597c55e120"
      },
      "outputs": [
        {
          "name": "stdout",
          "output_type": "stream",
          "text": [
            " Michael Jackson \\ is the best\n"
          ]
        }
      ],
      "source": [
        "print(r\" Michael Jackson \\ is the best\" )"
      ]
    },
    {
      "cell_type": "code",
      "execution_count": null,
      "id": "b937a0de",
      "metadata": {
        "id": "b937a0de",
        "outputId": "1a446664-6a44-406b-9a74-dca81af88fc9"
      },
      "outputs": [
        {
          "name": "stdout",
          "output_type": "stream",
          "text": [
            "before upper: Thriller is the sixth studio album\n",
            "After upper: THRILLER IS THE SIXTH STUDIO ALBUM\n"
          ]
        }
      ],
      "source": [
        "a = \"Thriller is the sixth studio album\"\n",
        "print(\"before upper:\", a)\n",
        "b = a.upper()\n",
        "print(\"After upper:\", b)"
      ]
    },
    {
      "cell_type": "code",
      "execution_count": null,
      "id": "bc9cc6b4",
      "metadata": {
        "id": "bc9cc6b4",
        "outputId": "1b7a9436-16d4-4a7e-d008-fbb63e17989e"
      },
      "outputs": [
        {
          "data": {
            "text/plain": [
              "'Janet Jackson is the best'"
            ]
          },
          "execution_count": 90,
          "metadata": {},
          "output_type": "execute_result"
        }
      ],
      "source": [
        "a = \"Michael Jackson is the best\"\n",
        "b = a.replace('Michael', 'Janet')\n",
        "b"
      ]
    },
    {
      "cell_type": "code",
      "execution_count": null,
      "id": "31cd582e",
      "metadata": {
        "id": "31cd582e",
        "outputId": "8921e983-5226-4845-8b28-305154fab19a"
      },
      "outputs": [
        {
          "data": {
            "text/plain": [
              "5"
            ]
          },
          "execution_count": 91,
          "metadata": {},
          "output_type": "execute_result"
        }
      ],
      "source": [
        "name = \"Michael Jackson\"\n",
        "name.find('el')"
      ]
    },
    {
      "cell_type": "code",
      "execution_count": null,
      "id": "33eaaeee",
      "metadata": {
        "id": "33eaaeee",
        "outputId": "cacc7bc9-a7e4-4fc3-cc3f-40eadca7a04d"
      },
      "outputs": [
        {
          "data": {
            "text/plain": [
              "8"
            ]
          },
          "execution_count": 92,
          "metadata": {},
          "output_type": "execute_result"
        }
      ],
      "source": [
        "name.find('Jack')"
      ]
    },
    {
      "cell_type": "code",
      "execution_count": null,
      "id": "5b6f57e2",
      "metadata": {
        "id": "5b6f57e2",
        "outputId": "ffc3e248-a8ed-40d5-989d-e2c852a1fd11"
      },
      "outputs": [
        {
          "data": {
            "text/plain": [
              "-1"
            ]
          },
          "execution_count": 93,
          "metadata": {},
          "output_type": "execute_result"
        }
      ],
      "source": [
        "name.find('Jasdfasdasdf')"
      ]
    },
    {
      "cell_type": "code",
      "execution_count": null,
      "id": "948081f1",
      "metadata": {
        "id": "948081f1",
        "outputId": "9dee1236-b279-4ced-d57c-c7504f60e8c7"
      },
      "outputs": [
        {
          "name": "stdout",
          "output_type": "stream",
          "text": [
            "1\n"
          ]
        }
      ],
      "source": [
        "a = \"1\"\n",
        "print(a)"
      ]
    },
    {
      "cell_type": "code",
      "execution_count": null,
      "id": "4a3cc799",
      "metadata": {
        "id": "4a3cc799",
        "outputId": "996dbe99-612b-4a3a-db64-a079eb535e9c"
      },
      "outputs": [
        {
          "name": "stdout",
          "output_type": "stream",
          "text": [
            "2\n"
          ]
        }
      ],
      "source": [
        "b = \"2\"\n",
        "print(b)"
      ]
    },
    {
      "cell_type": "code",
      "execution_count": null,
      "id": "13ff92ef",
      "metadata": {
        "id": "13ff92ef",
        "outputId": "bf9ed670-c82e-45e0-ca57-7429aa058365"
      },
      "outputs": [
        {
          "name": "stdout",
          "output_type": "stream",
          "text": [
            "12\n"
          ]
        }
      ],
      "source": [
        "c = a + b\n",
        "print(c)"
      ]
    },
    {
      "cell_type": "code",
      "execution_count": null,
      "id": "3c04e3af",
      "metadata": {
        "id": "3c04e3af",
        "outputId": "b7558e25-c5b2-4df6-d69a-9528984bf30b"
      },
      "outputs": [
        {
          "name": "stdout",
          "output_type": "stream",
          "text": [
            "ABC\n"
          ]
        }
      ],
      "source": [
        "d = \"ABCDEFG\"\n",
        "print(d[:3])"
      ]
    },
    {
      "cell_type": "code",
      "execution_count": null,
      "id": "eb5d24f9",
      "metadata": {
        "id": "eb5d24f9",
        "outputId": "fe15b493-c8a7-4a3c-e42d-190b5b7920c5"
      },
      "outputs": [
        {
          "name": "stdout",
          "output_type": "stream",
          "text": [
            "correct\n"
          ]
        }
      ],
      "source": [
        "e = 'clocrkr1e1c1t'\n",
        "print(e[::2])"
      ]
    },
    {
      "cell_type": "code",
      "execution_count": null,
      "id": "71a0ea76",
      "metadata": {
        "id": "71a0ea76",
        "outputId": "25e4bf85-6cd7-482e-ef79-7f3d0332540c"
      },
      "outputs": [
        {
          "name": "stdout",
          "output_type": "stream",
          "text": [
            "\\ \n"
          ]
        }
      ],
      "source": [
        "print(r\"\\ \")"
      ]
    },
    {
      "cell_type": "code",
      "execution_count": null,
      "id": "7c54eb4d",
      "metadata": {
        "id": "7c54eb4d",
        "outputId": "31d816d5-2ea1-452e-e1ac-f723a21dafa4"
      },
      "outputs": [
        {
          "name": "stdout",
          "output_type": "stream",
          "text": [
            "YOU ARE WRONG\n"
          ]
        }
      ],
      "source": [
        "f = \"You are wrong\"\n",
        "print(f.upper())"
      ]
    },
    {
      "cell_type": "code",
      "execution_count": null,
      "id": "7e8364a8",
      "metadata": {
        "id": "7e8364a8",
        "outputId": "d0d45f01-3d77-4c4c-ed88-fdbce194e831"
      },
      "outputs": [
        {
          "data": {
            "text/plain": [
              "95"
            ]
          },
          "execution_count": 101,
          "metadata": {},
          "output_type": "execute_result"
        }
      ],
      "source": [
        "g = \"Mary had a little lamb Little lamb, little lamb Mary had a little lamb \\\n",
        "Its fleece was white as snow And everywhere that Mary went Mary went, Mary went \\\n",
        "Everywhere that Mary went The lamb was sure to go\"\n",
        "g.find(\"snow\")"
      ]
    },
    {
      "cell_type": "code",
      "execution_count": null,
      "id": "883ba370",
      "metadata": {
        "id": "883ba370",
        "outputId": "e98823d3-91e7-45bb-eb96-b7570d7260d5"
      },
      "outputs": [
        {
          "data": {
            "text/plain": [
              "'Bob had a little lamb Little lamb, little lamb Bob had a little lamb Its fleece was white as snow And everywhere that Bob went Bob went, Bob went Everywhere that Bob went The lamb was sure to go'"
            ]
          },
          "execution_count": 102,
          "metadata": {},
          "output_type": "execute_result"
        }
      ],
      "source": [
        "g.replace('Mary','Bob')"
      ]
    },
    {
      "cell_type": "code",
      "execution_count": null,
      "id": "c4b58011",
      "metadata": {
        "id": "c4b58011"
      },
      "outputs": [],
      "source": []
    }
  ],
  "metadata": {
    "kernelspec": {
      "display_name": "Python 3 (ipykernel)",
      "language": "python",
      "name": "python3"
    },
    "language_info": {
      "codemirror_mode": {
        "name": "ipython",
        "version": 3
      },
      "file_extension": ".py",
      "mimetype": "text/x-python",
      "name": "python",
      "nbconvert_exporter": "python",
      "pygments_lexer": "ipython3",
      "version": "3.9.12"
    },
    "colab": {
      "provenance": [],
      "include_colab_link": true
    }
  },
  "nbformat": 4,
  "nbformat_minor": 5
}
