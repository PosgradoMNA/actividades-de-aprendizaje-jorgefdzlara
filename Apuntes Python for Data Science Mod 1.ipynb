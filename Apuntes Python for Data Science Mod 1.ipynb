{
 "cells": [
  {
   "cell_type": "markdown",
   "id": "34083c8f",
   "metadata": {},
   "source": [
    "Python es un lenguaje de programación poderoso y fácil de aprender y tiener múltiples librerías para trabajar con datos.\n",
    "Frecuentemente es el primer lenguaje de programación que se aprende, sin embargo, es el lenguaje que se utiliza posteriormente de forma profesional.\n",
    "Python es esencial para cualquier CV y una habilidad para cualquiera que trabaje con datos.\n",
    "Python es el lenguaje de alto nivel más popular.\n",
    "Las listas y tuplas son llamadas tipos de datos compuestos y son uno de los tipos de estructura de datos claves en Python.\n",
    "Los sets y diccionarios son tipos de colecciones."
   ]
  },
  {
   "cell_type": "markdown",
   "id": "97cd4a3a",
   "metadata": {},
   "source": [
    "# Labs"
   ]
  },
  {
   "cell_type": "markdown",
   "id": "e4c88b82",
   "metadata": {},
   "source": [
    "cognitiveclass.ai logo\n",
    "Hello World\n",
    "Let's say hello to the world with a PRINT statement.\n",
    "\n",
    "print(\"Hello World\")\n",
    "Hello World\n",
    "Click here for the solution\n",
    "print(\"Hello World\")\n",
    "Say \"Hello World\" on Two Lines\n",
    "Let's print \"Hello\" and \"World\" on two separate lines. Hint: \\n in the middle of the string acts as a new line character.\n",
    "\n",
    "print(\"Hello\\nWorld\")\n",
    "Hello\n",
    "World\n",
    "Click here for the solution\n",
    "Comments Are Key to Good Coding\n",
    "In Python, comments are created by putting a hash mark # in front of the text of the comment.\n",
    "\n",
    "# this is a comment\n",
    "Click here for the solution\n",
    "# this is a comment\n",
    "© IBM Corporation 2020. All rights reserved. "
   ]
  },
  {
   "cell_type": "code",
   "execution_count": 1,
   "id": "ce4073b0",
   "metadata": {},
   "outputs": [
    {
     "name": "stdout",
     "output_type": "stream",
     "text": [
      "Hola mundo\n"
     ]
    }
   ],
   "source": [
    "print('Hola mundo')"
   ]
  },
  {
   "cell_type": "code",
   "execution_count": 3,
   "id": "db43ac06",
   "metadata": {},
   "outputs": [
    {
     "name": "stdout",
     "output_type": "stream",
     "text": [
      "Hola\n",
      "Mundo\n"
     ]
    }
   ],
   "source": [
    "print('Hola\\nMundo')"
   ]
  },
  {
   "cell_type": "code",
   "execution_count": 4,
   "id": "467bce19",
   "metadata": {},
   "outputs": [],
   "source": [
    "#este es un comentario"
   ]
  },
  {
   "cell_type": "markdown",
   "id": "6a10b5c0",
   "metadata": {},
   "source": [
    "# Tipos de datos\n",
    "Un tipo de dato es como representa Python a los datos. Estos pueden ser enteros (int), o reales (float).\n",
    "Los datos tipo int pueden ser positivos o negativos, pero siempre enteros. Los datos tipo float pueden ser positivos o negativos y con números decimales.\n",
    "Si utilizamos la función \"type()\" podemos saber el tipo de dato que tenemos.\n",
    "Otro tipo de dato es cadena de caracteres(str). \n",
    "Es posible cambiar el tipo de variable utilizando Type casting, pero hay que ser cuidadosos, si cambias el tipo de dato de float a int, pudieras perder información.\n",
    "Otro tipo de dato importante en Python son los booleanos, que pueden tomar valores verdaderos \"True\" o falsos \"False\", estos valores pueden ser convertidos a tipo entero y obtendremos los valores \"1\" y \"0\" respectivamente."
   ]
  },
  {
   "cell_type": "markdown",
   "id": "21e0411b",
   "metadata": {},
   "source": [
    "# Labs\n",
    "Hello World\n",
    "Find the type of the following using the type command:\n",
    "\n",
    "\"Hello World\"\n",
    "​\n",
    "'Hello World'\n",
    "Click here for the solution\n",
    "type(\"Hello World\")\n",
    "Type Casting\n",
    "Find the type of the following using the type command:\n",
    "\n",
    "\"1.1\"\n",
    "​\n",
    "'1.1'\n",
    "Click here for the solution\n",
    "type(\"1.1\")\n",
    "Is a Number Always a Number? \n",
    "Cast the following to an int and then to a bool:\n",
    "\n",
    "\"1\"\n",
    "​\n",
    "'1'\n",
    "Click here for the solution\n",
    "print(int(\"1\"))\n",
    "print(bool(\"1\"))\n",
    "    \n",
    "OR\n",
    "    \n",
    "print(bool(int(\"1\")))\n",
    "    \n",
    "© IBM Corporation 2020. All rights reserved. "
   ]
  },
  {
   "cell_type": "code",
   "execution_count": 5,
   "id": "a8e05512",
   "metadata": {},
   "outputs": [
    {
     "data": {
      "text/plain": [
       "str"
      ]
     },
     "execution_count": 5,
     "metadata": {},
     "output_type": "execute_result"
    }
   ],
   "source": [
    "type(\"Hola Mundo\")"
   ]
  },
  {
   "cell_type": "code",
   "execution_count": 6,
   "id": "f15c6170",
   "metadata": {},
   "outputs": [
    {
     "data": {
      "text/plain": [
       "str"
      ]
     },
     "execution_count": 6,
     "metadata": {},
     "output_type": "execute_result"
    }
   ],
   "source": [
    "type(\"1.1\")\n",
    "#al estar entrecomillado Python lo maneja como cadena de caracteres (str)"
   ]
  },
  {
   "cell_type": "code",
   "execution_count": 11,
   "id": "4933583a",
   "metadata": {},
   "outputs": [
    {
     "name": "stdout",
     "output_type": "stream",
     "text": [
      "True\n"
     ]
    },
    {
     "data": {
      "text/plain": [
       "bool"
      ]
     },
     "execution_count": 11,
     "metadata": {},
     "output_type": "execute_result"
    }
   ],
   "source": [
    "print(bool(int(\"1\")))\n",
    "type(bool(int(\"1\")))"
   ]
  },
  {
   "cell_type": "markdown",
   "id": "efdedacb",
   "metadata": {},
   "source": [
    "# Expresiones y Variables\n",
    "Las expresiones describen un tipo de operación que las computadoras realizan.\n",
    "Las expresiones soin operaciones que Python realiza, por ejemplo las operaciones artméticas básicas.\n",
    "A los números se les llama operandos y a los símbolos matemáticos operadores.\n",
    "En adición a los operadores clásicos, podemos utilizas \"//\" para la operación integrer, la cuál realizará la división y redondeará el resultado. Es importante notar que no siempre será el mismo resultado de la división.\n",
    "# Variables\n",
    "   Se utilizan para almacenar valores, y se les asigna un valor con el signo de \"=\".\n",
    "   Pueden cambiar múltiples veces de valores y pueden tener el valor de una expresión.\n",
    "# Cadenas\n",
    "Una cadena de caracteres (string) puede ser representada con doble comilla o sencilla \"\" o ''.dentro de estas, se puede tener letras, símbolos y espacios. \n",
    "Los datos se ordenan e indexan de izquierda a derecha, comenzando con el valor \"0\". Sim embaergo, pueden indexarse de derecha a izquierda comenzando con el valor \"-1\".\n",
    "De la misma forma, las cadenas pueden ser utilizadas como tuplas y así utilizar sólo los valores de ciertas posiciones indexadas.\n",
    "FUNCIONES CON CADENAS\n",
    "La función len() nos indica el tamaño de la cadena.\n",
    "Si se requiere concatenar dos cadenas, se utiliza el operador \"+\".\n",
    "Si se requiere repetir vartias veces una cadena, se utiliza el operador * por el número de repeticiones.\n",
    "\"\\\" se utiliza para secuencias de escape, por ejemplo:\n",
    "    \"\\n\" nueva línea\n",
    "    \"\\t\" Tabulación\n",
    "    \"\\\\\" Diagonal invertida\n",
    "MÉTODOS\n",
    "existen métodos que también resultan útiles con el uso de cadenas. \n",
    "Por ejemplo, para cambiar a mayúsculas los caracteres de una variable tripo str:\n",
    "nombredelavariable.upper()\n",
    "O también se pueden intercambiar los valores dentro de la cadena con el método \"replace\".\n",
    "nombredelavariable.replace('Valores a reemplazar','Valores de reemplazo')\n",
    "También podemos buscar valores dentro la cadena, es decir, subcadenas\n",
    "nombredelavariable.find('caracteres buscados') \n",
    "Y se obtendrá el valor del primer índice de la secuencia, en caso de no encontrar el valor, el resultado será \"-1\"."
   ]
  },
  {
   "cell_type": "markdown",
   "id": "67512e63",
   "metadata": {},
   "source": [
    "Slicing \n",
    "Use slicing to find the first four elements of the following string:\n",
    "\n",
    "Letters=\"ABCDEFGHIJK\"\n",
    "Letters[0:4]\n",
    "'ABCD'\n",
    "Click here for the solution\n",
    "Letters[0:4]\n",
    "Strides Are Good \n",
    "Use a stride value of 2 on the following string :\n",
    "\n",
    "Good=\"GsoAo+d\"\n",
    "Good[::2]\n",
    "'Good'\n",
    "Click here for the solution\n",
    "Good[::2]\n",
    "Converting \"uppercase\" to \"UPPERCASE\" \n",
    "Convert the following string to uppercase using the method upper():\n",
    "\n",
    "\"uppercase\"\n",
    "\"uppercase\".upper()\n",
    "'UPPERCASE'\n",
    "Click here for the solution\n",
    "\"uppercase\".upper()\n",
    "© IBM Corporation 2020. All rights reserved."
   ]
  },
  {
   "cell_type": "code",
   "execution_count": 12,
   "id": "c3a46649",
   "metadata": {},
   "outputs": [
    {
     "data": {
      "text/plain": [
       "'ABCD'"
      ]
     },
     "execution_count": 12,
     "metadata": {},
     "output_type": "execute_result"
    }
   ],
   "source": [
    "Letras=\"ABCDEFGHIJK\"\n",
    "Letras[0:4]"
   ]
  },
  {
   "cell_type": "code",
   "execution_count": 13,
   "id": "42e6a898",
   "metadata": {},
   "outputs": [
    {
     "data": {
      "text/plain": [
       "'Good'"
      ]
     },
     "execution_count": 13,
     "metadata": {},
     "output_type": "execute_result"
    }
   ],
   "source": [
    "Good=\"GsoAo+d\"\n",
    "Good[::2]"
   ]
  },
  {
   "cell_type": "code",
   "execution_count": 14,
   "id": "04154999",
   "metadata": {},
   "outputs": [
    {
     "data": {
      "text/plain": [
       "'MAYUSCULAS'"
      ]
     },
     "execution_count": 14,
     "metadata": {},
     "output_type": "execute_result"
    }
   ],
   "source": [
    "\"mayusculas\"\n",
    "\"mayusculas\".upper()"
   ]
  },
  {
   "cell_type": "code",
   "execution_count": 16,
   "id": "43bf71dc",
   "metadata": {},
   "outputs": [
    {
     "data": {
      "text/plain": [
       "'0246'"
      ]
     },
     "execution_count": 16,
     "metadata": {},
     "output_type": "execute_result"
    }
   ],
   "source": [
    "Numbers = \"0123456\"\n",
    "Numbers[::2]"
   ]
  },
  {
   "cell_type": "code",
   "execution_count": 17,
   "id": "68a18a8a",
   "metadata": {},
   "outputs": [
    {
     "data": {
      "text/plain": [
       "1"
      ]
     },
     "execution_count": 17,
     "metadata": {},
     "output_type": "execute_result"
    }
   ],
   "source": [
    "\"0123456\".find('1')"
   ]
  },
  {
   "cell_type": "code",
   "execution_count": 18,
   "id": "56c98f64",
   "metadata": {},
   "outputs": [
    {
     "data": {
      "text/plain": [
       "7"
      ]
     },
     "execution_count": 18,
     "metadata": {},
     "output_type": "execute_result"
    }
   ],
   "source": [
    "3 + 2 * 2"
   ]
  },
  {
   "cell_type": "code",
   "execution_count": 19,
   "id": "d099959b",
   "metadata": {},
   "outputs": [
    {
     "name": "stdout",
     "output_type": "stream",
     "text": [
      "Li\n"
     ]
    }
   ],
   "source": [
    "name = 'Lizz'\n",
    "print(name[0:2])"
   ]
  },
  {
   "cell_type": "code",
   "execution_count": 20,
   "id": "5fb02308",
   "metadata": {},
   "outputs": [
    {
     "name": "stdout",
     "output_type": "stream",
     "text": [
      "0246\n"
     ]
    }
   ],
   "source": [
    "var = '01234567'\n",
    "print(var[::2])"
   ]
  },
  {
   "cell_type": "code",
   "execution_count": 21,
   "id": "59420185",
   "metadata": {},
   "outputs": [
    {
     "data": {
      "text/plain": [
       "'12'"
      ]
     },
     "execution_count": 21,
     "metadata": {},
     "output_type": "execute_result"
    }
   ],
   "source": [
    "'1'+'2'"
   ]
  },
  {
   "cell_type": "code",
   "execution_count": 22,
   "id": "d5e8b9b8",
   "metadata": {},
   "outputs": [
    {
     "data": {
      "text/plain": [
       "'HELLO'"
      ]
     },
     "execution_count": 22,
     "metadata": {},
     "output_type": "execute_result"
    }
   ],
   "source": [
    "myvar = 'hello'\n",
    "myvar.upper()"
   ]
  },
  {
   "cell_type": "code",
   "execution_count": null,
   "id": "f2105a4b",
   "metadata": {},
   "outputs": [],
   "source": []
  }
 ],
 "metadata": {
  "kernelspec": {
   "display_name": "Python 3 (ipykernel)",
   "language": "python",
   "name": "python3"
  },
  "language_info": {
   "codemirror_mode": {
    "name": "ipython",
    "version": 3
   },
   "file_extension": ".py",
   "mimetype": "text/x-python",
   "name": "python",
   "nbconvert_exporter": "python",
   "pygments_lexer": "ipython3",
   "version": "3.9.12"
  }
 },
 "nbformat": 4,
 "nbformat_minor": 5
}
