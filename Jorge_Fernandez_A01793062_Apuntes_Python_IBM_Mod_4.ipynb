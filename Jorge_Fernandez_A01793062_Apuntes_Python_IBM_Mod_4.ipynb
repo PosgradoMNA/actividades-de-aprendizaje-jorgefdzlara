{
  "cells": [
    {
      "cell_type": "markdown",
      "metadata": {
        "id": "view-in-github",
        "colab_type": "text"
      },
      "source": [
        "<a href=\"https://colab.research.google.com/github/PosgradoMNA/actividades-de-aprendizaje-jorgefdzlara/blob/main/Jorge_Fernandez_A01793062_Apuntes_Python_IBM_Mod_4.ipynb\" target=\"_parent\"><img src=\"https://colab.research.google.com/assets/colab-badge.svg\" alt=\"Open In Colab\"/></a>"
      ]
    },
    {
      "cell_type": "code",
      "execution_count": 1,
      "id": "78b97fb1",
      "metadata": {
        "id": "78b97fb1",
        "outputId": "e8c4e0e8-7fd8-469a-d446-6e9e53e8a623",
        "colab": {
          "base_uri": "https://localhost:8080/"
        }
      },
      "outputs": [
        {
          "output_type": "stream",
          "name": "stdout",
          "text": [
            "/resources/data/Example1.txt: No such file or directory\n"
          ]
        }
      ],
      "source": [
        "\n",
        "import urllib.request\n",
        "url = 'https://cf-courses-data.s3.us.cloud-object-storage.appdomain.cloud/IBMDeveloperSkillsNetwork-PY0101EN-SkillsNetwork/labs/Module%204/data/example1.txt'\n",
        "filename = 'Example1.txt'\n",
        "urllib.request.urlretrieve(url, filename)\n",
        "\n",
        "!wget -O /resources/data/Example1.txt https://cf-courses-data.s3.us.cloud-object-storage.appdomain.cloud/IBMDeveloperSkillsNetwork-PY0101EN-SkillsNetwork/labs/Module%204/data/example1.txt"
      ]
    },
    {
      "cell_type": "code",
      "execution_count": 2,
      "id": "6a4afff2",
      "metadata": {
        "id": "6a4afff2",
        "outputId": "7a665514-87ae-48c1-f61b-33fd30a5faaf",
        "colab": {
          "base_uri": "https://localhost:8080/",
          "height": 391
        }
      },
      "outputs": [
        {
          "output_type": "error",
          "ename": "ModuleNotFoundError",
          "evalue": "ignored",
          "traceback": [
            "\u001b[0;31m---------------------------------------------------------------------------\u001b[0m",
            "\u001b[0;31mModuleNotFoundError\u001b[0m                       Traceback (most recent call last)",
            "\u001b[0;32m<ipython-input-2-0d651653290f>\u001b[0m in \u001b[0;36masync-def-wrapper\u001b[0;34m()\u001b[0m\n\u001b[1;32m      2\u001b[0m \u001b[0;32mimport\u001b[0m \u001b[0mpandas\u001b[0m \u001b[0;32mas\u001b[0m \u001b[0mpd\u001b[0m\u001b[0;34m\u001b[0m\u001b[0;34m\u001b[0m\u001b[0m\n\u001b[1;32m      3\u001b[0m \u001b[0;34m\u001b[0m\u001b[0m\n\u001b[0;32m----> 4\u001b[0;31m \u001b[0mfilename\u001b[0m \u001b[0;34m=\u001b[0m \u001b[0;34m\"https://cf-courses-data.s3.us.cloud-object-storage.appdomain.cloud/IBMDeveloperSkillsNetwork-PY0101EN-SkillsNetwork/labs/Module%204/data/example1.txt\"\u001b[0m\u001b[0;34m\u001b[0m\u001b[0;34m\u001b[0m\u001b[0m\n\u001b[0m\u001b[1;32m      5\u001b[0m \u001b[0;34m\u001b[0m\u001b[0m\n\u001b[1;32m      6\u001b[0m \u001b[0;32masync\u001b[0m \u001b[0;32mdef\u001b[0m \u001b[0mdownload\u001b[0m\u001b[0;34m(\u001b[0m\u001b[0murl\u001b[0m\u001b[0;34m,\u001b[0m \u001b[0mfilename\u001b[0m\u001b[0;34m)\u001b[0m\u001b[0;34m:\u001b[0m\u001b[0;34m\u001b[0m\u001b[0;34m\u001b[0m\u001b[0m\n",
            "\u001b[0;31mModuleNotFoundError\u001b[0m: No module named 'pyodide'",
            "",
            "\u001b[0;31m---------------------------------------------------------------------------\u001b[0;32m\nNOTE: If your import is failing due to a missing package, you can\nmanually install dependencies using either !pip or !apt.\n\nTo view examples of installing some common dependencies, click the\n\"Open Examples\" button below.\n\u001b[0;31m---------------------------------------------------------------------------\u001b[0m\n"
          ],
          "errorDetails": {
            "actions": [
              {
                "action": "open_url",
                "actionText": "Open Examples",
                "url": "/notebooks/snippets/importing_libraries.ipynb"
              }
            ]
          }
        }
      ],
      "source": [
        "from pyodide.http import pyfetch\n",
        "import pandas as pd\n",
        "\n",
        "filename = \"https://cf-courses-data.s3.us.cloud-object-storage.appdomain.cloud/IBMDeveloperSkillsNetwork-PY0101EN-SkillsNetwork/labs/Module%204/data/example1.txt\"\n",
        "\n",
        "async def download(url, filename):\n",
        "    response = await pyfetch(url)\n",
        "    if response.status == 200:\n",
        "        with open(filename, \"wb\") as f:\n",
        "            f.write(await response.bytes())\n",
        "\n",
        "\n",
        "await download(filename, \"Example1.txt\")"
      ]
    },
    {
      "cell_type": "code",
      "execution_count": null,
      "id": "e9ae957b",
      "metadata": {
        "id": "e9ae957b"
      },
      "outputs": [],
      "source": [
        "example1 = \"Example1.txt\"\n",
        "file1 = open(example1, \"r\")"
      ]
    },
    {
      "cell_type": "code",
      "execution_count": null,
      "id": "b6ce5164",
      "metadata": {
        "id": "b6ce5164"
      },
      "outputs": [],
      "source": [
        "file1.name"
      ]
    },
    {
      "cell_type": "code",
      "execution_count": null,
      "id": "be0b4f70",
      "metadata": {
        "id": "be0b4f70"
      },
      "outputs": [],
      "source": [
        "file1.mode"
      ]
    },
    {
      "cell_type": "code",
      "execution_count": null,
      "id": "f2d08df3",
      "metadata": {
        "id": "f2d08df3"
      },
      "outputs": [],
      "source": [
        "FileContent = file1.read()\n",
        "FileContent"
      ]
    },
    {
      "cell_type": "code",
      "execution_count": null,
      "id": "cfaaf3a3",
      "metadata": {
        "id": "cfaaf3a3"
      },
      "outputs": [],
      "source": [
        "print(FileContent)"
      ]
    },
    {
      "cell_type": "code",
      "execution_count": null,
      "id": "ecc6094f",
      "metadata": {
        "id": "ecc6094f"
      },
      "outputs": [],
      "source": [
        "file1.close()"
      ]
    },
    {
      "cell_type": "code",
      "execution_count": null,
      "id": "115ac039",
      "metadata": {
        "id": "115ac039"
      },
      "outputs": [],
      "source": [
        "with open(example1, \"r\") as file1:\n",
        "    FileContent = file1.read()\n",
        "    print(FileContent)"
      ]
    },
    {
      "cell_type": "code",
      "execution_count": null,
      "id": "6b4e3584",
      "metadata": {
        "id": "6b4e3584"
      },
      "outputs": [],
      "source": [
        "file1.closed"
      ]
    },
    {
      "cell_type": "code",
      "execution_count": null,
      "id": "37d2dc0e",
      "metadata": {
        "id": "37d2dc0e"
      },
      "outputs": [],
      "source": [
        "print(FileContent)"
      ]
    },
    {
      "cell_type": "code",
      "execution_count": null,
      "id": "3189d5b6",
      "metadata": {
        "id": "3189d5b6"
      },
      "outputs": [],
      "source": [
        "with open(example1, \"r\") as file1:\n",
        "    print(file1.read(4))"
      ]
    },
    {
      "cell_type": "code",
      "execution_count": null,
      "id": "1e7e35ae",
      "metadata": {
        "id": "1e7e35ae"
      },
      "outputs": [],
      "source": [
        "with open(example1, \"r\") as file1:\n",
        "    print(file1.read(4))\n",
        "    print(file1.read(4))\n",
        "    print(file1.read(7))\n",
        "    print(file1.read(15))"
      ]
    },
    {
      "cell_type": "code",
      "execution_count": null,
      "id": "d1509727",
      "metadata": {
        "id": "d1509727"
      },
      "outputs": [],
      "source": [
        "with open(example1, \"r\") as file1:\n",
        "    print(file1.read(16))\n",
        "    print(file1.read(5))\n",
        "    print(file1.read(9))"
      ]
    },
    {
      "cell_type": "code",
      "execution_count": null,
      "id": "a647eb9b",
      "metadata": {
        "id": "a647eb9b"
      },
      "outputs": [],
      "source": [
        "with open(example1, \"r\") as file1:\n",
        "    print(\"first line: \" + file1.readline())"
      ]
    },
    {
      "cell_type": "code",
      "execution_count": null,
      "id": "880f1058",
      "metadata": {
        "id": "880f1058"
      },
      "outputs": [],
      "source": [
        "with open(example1, \"r\") as file1:\n",
        "    print(file1.readline(20)) \n",
        "    print(file1.read(20)) "
      ]
    },
    {
      "cell_type": "code",
      "execution_count": null,
      "id": "9c6ae97a",
      "metadata": {
        "id": "9c6ae97a"
      },
      "outputs": [],
      "source": [
        "with open(example1,\"r\") as file1:\n",
        "        i = 0;\n",
        "        for line in file1:\n",
        "            print(\"Iteration\", str(i), \": \", line)\n",
        "            i = i + 1"
      ]
    },
    {
      "cell_type": "code",
      "execution_count": null,
      "id": "427d5990",
      "metadata": {
        "id": "427d5990"
      },
      "outputs": [],
      "source": [
        "with open(example1, \"r\") as file1:\n",
        "    FileasList = file1.readlines()"
      ]
    },
    {
      "cell_type": "code",
      "execution_count": null,
      "id": "fc26572c",
      "metadata": {
        "id": "fc26572c"
      },
      "outputs": [],
      "source": [
        "FileasList[0]"
      ]
    },
    {
      "cell_type": "code",
      "execution_count": null,
      "id": "f0316f80",
      "metadata": {
        "id": "f0316f80"
      },
      "outputs": [],
      "source": [
        "FileasList[2]"
      ]
    },
    {
      "cell_type": "code",
      "execution_count": null,
      "id": "c9999e36",
      "metadata": {
        "id": "c9999e36"
      },
      "outputs": [],
      "source": [
        "exmp2 = 'Example2.txt'\n",
        "with open(exmp2, 'w') as writefile:\n",
        "    writefile.write(\"This is line A\")"
      ]
    },
    {
      "cell_type": "code",
      "execution_count": null,
      "id": "08be8d1f",
      "metadata": {
        "id": "08be8d1f"
      },
      "outputs": [],
      "source": [
        "with open(exmp2, 'r') as testwritefile:\n",
        "    print(testwritefile.read())"
      ]
    },
    {
      "cell_type": "code",
      "execution_count": null,
      "id": "1e10565f",
      "metadata": {
        "id": "1e10565f"
      },
      "outputs": [],
      "source": [
        "with open(exmp2, 'w') as writefile:\n",
        "    writefile.write(\"This is line A\\n\")\n",
        "    writefile.write(\"This is line B\\n\")"
      ]
    },
    {
      "cell_type": "code",
      "execution_count": null,
      "id": "bc9fb9dc",
      "metadata": {
        "id": "bc9fb9dc"
      },
      "outputs": [],
      "source": [
        "with open(exmp2, 'r') as testwritefile:\n",
        "    print(testwritefile.read())"
      ]
    },
    {
      "cell_type": "code",
      "execution_count": null,
      "id": "3dbc4f53",
      "metadata": {
        "id": "3dbc4f53"
      },
      "outputs": [],
      "source": [
        "Lines = [\"This is line A\\n\", \"This is line B\\n\", \"This is line C\\n\"]\n",
        "Lines"
      ]
    },
    {
      "cell_type": "code",
      "execution_count": null,
      "id": "12c5e420",
      "metadata": {
        "id": "12c5e420"
      },
      "outputs": [],
      "source": [
        "with open('Example2.txt', 'w') as writefile:\n",
        "    for line in Lines:\n",
        "        print(line)\n",
        "        writefile.write(line)"
      ]
    },
    {
      "cell_type": "code",
      "execution_count": null,
      "id": "f4b9ed0f",
      "metadata": {
        "id": "f4b9ed0f"
      },
      "outputs": [],
      "source": [
        "with open('Example2.txt', 'r') as testwritefile:\n",
        "    print(testwritefile.read())"
      ]
    },
    {
      "cell_type": "code",
      "execution_count": null,
      "id": "fd7f0594",
      "metadata": {
        "id": "fd7f0594"
      },
      "outputs": [],
      "source": [
        "with open('Example2.txt', 'w') as writefile:\n",
        "    writefile.write(\"Overwrite\\n\")\n",
        "with open('Example2.txt', 'r') as testwritefile:\n",
        "    print(testwritefile.read())"
      ]
    },
    {
      "cell_type": "code",
      "execution_count": null,
      "id": "17b8ac4a",
      "metadata": {
        "id": "17b8ac4a"
      },
      "outputs": [],
      "source": [
        "with open('Example2.txt', 'a') as testwritefile:\n",
        "    testwritefile.write(\"This is line C\\n\")\n",
        "    testwritefile.write(\"This is line D\\n\")\n",
        "    testwritefile.write(\"This is line E\\n\")"
      ]
    },
    {
      "cell_type": "code",
      "execution_count": null,
      "id": "ddf66dfd",
      "metadata": {
        "id": "ddf66dfd"
      },
      "outputs": [],
      "source": [
        "with open('Example2.txt', 'r') as testwritefile:\n",
        "    print(testwritefile.read())"
      ]
    },
    {
      "cell_type": "code",
      "execution_count": null,
      "id": "efee832d",
      "metadata": {
        "id": "efee832d"
      },
      "outputs": [],
      "source": [
        "with open('Example2.txt', 'a+') as testwritefile:\n",
        "    testwritefile.write(\"This is line E\\n\")\n",
        "    print(testwritefile.read())"
      ]
    },
    {
      "cell_type": "code",
      "execution_count": null,
      "id": "a3fd6937",
      "metadata": {
        "id": "a3fd6937"
      },
      "outputs": [],
      "source": [
        "with open('Example2.txt', 'a+') as testwritefile:\n",
        "    print(\"Ubicación inicial: {}\".format(testwritefile.tell()))\n",
        "    \n",
        "    data = testwritefile.read()\n",
        "    if (not data):  \n",
        "            print('No leer nada') \n",
        "    else: \n",
        "            print(testwritefile.read())\n",
        "            \n",
        "    testwritefile.seek(0,0) \n",
        "    \n",
        "    print(\"\\nNueva Ubicación : {}\".format(testwritefile.tell()))\n",
        "    data = testwritefile.read()\n",
        "    if (not data): \n",
        "            print('No leer nada') \n",
        "    else: \n",
        "            print(data)\n",
        "    \n",
        "    print(\"Ubicación después de leer: {}\".format(testwritefile.tell()) )"
      ]
    },
    {
      "cell_type": "code",
      "execution_count": null,
      "id": "b429d17b",
      "metadata": {
        "id": "b429d17b"
      },
      "outputs": [],
      "source": [
        "with open('Example2.txt', 'r+') as testwritefile:\n",
        "    data = testwritefile.readlines()\n",
        "    testwritefile.seek(0,0) #write at beginning of file\n",
        "   \n",
        "    testwritefile.write(\"Line 1\" + \"\\n\")\n",
        "    testwritefile.write(\"Line 2\" + \"\\n\")\n",
        "    testwritefile.write(\"Line 3\" + \"\\n\")\n",
        "    testwritefile.write(\"finished\\n\")\n",
        "    #Uncomment the line below\n",
        "    #testwritefile.truncate()\n",
        "    testwritefile.seek(0,0)\n",
        "    print(testwritefile.read())"
      ]
    },
    {
      "cell_type": "code",
      "execution_count": null,
      "id": "c031afe7",
      "metadata": {
        "id": "c031afe7"
      },
      "outputs": [],
      "source": [
        "with open('Example2.txt', 'r+') as testwritefile:\n",
        "    data = testwritefile.readlines()\n",
        "    testwritefile.seek(0,0) #write at beginning of file\n",
        "   \n",
        "    testwritefile.write(\"Line 1\" + \"\\n\")\n",
        "    testwritefile.write(\"Line 2\" + \"\\n\")\n",
        "    testwritefile.write(\"Line 3\" + \"\\n\")\n",
        "    testwritefile.write(\"finished\\n\")\n",
        "    #Uncomment the line below\n",
        "    testwritefile.truncate()\n",
        "    testwritefile.seek(0,0)\n",
        "    print(testwritefile.read())"
      ]
    },
    {
      "cell_type": "code",
      "execution_count": null,
      "id": "154688b6",
      "metadata": {
        "id": "154688b6"
      },
      "outputs": [],
      "source": [
        "with open('Example2.txt','r') as readfile:\n",
        "    with open('Example3.txt','w') as writefile:\n",
        "          for line in readfile:\n",
        "                writefile.write(line)"
      ]
    },
    {
      "cell_type": "code",
      "execution_count": null,
      "id": "85cd9483",
      "metadata": {
        "id": "85cd9483"
      },
      "outputs": [],
      "source": [
        "with open('Example3.txt','r') as testwritefile:\n",
        "    print(testwritefile.read())"
      ]
    },
    {
      "cell_type": "code",
      "execution_count": null,
      "id": "c4ab9e73",
      "metadata": {
        "id": "c4ab9e73"
      },
      "outputs": [],
      "source": [
        "#Run this prior to starting the exercise\n",
        "from random import randint as rnd\n",
        "\n",
        "memReg = 'members.txt'\n",
        "exReg = 'inactive.txt'\n",
        "fee =('yes','no')\n",
        "\n",
        "def genFiles(current,old):\n",
        "    with open(current,'w+') as writefile: \n",
        "        writefile.write('Membership No  Date Joined  Active  \\n')\n",
        "        data = \"{:^13}  {:<11}  {:<6}\\n\"\n",
        "\n",
        "        for rowno in range(20):\n",
        "            date = str(rnd(2015,2020))+ '-' + str(rnd(1,12))+'-'+str(rnd(1,25))\n",
        "            writefile.write(data.format(rnd(10000,99999),date,fee[rnd(0,1)]))\n",
        "\n",
        "\n",
        "    with open(old,'w+') as writefile: \n",
        "        writefile.write('Membership No  Date Joined  Active  \\n')\n",
        "        data = \"{:^13}  {:<11}  {:<6}\\n\"\n",
        "        for rowno in range(3):\n",
        "            date = str(rnd(2015,2020))+ '-' + str(rnd(1,12))+'-'+str(rnd(1,25))\n",
        "            writefile.write(data.format(rnd(10000,99999),date,fee[1]))\n",
        "\n",
        "\n",
        "genFiles(memReg,exReg)"
      ]
    },
    {
      "cell_type": "code",
      "execution_count": null,
      "id": "7420142d",
      "metadata": {
        "id": "7420142d"
      },
      "outputs": [],
      "source": [
        "from random import randint as rnd\n",
        "\n",
        "memReg = 'members.txt'\n",
        "exReg = 'inactive.txt'\n",
        "fee =('yes','no')\n",
        "\n",
        "def genFiles(current,old):\n",
        "    with open(current,'w+') as writefile: \n",
        "        writefile.write('Membership No  Date Joined  Active  \\n')\n",
        "        data = \"{:^13}  {:<11}  {:<6}\\n\"\n",
        "\n",
        "        for rowno in range(20):\n",
        "            date = str(rnd(2015,2020))+ '-' + str(rnd(1,12))+'-'+str(rnd(1,25))\n",
        "            writefile.write(data.format(rnd(10000,99999),date,fee[rnd(0,1)]))\n",
        "\n",
        "\n",
        "    with open(old,'w+') as writefile: \n",
        "        writefile.write('Membership No  Date Joined  Active  \\n')\n",
        "        data = \"{:^13}  {:<11}  {:<6}\\n\"\n",
        "        for rowno in range(3):\n",
        "            date = str(rnd(2015,2020))+ '-' + str(rnd(1,12))+'-'+str(rnd(1,25))\n",
        "            writefile.write(data.format(rnd(10000,99999),date,fee[1]))\n",
        "\n",
        "\n",
        "genFiles(memReg,exReg)"
      ]
    },
    {
      "cell_type": "code",
      "execution_count": null,
      "id": "5f8ef115",
      "metadata": {
        "id": "5f8ef115"
      },
      "outputs": [],
      "source": [
        "def cleanFiles(currentMem,exMem):\n",
        "    with open(currentMem,'r+') as writeFile: \n",
        "        with open(exMem,'a+') as appendFile:\n",
        "            #get the data\n",
        "            writeFile.seek(0)\n",
        "            members = writeFile.readlines()\n",
        "            #remove header\n",
        "            header = members[0]\n",
        "            members.pop(0)\n",
        "                \n",
        "            inactive = [member for member in members if ('no' in member)]\n",
        "            '''\n",
        "            The above is the same as \n",
        "\n",
        "            for member in members:\n",
        "            if 'no' in member:\n",
        "                inactive.append(member)\n",
        "            '''\n",
        "            #go to the beginning of the write file\n",
        "            writeFile.seek(0) \n",
        "            writeFile.write(header)\n",
        "            for member in members:\n",
        "                if (member in inactive):\n",
        "                    appendFile.write(member)\n",
        "                else:\n",
        "                    writeFile.write(member)      \n",
        "            writeFile.truncate()\n",
        "                \n",
        "memReg = 'members.txt'\n",
        "exReg = 'inactive.txt'\n",
        "cleanFiles(memReg,exReg)\n",
        "\n",
        "# code to help you see the files\n",
        "\n",
        "headers = \"Membership No  Date Joined  Active  \\n\"\n",
        "\n",
        "with open(memReg,'r') as readFile:\n",
        "    print(\"Active Members: \\n\\n\")\n",
        "    print(readFile.read())\n",
        "    \n",
        "with open(exReg,'r') as readFile:\n",
        "    print(\"Inactive Members: \\n\\n\")\n",
        "    print(readFile.read())"
      ]
    },
    {
      "cell_type": "code",
      "execution_count": null,
      "id": "3c7efeb1",
      "metadata": {
        "id": "3c7efeb1"
      },
      "outputs": [],
      "source": [
        "pip install pandas"
      ]
    },
    {
      "cell_type": "code",
      "execution_count": null,
      "id": "66a2b67f",
      "metadata": {
        "id": "66a2b67f"
      },
      "outputs": [],
      "source": [
        "!pip install xlrd"
      ]
    },
    {
      "cell_type": "code",
      "execution_count": null,
      "id": "6fd93e15",
      "metadata": {
        "id": "6fd93e15"
      },
      "outputs": [],
      "source": [
        "import pandas as pd"
      ]
    },
    {
      "cell_type": "code",
      "execution_count": null,
      "id": "2244a620",
      "metadata": {
        "id": "2244a620"
      },
      "outputs": [],
      "source": [
        "!pip install pyxll\n",
        "#pyxll install"
      ]
    },
    {
      "cell_type": "code",
      "execution_count": null,
      "id": "5d9967e1",
      "metadata": {
        "id": "5d9967e1"
      },
      "outputs": [],
      "source": [
        "!pip install pyxll-jupyter"
      ]
    },
    {
      "cell_type": "code",
      "execution_count": null,
      "id": "9bc48028",
      "metadata": {
        "id": "9bc48028"
      },
      "outputs": [],
      "source": [
        "csv_path = 'https://cf-courses-data.s3.us.cloud-object-storage.appdomain.cloud/IBMDeveloperSkillsNetwork-PY0101EN-SkillsNetwork/labs/Module%204/data/TopSellingAlbums.csv'\n",
        "df = pd.read_csv(csv_path)\n",
        "\n",
        "from pyodide.http import pyfetch\n",
        "import pandas as pd\n",
        "\n",
        "filename = \"https://cf-courses-data.s3.us.cloud-object-storage.appdomain.cloud/IBMDeveloperSkillsNetwork-PY0101EN-SkillsNetwork/labs/Module%204/data/TopSellingAlbums.csv\"\n",
        "\n",
        "async def download(url, filename):\n",
        "    response = await pyfetch(url)\n",
        "    if response.status == 200:\n",
        "        with open(filename, \"wb\") as f:\n",
        "            f.write(await response.bytes())\n",
        "\n",
        "\n",
        "await download(filename, \"TopSellingAlbums.csv\")\n",
        "df = pd.read_csv(\"TopSellingAlbums.csv\")"
      ]
    },
    {
      "cell_type": "code",
      "execution_count": null,
      "id": "2789869a",
      "metadata": {
        "id": "2789869a"
      },
      "outputs": [],
      "source": [
        "df.head()"
      ]
    },
    {
      "cell_type": "code",
      "execution_count": null,
      "id": "9353bfa8",
      "metadata": {
        "id": "9353bfa8"
      },
      "outputs": [],
      "source": [
        "xlsx_path = 'https://s3-api.us-geo.objectstorage.softlayer.net/cf-courses-data/CognitiveClass/PY0101EN/Chapter%204/Datasets/TopSellingAlbums.xlsx'\n",
        "\n",
        "await download(xlsx_path, \"TopSellingAlbums.xlsx\")\n",
        "df = pd.read_excel(\"TopSellingAlbums.xlsx\")\n",
        "df.head()"
      ]
    },
    {
      "cell_type": "code",
      "execution_count": null,
      "id": "dfd6b8b6",
      "metadata": {
        "id": "dfd6b8b6"
      },
      "outputs": [],
      "source": [
        "df.head()"
      ]
    },
    {
      "cell_type": "code",
      "execution_count": null,
      "id": "7ca5e246",
      "metadata": {
        "id": "7ca5e246"
      },
      "outputs": [],
      "source": [
        "x = df[['Length']]\n",
        "x"
      ]
    },
    {
      "cell_type": "code",
      "execution_count": null,
      "id": "00276860",
      "metadata": {
        "id": "00276860"
      },
      "outputs": [],
      "source": [
        "x = df['Length']\n",
        "x"
      ]
    },
    {
      "cell_type": "code",
      "execution_count": null,
      "id": "5b371a8d",
      "metadata": {
        "id": "5b371a8d"
      },
      "outputs": [],
      "source": [
        "x = df[['Artist']]\n",
        "type(x)"
      ]
    },
    {
      "cell_type": "code",
      "execution_count": null,
      "id": "2333734c",
      "metadata": {
        "id": "2333734c"
      },
      "outputs": [],
      "source": [
        "y = df[['Artist','Length','Genre']]\n",
        "y"
      ]
    },
    {
      "cell_type": "code",
      "execution_count": null,
      "id": "c08bf8d3",
      "metadata": {
        "id": "c08bf8d3"
      },
      "outputs": [],
      "source": [
        "df.iloc[0, 0]"
      ]
    },
    {
      "cell_type": "code",
      "execution_count": null,
      "id": "298ba0b7",
      "metadata": {
        "id": "298ba0b7"
      },
      "outputs": [],
      "source": [
        "df.iloc[1,0]"
      ]
    },
    {
      "cell_type": "code",
      "execution_count": null,
      "id": "dc921b98",
      "metadata": {
        "id": "dc921b98"
      },
      "outputs": [],
      "source": [
        "df.iloc[0,2]"
      ]
    },
    {
      "cell_type": "code",
      "execution_count": null,
      "id": "b750a908",
      "metadata": {
        "id": "b750a908"
      },
      "outputs": [],
      "source": [
        "df.iloc[1,2]"
      ]
    },
    {
      "cell_type": "code",
      "execution_count": null,
      "id": "1ad9a1b6",
      "metadata": {
        "id": "1ad9a1b6"
      },
      "outputs": [],
      "source": [
        "df.loc[1, 'Artist']"
      ]
    },
    {
      "cell_type": "code",
      "execution_count": null,
      "id": "8f2ad83a",
      "metadata": {
        "id": "8f2ad83a"
      },
      "outputs": [],
      "source": [
        "\n",
        "df.loc[0, 'Released']"
      ]
    },
    {
      "cell_type": "code",
      "execution_count": null,
      "id": "09fe4ff7",
      "metadata": {
        "id": "09fe4ff7"
      },
      "outputs": [],
      "source": [
        "df.loc[1, 'Released']"
      ]
    },
    {
      "cell_type": "code",
      "execution_count": null,
      "id": "89db7ff7",
      "metadata": {
        "id": "89db7ff7"
      },
      "outputs": [],
      "source": [
        "df.iloc[0:2, 0:3]"
      ]
    },
    {
      "cell_type": "code",
      "execution_count": null,
      "id": "32229ed0",
      "metadata": {
        "id": "32229ed0"
      },
      "outputs": [],
      "source": [
        "df.loc[0:2, 'Artist':'Released']"
      ]
    },
    {
      "cell_type": "code",
      "execution_count": null,
      "id": "71ed9584",
      "metadata": {
        "id": "71ed9584"
      },
      "outputs": [],
      "source": [
        "q=df[['Rating']]\n",
        "q"
      ]
    },
    {
      "cell_type": "code",
      "execution_count": null,
      "id": "8469b0e0",
      "metadata": {
        "id": "8469b0e0"
      },
      "outputs": [],
      "source": [
        "q=df[['Released','Artist']]\n",
        "q"
      ]
    },
    {
      "cell_type": "code",
      "execution_count": null,
      "id": "604d4b45",
      "metadata": {
        "id": "604d4b45"
      },
      "outputs": [],
      "source": [
        "df.iloc[1,2]"
      ]
    },
    {
      "cell_type": "code",
      "execution_count": null,
      "id": "a921f0ca",
      "metadata": {
        "id": "a921f0ca"
      },
      "outputs": [],
      "source": [
        "new_index=['a','b','c','d','e','f','g','h']\n",
        "df_new=df\n",
        "df_new.index=new_index\n",
        "df_new.loc['a','Artist']\n",
        "df_new.loc['a':'d','Artist']"
      ]
    },
    {
      "cell_type": "code",
      "execution_count": null,
      "id": "bfa41fee",
      "metadata": {
        "id": "bfa41fee"
      },
      "outputs": [],
      "source": [
        "import pandas as pd\n",
        "\n",
        "df=pd.DataFrame({'a':[11,21,31],'b':[21,22,23]})"
      ]
    },
    {
      "cell_type": "code",
      "execution_count": null,
      "id": "ac608661",
      "metadata": {
        "id": "ac608661"
      },
      "outputs": [],
      "source": [
        "df.head(3)"
      ]
    },
    {
      "cell_type": "code",
      "execution_count": null,
      "id": "42560de2",
      "metadata": {
        "id": "42560de2"
      },
      "outputs": [],
      "source": [
        "df['a']"
      ]
    },
    {
      "cell_type": "code",
      "execution_count": null,
      "id": "ecb52602",
      "metadata": {
        "id": "ecb52602"
      },
      "outputs": [],
      "source": [
        "import pandas as banana\n",
        "\n",
        "df=banana.DataFrame({'a':[11,21,31],'b':[21,22,23]})\n",
        "\n",
        "df.head()"
      ]
    },
    {
      "cell_type": "code",
      "execution_count": null,
      "id": "dd4a438e",
      "metadata": {
        "id": "dd4a438e"
      },
      "outputs": [],
      "source": [
        "import pandas as pd\n",
        "\n",
        "df=pd.DataFrame({'a':[1,2,1],'b':[1,1,1]})"
      ]
    },
    {
      "cell_type": "code",
      "execution_count": null,
      "id": "5e4a1cf4",
      "metadata": {
        "id": "5e4a1cf4"
      },
      "outputs": [],
      "source": [
        "df['a'].unique()"
      ]
    },
    {
      "cell_type": "code",
      "execution_count": null,
      "id": "a5dbc930",
      "metadata": {
        "id": "a5dbc930"
      },
      "outputs": [],
      "source": [
        "df1=df[df['a']<2]\n",
        "df1"
      ]
    },
    {
      "cell_type": "code",
      "execution_count": null,
      "id": "4b20d9dd",
      "metadata": {
        "id": "4b20d9dd"
      },
      "outputs": [],
      "source": [
        "df=pd.DataFrame({'a':[1,2,1],'b':[1,1,1]})\n",
        "df['a']==1 "
      ]
    },
    {
      "cell_type": "code",
      "execution_count": null,
      "id": "e0e66efa",
      "metadata": {
        "id": "e0e66efa"
      },
      "outputs": [],
      "source": [
        "import pandas as pd"
      ]
    },
    {
      "cell_type": "code",
      "execution_count": null,
      "id": "8665682a",
      "metadata": {
        "id": "8665682a"
      },
      "outputs": [],
      "source": [
        "x = {'Name': ['Rose','John', 'Jane', 'Mary'], 'ID': [1, 2, 3, 4], 'Department': ['Architect Group', 'Software Group', 'Design Team', 'Infrastructure'], \n",
        "      'Salary':[100000, 80000, 50000, 60000]}\n",
        "df = pd.DataFrame(x)\n",
        "df"
      ]
    },
    {
      "cell_type": "code",
      "execution_count": null,
      "id": "19a985bb",
      "metadata": {
        "id": "19a985bb"
      },
      "outputs": [],
      "source": [
        "x = df[['ID']]\n",
        "x"
      ]
    },
    {
      "cell_type": "code",
      "execution_count": null,
      "id": "d7c85c8c",
      "metadata": {
        "id": "d7c85c8c"
      },
      "outputs": [],
      "source": [
        "type(x)"
      ]
    },
    {
      "cell_type": "code",
      "execution_count": null,
      "id": "e9488801",
      "metadata": {
        "id": "e9488801"
      },
      "outputs": [],
      "source": [
        "z = df[['Department','Salary','ID']]\n",
        "z"
      ]
    },
    {
      "cell_type": "code",
      "execution_count": null,
      "id": "e09ee86a",
      "metadata": {
        "id": "e09ee86a"
      },
      "outputs": [],
      "source": [
        "a={'Student':['David','Samuel','Terry','Evan'],\n",
        "   'Age':['27','24','22','32'],\n",
        "   'Country':['UK','Canada','China','USA'],\n",
        "   'Course':['Python','Data Structures','Machine Learning','Web development'],\n",
        "   'Marks':['85','72','89','76']}\n",
        "df1=pd.DataFrame(a)\n",
        "df1"
      ]
    },
    {
      "cell_type": "code",
      "execution_count": null,
      "id": "a3744063",
      "metadata": {
        "id": "a3744063"
      },
      "outputs": [],
      "source": [
        "b=df1[['Marks']]\n",
        "b"
      ]
    },
    {
      "cell_type": "code",
      "execution_count": null,
      "id": "eb98c494",
      "metadata": {
        "id": "eb98c494"
      },
      "outputs": [],
      "source": [
        "c=df1[['Country','Course']]\n",
        "c"
      ]
    },
    {
      "cell_type": "code",
      "execution_count": null,
      "id": "986d43bd",
      "metadata": {
        "id": "986d43bd"
      },
      "outputs": [],
      "source": [
        "x = df['Name']\n",
        "x"
      ]
    },
    {
      "cell_type": "code",
      "execution_count": null,
      "id": "71ba9310",
      "metadata": {
        "id": "71ba9310"
      },
      "outputs": [],
      "source": [
        "type(x)"
      ]
    },
    {
      "cell_type": "code",
      "execution_count": null,
      "id": "2d3d6c7a",
      "metadata": {
        "id": "2d3d6c7a"
      },
      "outputs": [],
      "source": [
        "df.iloc[0, 0]"
      ]
    },
    {
      "cell_type": "code",
      "execution_count": null,
      "id": "5470757b",
      "metadata": {
        "id": "5470757b"
      },
      "outputs": [],
      "source": [
        "df.iloc[0,2]"
      ]
    },
    {
      "cell_type": "code",
      "execution_count": null,
      "id": "87e704ef",
      "metadata": {
        "id": "87e704ef"
      },
      "outputs": [],
      "source": [
        "df.loc[0, 'Salary']"
      ]
    },
    {
      "cell_type": "code",
      "execution_count": null,
      "id": "5e69ec68",
      "metadata": {
        "id": "5e69ec68"
      },
      "outputs": [],
      "source": [
        "df2=df\n",
        "df2=df2.set_index(\"Name\")"
      ]
    },
    {
      "cell_type": "code",
      "execution_count": null,
      "id": "fa4207bf",
      "metadata": {
        "id": "fa4207bf"
      },
      "outputs": [],
      "source": [
        "df2.head()"
      ]
    },
    {
      "cell_type": "code",
      "execution_count": null,
      "id": "3fea5c1f",
      "metadata": {
        "id": "3fea5c1f"
      },
      "outputs": [],
      "source": [
        "df2.loc['Jane', 'Salary']"
      ]
    },
    {
      "cell_type": "code",
      "execution_count": null,
      "id": "b0b36849",
      "metadata": {
        "id": "b0b36849"
      },
      "outputs": [],
      "source": [
        "df2.loc['Jane','Department']"
      ]
    },
    {
      "cell_type": "code",
      "execution_count": null,
      "id": "a2a9376c",
      "metadata": {
        "id": "a2a9376c"
      },
      "outputs": [],
      "source": [
        "df2.iloc[3,2]"
      ]
    },
    {
      "cell_type": "code",
      "execution_count": null,
      "id": "f7d9c416",
      "metadata": {
        "id": "f7d9c416"
      },
      "outputs": [],
      "source": [
        "df.iloc[0:2, 0:3]"
      ]
    },
    {
      "cell_type": "code",
      "execution_count": null,
      "id": "57b5d6e7",
      "metadata": {
        "id": "57b5d6e7"
      },
      "outputs": [],
      "source": [
        "df.loc[0:2,'ID':'Department']"
      ]
    },
    {
      "cell_type": "code",
      "execution_count": null,
      "id": "45c0f723",
      "metadata": {
        "id": "45c0f723"
      },
      "outputs": [],
      "source": [
        "df2.loc['Rose':'Jane', 'ID':'Department']"
      ]
    },
    {
      "cell_type": "code",
      "execution_count": null,
      "id": "96aba9e6",
      "metadata": {
        "id": "96aba9e6"
      },
      "outputs": [],
      "source": [
        "df.loc[2:3,'Name':'Department']"
      ]
    },
    {
      "cell_type": "code",
      "execution_count": null,
      "id": "6293d436",
      "metadata": {
        "id": "6293d436"
      },
      "outputs": [],
      "source": []
    }
  ],
  "metadata": {
    "kernelspec": {
      "display_name": "Python 3 (ipykernel)",
      "language": "python",
      "name": "python3"
    },
    "language_info": {
      "codemirror_mode": {
        "name": "ipython",
        "version": 3
      },
      "file_extension": ".py",
      "mimetype": "text/x-python",
      "name": "python",
      "nbconvert_exporter": "python",
      "pygments_lexer": "ipython3",
      "version": "3.9.12"
    },
    "colab": {
      "provenance": [],
      "include_colab_link": true
    }
  },
  "nbformat": 4,
  "nbformat_minor": 5
}